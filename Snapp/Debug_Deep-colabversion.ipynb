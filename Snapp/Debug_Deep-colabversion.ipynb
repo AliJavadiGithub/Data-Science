{
 "cells": [
  {
   "cell_type": "code",
   "execution_count": 54,
   "id": "94eafe39-6883-4afd-863a-29b6f34d8f6a",
   "metadata": {
    "colab": {
     "base_uri": "https://localhost:8080/"
    },
    "id": "94eafe39-6883-4afd-863a-29b6f34d8f6a",
    "outputId": "02222de0-d5cb-4d5e-a7aa-bc1b8ef9a385"
   },
   "outputs": [
    {
     "name": "stdout",
     "output_type": "stream",
     "text": [
      "<class 'pandas.core.frame.DataFrame'>\n",
      "RangeIndex: 80692 entries, 0 to 80691\n",
      "Data columns (total 26 columns):\n",
      " #   Column                                           Non-Null Count  Dtype  \n",
      "---  ------                                           --------------  -----  \n",
      " 0   passenger_unique_identifier                      80692 non-null  float64\n",
      " 1   driver_unique_identifier                         71166 non-null  float64\n",
      " 2   approximate_distance_meter                       80692 non-null  int64  \n",
      " 3   final_price                                      80692 non-null  float64\n",
      " 4   waiting_time_enabled                             80692 non-null  int64  \n",
      " 5   second_destination_final_price                   80692 non-null  float64\n",
      " 6   round_ride_final_price                           80692 non-null  float64\n",
      " 7   for_friend_enabled                               80692 non-null  int64  \n",
      " 8   is_voucher_used                                  0 non-null      float64\n",
      " 9   intercity                                        80692 non-null  int64  \n",
      " 10  request_datetime                                 80692 non-null  object \n",
      " 11  origin_latitude                                  80692 non-null  float64\n",
      " 12  origin_longitude                                 80692 non-null  float64\n",
      " 13  destination_latitude                             80692 non-null  float64\n",
      " 14  destination_longitude                            80692 non-null  float64\n",
      " 15  second_destination_latitude                      80692 non-null  float64\n",
      " 16  second_destination_longitude                     80692 non-null  float64\n",
      " 17  requested_service_type                           80692 non-null  object \n",
      " 18  days_since_passenger_first_ride                  80692 non-null  int64  \n",
      " 19  days_since_passenger_first_request               80692 non-null  int64  \n",
      " 20  in_hurry_enabled                                 80692 non-null  int64  \n",
      " 21  ride (target)                                    80692 non-null  int64  \n",
      " 22  treatment_group                                  71166 non-null  object \n",
      " 23  ('new_origin_latitude', 'new_origin_longitude')  80692 non-null  object \n",
      " 24  new_origin_latitude                              80692 non-null  float64\n",
      " 25  new_origin_longitude                             80692 non-null  float64\n",
      "dtypes: float64(14), int64(8), object(4)\n",
      "memory usage: 16.0+ MB\n"
     ]
    }
   ],
   "source": [
    "import pandas as pd\n",
    "import numpy as np\n",
    "\n",
    "import seaborn as sns\n",
    "import matplotlib.pyplot as plt\n",
    "import matplotlib as mpl\n",
    "\n",
    "from sklearn.decomposition import PCA, TruncatedSVD\n",
    "from sklearn.manifold import TSNE\n",
    "import matplotlib.patches as mpatches\n",
    "\n",
    "\n",
    "from xgboost import XGBClassifier\n",
    "import xgboost as xgb\n",
    "from sklearn.linear_model import LogisticRegression\n",
    "from sklearn.svm import SVC\n",
    "from sklearn.neighbors import KNeighborsClassifier\n",
    "from sklearn.tree import DecisionTreeClassifier\n",
    "from sklearn.ensemble import RandomForestClassifier\n",
    "from lazypredict.Supervised import LazyClassifier\n",
    "\n",
    "from imblearn.pipeline import make_pipeline as imbalanced_make_pipeline\n",
    "from imblearn.under_sampling import NearMiss\n",
    "from imblearn.over_sampling import SMOTE\n",
    "\n",
    "from sklearn.model_selection import KFold, StratifiedKFold, train_test_split, RandomizedSearchCV\n",
    "from sklearn.preprocessing import StandardScaler, RobustScaler, OneHotEncoder\n",
    "from sklearn.metrics import precision_score, recall_score, f1_score, roc_auc_score, accuracy_score, classification_report, balanced_accuracy_score\n",
    "from sklearn.pipeline import make_pipeline\n",
    "from sklearn.compose import make_column_transformer\n",
    "from sklearn.impute import SimpleImputer\n",
    "\n",
    "import time\n",
    "\n",
    "import warnings\n",
    "warnings.filterwarnings('ignore')\n",
    "# Read the data from CSV file\n",
    "data = pd.read_csv(\"train.csv\")\n",
    "\n",
    "# Get basic information about the data\n",
    "data.info()\n"
   ]
  },
  {
   "cell_type": "markdown",
   "id": "8da44bd9-37f0-4d78-b9b9-ff5aed8f848e",
   "metadata": {
    "id": "8da44bd9-37f0-4d78-b9b9-ff5aed8f848e"
   },
   "source": [
    "## Find Columns with Missing Values in Data"
   ]
  },
  {
   "cell_type": "code",
   "execution_count": 2,
   "id": "c5634004-9cf8-4115-a0d4-e4e80c4809c9",
   "metadata": {
    "colab": {
     "base_uri": "https://localhost:8080/"
    },
    "id": "c5634004-9cf8-4115-a0d4-e4e80c4809c9",
    "outputId": "5c1e5372-ced2-4909-8904-bc9684d37ac0"
   },
   "outputs": [
    {
     "name": "stdout",
     "output_type": "stream",
     "text": [
      "Missing values summary:\n",
      "passenger_unique_identifier                            0\n",
      "driver_unique_identifier                            9526\n",
      "approximate_distance_meter                             0\n",
      "final_price                                            0\n",
      "waiting_time_enabled                                   0\n",
      "second_destination_final_price                         0\n",
      "round_ride_final_price                                 0\n",
      "for_friend_enabled                                     0\n",
      "is_voucher_used                                    80692\n",
      "intercity                                              0\n",
      "request_datetime                                       0\n",
      "origin_latitude                                        0\n",
      "origin_longitude                                       0\n",
      "destination_latitude                                   0\n",
      "destination_longitude                                  0\n",
      "second_destination_latitude                            0\n",
      "second_destination_longitude                           0\n",
      "requested_service_type                                 0\n",
      "days_since_passenger_first_ride                        0\n",
      "days_since_passenger_first_request                     0\n",
      "in_hurry_enabled                                       0\n",
      "ride (target)                                          0\n",
      "treatment_group                                     9526\n",
      "('new_origin_latitude', 'new_origin_longitude')        0\n",
      "new_origin_latitude                                    0\n",
      "new_origin_longitude                                   0\n",
      "dtype: int64\n"
     ]
    }
   ],
   "source": [
    "# Check for missing values\n",
    "print(\"Missing values summary:\")\n",
    "print(data.isnull().sum())"
   ]
  },
  {
   "cell_type": "code",
   "execution_count": 3,
   "id": "0e596228-77ba-447e-90a5-22d20b8fff53",
   "metadata": {
    "colab": {
     "base_uri": "https://localhost:8080/"
    },
    "id": "0e596228-77ba-447e-90a5-22d20b8fff53",
    "outputId": "a9575d8d-5901-403c-a081-f3f435f75b7a"
   },
   "outputs": [
    {
     "data": {
      "text/plain": [
       "passenger_unique_identifier                         0.00\n",
       "driver_unique_identifier                           11.81\n",
       "approximate_distance_meter                          0.00\n",
       "final_price                                         0.00\n",
       "waiting_time_enabled                                0.00\n",
       "second_destination_final_price                      0.00\n",
       "round_ride_final_price                              0.00\n",
       "for_friend_enabled                                  0.00\n",
       "is_voucher_used                                   100.00\n",
       "intercity                                           0.00\n",
       "request_datetime                                    0.00\n",
       "origin_latitude                                     0.00\n",
       "origin_longitude                                    0.00\n",
       "destination_latitude                                0.00\n",
       "destination_longitude                               0.00\n",
       "second_destination_latitude                         0.00\n",
       "second_destination_longitude                        0.00\n",
       "requested_service_type                              0.00\n",
       "days_since_passenger_first_ride                     0.00\n",
       "days_since_passenger_first_request                  0.00\n",
       "in_hurry_enabled                                    0.00\n",
       "ride (target)                                       0.00\n",
       "treatment_group                                    11.81\n",
       "('new_origin_latitude', 'new_origin_longitude')     0.00\n",
       "new_origin_latitude                                 0.00\n",
       "new_origin_longitude                                0.00\n",
       "dtype: float64"
      ]
     },
     "execution_count": 3,
     "metadata": {},
     "output_type": "execute_result"
    }
   ],
   "source": [
    "(data.isnull().sum()/(len(data)))*100"
   ]
  },
  {
   "cell_type": "code",
   "execution_count": 4,
   "id": "b21df292-78d5-4feb-983a-306cc6e1758f",
   "metadata": {
    "colab": {
     "base_uri": "https://localhost:8080/"
    },
    "id": "b21df292-78d5-4feb-983a-306cc6e1758f",
    "outputId": "9821a31d-5327-4a41-fb55-96dcd434c593"
   },
   "outputs": [
    {
     "data": {
      "text/plain": [
       "treatment_group\n",
       "A    70386\n",
       "B      780\n",
       "Name: count, dtype: int64"
      ]
     },
     "execution_count": 4,
     "metadata": {},
     "output_type": "execute_result"
    }
   ],
   "source": [
    "data.treatment_group.value_counts()"
   ]
  },
  {
   "cell_type": "code",
   "execution_count": 5,
   "id": "8624eee4-c1fe-4ab5-aeb7-4b0eb1cc9294",
   "metadata": {
    "colab": {
     "base_uri": "https://localhost:8080/"
    },
    "id": "8624eee4-c1fe-4ab5-aeb7-4b0eb1cc9294",
    "outputId": "220482e9-8b20-4287-d18e-55b1c1d4acce"
   },
   "outputs": [
    {
     "data": {
      "text/plain": [
       "ride (target)\n",
       "1    56589\n",
       "0    13797\n",
       "Name: count, dtype: int64"
      ]
     },
     "execution_count": 5,
     "metadata": {},
     "output_type": "execute_result"
    }
   ],
   "source": [
    "data.loc[data.treatment_group == \"A\", \"ride (target)\"].value_counts()"
   ]
  },
  {
   "cell_type": "code",
   "execution_count": 6,
   "id": "18a4633e-2790-4993-bbd5-0f755099c968",
   "metadata": {
    "id": "18a4633e-2790-4993-bbd5-0f755099c968"
   },
   "outputs": [],
   "source": [
    "data['treatment_group'].fillna(data['treatment_group'].mode()[0], inplace=True)"
   ]
  },
  {
   "cell_type": "markdown",
   "id": "4a23f1d5-66b0-4094-8eab-bf811762e4f2",
   "metadata": {
    "id": "4a23f1d5-66b0-4094-8eab-bf811762e4f2"
   },
   "source": [
    "## Find Duplicate Records in Data"
   ]
  },
  {
   "cell_type": "code",
   "execution_count": 7,
   "id": "eb84810e-23da-486a-9110-5f22d4a1ae95",
   "metadata": {
    "colab": {
     "base_uri": "https://localhost:8080/"
    },
    "id": "eb84810e-23da-486a-9110-5f22d4a1ae95",
    "outputId": "2c61f9ab-eb51-4806-e85b-4a0ba5128d82"
   },
   "outputs": [
    {
     "data": {
      "text/plain": [
       "0"
      ]
     },
     "execution_count": 7,
     "metadata": {},
     "output_type": "execute_result"
    }
   ],
   "source": [
    "data.duplicated().sum()"
   ]
  },
  {
   "cell_type": "markdown",
   "id": "c0367717-6cf1-4700-ad8a-d04b1a0d3dc1",
   "metadata": {
    "id": "c0367717-6cf1-4700-ad8a-d04b1a0d3dc1"
   },
   "source": [
    "## Rename Target Columns in Data for more Convenient Data Manipulation"
   ]
  },
  {
   "cell_type": "code",
   "execution_count": 8,
   "id": "bdb7939b-45d8-4a7e-8d21-16c957f49336",
   "metadata": {
    "id": "bdb7939b-45d8-4a7e-8d21-16c957f49336"
   },
   "outputs": [],
   "source": [
    "data = data.rename(columns = {\"ride (target)\":\"target\"})"
   ]
  },
  {
   "cell_type": "markdown",
   "id": "e032d817-527f-4e38-aa28-b62dd2adeda5",
   "metadata": {
    "id": "e032d817-527f-4e38-aa28-b62dd2adeda5"
   },
   "source": [
    "## Drop Useless Columns"
   ]
  },
  {
   "cell_type": "code",
   "execution_count": 9,
   "id": "0e61a001-e6c6-4aba-8c4d-4d587f2b9a7a",
   "metadata": {
    "id": "0e61a001-e6c6-4aba-8c4d-4d587f2b9a7a"
   },
   "outputs": [],
   "source": [
    "data = data.drop([\"('new_origin_latitude', 'new_origin_longitude')\", \"is_voucher_used\",\n",
    "                                                  \"driver_unique_identifier\", \"passenger_unique_identifier\"], axis=\"columns\")"
   ]
  },
  {
   "cell_type": "markdown",
   "id": "78045529-53ee-4be2-a596-95b76f214b19",
   "metadata": {
    "id": "78045529-53ee-4be2-a596-95b76f214b19"
   },
   "source": [
    "## Drop Rows with Missing Data"
   ]
  },
  {
   "cell_type": "code",
   "execution_count": 10,
   "id": "96437b93-8ecf-453d-8924-f46e192513bc",
   "metadata": {
    "id": "96437b93-8ecf-453d-8924-f46e192513bc"
   },
   "outputs": [],
   "source": [
    "data = data.dropna()"
   ]
  },
  {
   "cell_type": "code",
   "execution_count": 11,
   "id": "bb69ddaa-0b54-4f83-9ff6-2b407fc312fc",
   "metadata": {
    "id": "bb69ddaa-0b54-4f83-9ff6-2b407fc312fc"
   },
   "outputs": [],
   "source": [
    "data['request_datetime'] = pd.to_datetime(data['request_datetime'])"
   ]
  },
  {
   "cell_type": "markdown",
   "id": "6ad6740a-167a-480c-900e-3fb8b002ce68",
   "metadata": {
    "id": "6ad6740a-167a-480c-900e-3fb8b002ce68"
   },
   "source": [
    "## Convert Column Containing Date to DateTime"
   ]
  },
  {
   "cell_type": "code",
   "execution_count": 12,
   "id": "91799d34-2c33-414e-a95e-b95e261a63f8",
   "metadata": {
    "colab": {
     "base_uri": "https://localhost:8080/"
    },
    "id": "91799d34-2c33-414e-a95e-b95e261a63f8",
    "outputId": "4a6b4d2c-1bd5-403e-a584-c89231c20cf4"
   },
   "outputs": [
    {
     "name": "stdout",
     "output_type": "stream",
     "text": [
      "Data types:\n",
      "approximate_distance_meter                                int64\n",
      "final_price                                             float64\n",
      "waiting_time_enabled                                      int64\n",
      "second_destination_final_price                          float64\n",
      "round_ride_final_price                                  float64\n",
      "for_friend_enabled                                        int64\n",
      "intercity                                                 int64\n",
      "request_datetime                      datetime64[ns, UTC+03:30]\n",
      "origin_latitude                                         float64\n",
      "origin_longitude                                        float64\n",
      "destination_latitude                                    float64\n",
      "destination_longitude                                   float64\n",
      "second_destination_latitude                             float64\n",
      "second_destination_longitude                            float64\n",
      "requested_service_type                                   object\n",
      "days_since_passenger_first_ride                           int64\n",
      "days_since_passenger_first_request                        int64\n",
      "in_hurry_enabled                                          int64\n",
      "target                                                    int64\n",
      "treatment_group                                          object\n",
      "new_origin_latitude                                     float64\n",
      "new_origin_longitude                                    float64\n",
      "dtype: object\n"
     ]
    }
   ],
   "source": [
    "# Analyze data types\n",
    "print(\"Data types:\")\n",
    "print(data.dtypes)"
   ]
  },
  {
   "cell_type": "markdown",
   "id": "96bedc2d-15ab-4aa4-b5c1-ff0e93f5aad6",
   "metadata": {
    "id": "96bedc2d-15ab-4aa4-b5c1-ff0e93f5aad6"
   },
   "source": [
    "## Investigate Unique Values of Features to Decide if they should be converted to Categorical Type"
   ]
  },
  {
   "cell_type": "code",
   "execution_count": 13,
   "id": "fda9bd50-e86a-421f-9b45-95efaf15cf96",
   "metadata": {
    "colab": {
     "base_uri": "https://localhost:8080/"
    },
    "id": "fda9bd50-e86a-421f-9b45-95efaf15cf96",
    "outputId": "29fef1ea-8398-4be3-fa9d-0793ff694d97"
   },
   "outputs": [
    {
     "data": {
      "text/plain": [
       "approximate_distance_meter            14341\n",
       "final_price                             430\n",
       "waiting_time_enabled                      2\n",
       "second_destination_final_price         1878\n",
       "round_ride_final_price                  706\n",
       "for_friend_enabled                        2\n",
       "intercity                                 2\n",
       "request_datetime                      75692\n",
       "origin_latitude                        8479\n",
       "origin_longitude                       8479\n",
       "destination_latitude                   8479\n",
       "destination_longitude                  8479\n",
       "second_destination_latitude            8479\n",
       "second_destination_longitude           8479\n",
       "requested_service_type                    5\n",
       "days_since_passenger_first_ride        2394\n",
       "days_since_passenger_first_request     2405\n",
       "in_hurry_enabled                          4\n",
       "target                                    2\n",
       "treatment_group                           2\n",
       "new_origin_latitude                   80692\n",
       "new_origin_longitude                  80692\n",
       "dtype: int64"
      ]
     },
     "execution_count": 13,
     "metadata": {},
     "output_type": "execute_result"
    }
   ],
   "source": [
    "data.nunique()"
   ]
  },
  {
   "cell_type": "markdown",
   "id": "473808af-d85e-463c-913f-8542318489ef",
   "metadata": {
    "id": "473808af-d85e-463c-913f-8542318489ef"
   },
   "source": [
    "## Binarize the featuer \"in_hurry_enabled\""
   ]
  },
  {
   "cell_type": "code",
   "execution_count": 14,
   "id": "01d63122-8d1f-4567-9dce-90ede0533978",
   "metadata": {
    "colab": {
     "base_uri": "https://localhost:8080/"
    },
    "id": "01d63122-8d1f-4567-9dce-90ede0533978",
    "outputId": "c5a7a791-3162-463a-969a-009876a2f7a8"
   },
   "outputs": [
    {
     "data": {
      "text/plain": [
       "array([0, 1, 2, 3], dtype=int64)"
      ]
     },
     "execution_count": 14,
     "metadata": {},
     "output_type": "execute_result"
    }
   ],
   "source": [
    "data.in_hurry_enabled.unique()"
   ]
  },
  {
   "cell_type": "code",
   "execution_count": 15,
   "id": "76b54550-4e30-4aeb-9be4-3319287e646c",
   "metadata": {
    "id": "76b54550-4e30-4aeb-9be4-3319287e646c"
   },
   "outputs": [],
   "source": [
    "encode={'in_hurry_enabled':{0:0, 1:1, 2:1, 3:1}}\n",
    "data = data.replace(encode)"
   ]
  },
  {
   "cell_type": "code",
   "execution_count": 16,
   "id": "33ff0087-0da4-4032-ba3f-e5ee35a600be",
   "metadata": {
    "colab": {
     "base_uri": "https://localhost:8080/"
    },
    "id": "33ff0087-0da4-4032-ba3f-e5ee35a600be",
    "outputId": "a02e4d39-1840-423e-86b1-56b40fabef6a"
   },
   "outputs": [
    {
     "data": {
      "text/plain": [
       "approximate_distance_meter            14341\n",
       "final_price                             430\n",
       "waiting_time_enabled                      2\n",
       "second_destination_final_price         1878\n",
       "round_ride_final_price                  706\n",
       "for_friend_enabled                        2\n",
       "intercity                                 2\n",
       "request_datetime                      75692\n",
       "origin_latitude                        8479\n",
       "origin_longitude                       8479\n",
       "destination_latitude                   8479\n",
       "destination_longitude                  8479\n",
       "second_destination_latitude            8479\n",
       "second_destination_longitude           8479\n",
       "requested_service_type                    5\n",
       "days_since_passenger_first_ride        2394\n",
       "days_since_passenger_first_request     2405\n",
       "in_hurry_enabled                          2\n",
       "target                                    2\n",
       "treatment_group                           2\n",
       "new_origin_latitude                   80692\n",
       "new_origin_longitude                  80692\n",
       "dtype: int64"
      ]
     },
     "execution_count": 16,
     "metadata": {},
     "output_type": "execute_result"
    }
   ],
   "source": [
    "data.nunique()"
   ]
  },
  {
   "cell_type": "markdown",
   "id": "e90d6bc9-4f14-47ac-8b7b-d2a132270519",
   "metadata": {
    "id": "e90d6bc9-4f14-47ac-8b7b-d2a132270519"
   },
   "source": [
    "## Compute Price per Meter"
   ]
  },
  {
   "cell_type": "code",
   "execution_count": 17,
   "id": "192c4fbd-d786-4d7f-b820-475cf6bbac35",
   "metadata": {
    "id": "192c4fbd-d786-4d7f-b820-475cf6bbac35"
   },
   "outputs": [],
   "source": [
    "data[\"price_per_meter\"] = data.apply(lambda df: 0 if df[\"approximate_distance_meter\"] == 0\n",
    "                                                                                 else df[\"final_price\"]/df[\"approximate_distance_meter\"], axis=1)"
   ]
  },
  {
   "cell_type": "markdown",
   "id": "287120fc-07f1-4d9c-bcef-f7be4cdef65f",
   "metadata": {
    "id": "287120fc-07f1-4d9c-bcef-f7be4cdef65f"
   },
   "source": [
    "## Deep Learning"
   ]
  },
  {
   "cell_type": "code",
   "execution_count": 18,
   "id": "f6fee405-12b0-46f7-88e5-038458527a47",
   "metadata": {
    "id": "f6fee405-12b0-46f7-88e5-038458527a47"
   },
   "outputs": [],
   "source": [
    "def date_info_extractor(data, column):\n",
    "    data.loc[:, 'request_hour'] = data[column].dt.hour\n",
    "    data.loc[:, 'request_weekday'] = data[column].dt.day_name()\n",
    "    data.loc[:, 'request_date'] = data[column].dt.day\n",
    "\n",
    "    return data\n",
    "\n",
    "data = date_info_extractor(data.copy(), \"request_datetime\")\n",
    "\n",
    "data = data.drop([\"origin_longitude\", \"destination_longitude\", \"second_destination_longitude\",\n",
    "                  \"origin_latitude\", \"destination_latitude\", \"second_destination_latitude\", \"request_datetime\"], axis=\"columns\")"
   ]
  },
  {
   "cell_type": "code",
   "execution_count": 19,
   "id": "1aaa6c82-15a9-4946-853e-f7b3319521e8",
   "metadata": {
    "colab": {
     "base_uri": "https://localhost:8080/"
    },
    "id": "1aaa6c82-15a9-4946-853e-f7b3319521e8",
    "outputId": "45b4cedb-247b-40be-a3db-7a55ccd07404"
   },
   "outputs": [
    {
     "data": {
      "text/plain": [
       "approximate_distance_meter            14341\n",
       "final_price                             430\n",
       "waiting_time_enabled                      2\n",
       "second_destination_final_price         1878\n",
       "round_ride_final_price                  706\n",
       "for_friend_enabled                        2\n",
       "intercity                                 2\n",
       "requested_service_type                    5\n",
       "days_since_passenger_first_ride        2394\n",
       "days_since_passenger_first_request     2405\n",
       "in_hurry_enabled                          2\n",
       "target                                    2\n",
       "treatment_group                           2\n",
       "new_origin_latitude                   80692\n",
       "new_origin_longitude                  80692\n",
       "price_per_meter                       61974\n",
       "request_hour                             24\n",
       "request_weekday                           7\n",
       "request_date                             10\n",
       "dtype: int64"
      ]
     },
     "execution_count": 19,
     "metadata": {},
     "output_type": "execute_result"
    }
   ],
   "source": [
    "data.nunique()"
   ]
  },
  {
   "cell_type": "code",
   "execution_count": 20,
   "id": "66def74b-febb-489e-abff-7a67b8368fb1",
   "metadata": {
    "id": "66def74b-febb-489e-abff-7a67b8368fb1"
   },
   "outputs": [],
   "source": [
    "X = data.copy()\n",
    "y = X.pop('target')\n",
    "\n",
    "features_num = [\n",
    "    \"approximate_distance_meter\", \"final_price\",\n",
    "    \"second_destination_final_price\", \"round_ride_final_price\",\n",
    "    \"days_since_passenger_first_ride\", \"days_since_passenger_first_request\",\n",
    "    \"new_origin_latitude\", \"new_origin_longitude\", \"price_per_meter\",\n",
    "]\n",
    "features_cat = [\n",
    "    \"waiting_time_enabled\", \"for_friend_enabled\", \"intercity\",\n",
    "    \"requested_service_type\", \"in_hurry_enabled\",\n",
    "    \"request_weekday\", \"request_hour\", \"request_date\",\n",
    "]\n",
    "\n",
    "transformer_num = make_pipeline(\n",
    "    SimpleImputer(strategy=\"most_frequent\"), # there are a few missing values\n",
    "    StandardScaler(),\n",
    ")\n",
    "transformer_cat = make_pipeline(\n",
    "    SimpleImputer(strategy=\"most_frequent\"),\n",
    "    OneHotEncoder(handle_unknown='ignore', sparse=False),\n",
    ")\n",
    "\n",
    "preprocessor = make_column_transformer(\n",
    "    (transformer_num, features_num),\n",
    "    (transformer_cat, features_cat),\n",
    ")\n",
    "\n",
    "# stratify - make sure classes are evenlly represented across splits\n",
    "X_train, X_valid, y_train, y_valid = \\\n",
    "    train_test_split(X, y, stratify=y, train_size=0.8)\n",
    "\n",
    "X_train = preprocessor.fit_transform(X_train)\n",
    "X_valid = preprocessor.transform(X_valid)\n",
    "\n",
    "input_shape = [X_train.shape[1]]"
   ]
  },
  {
   "cell_type": "code",
   "execution_count": 21,
   "id": "61aa1d2d-d77e-45b8-a6dd-28b4951df0d9",
   "metadata": {
    "id": "61aa1d2d-d77e-45b8-a6dd-28b4951df0d9"
   },
   "outputs": [],
   "source": [
    "from tensorflow import keras\n",
    "from tensorflow.keras import layers\n",
    "\n",
    "model = keras.Sequential([\n",
    "    layers.BatchNormalization(input_shape = input_shape),\n",
    "    layers.Dense(128, activation = 'relu'),\n",
    "    layers.BatchNormalization(),\n",
    "    layers.Dropout(0.5),\n",
    "    layers.Dense(64, activation = 'relu'),\n",
    "    layers.BatchNormalization(),\n",
    "    # layers.Dropout(0.3),\n",
    "    # layers.Dense(64, activation = 'relu'),\n",
    "    # layers.BatchNormalization(),\n",
    "    layers.Dropout(0.5),\n",
    "    layers.Dense(1, activation = 'sigmoid')\n",
    "])\n"
   ]
  },
  {
   "cell_type": "code",
   "execution_count": 22,
   "id": "YByKdZpjA-Eg",
   "metadata": {
    "id": "YByKdZpjA-Eg"
   },
   "outputs": [],
   "source": [
    "METRICS = [\n",
    "      keras.metrics.BinaryCrossentropy(name='cross entropy'),  # same as model's loss\n",
    "      keras.metrics.MeanSquaredError(name='Brier score'),\n",
    "      keras.metrics.TruePositives(name='tp'),\n",
    "      keras.metrics.FalsePositives(name='fp'),\n",
    "      keras.metrics.TrueNegatives(name='tn'),\n",
    "      keras.metrics.FalseNegatives(name='fn'),\n",
    "      keras.metrics.BinaryAccuracy(name='accuracy'),\n",
    "      keras.metrics.Precision(name='precision'),\n",
    "      keras.metrics.Recall(name='recall'),\n",
    "      keras.metrics.AUC(name='auc'),\n",
    "      keras.metrics.AUC(name='prc', curve='PR'), # precision-recall curve\n",
    "]\n",
    "\n",
    "model.compile(\n",
    "    optimizer = \"adam\",\n",
    "    loss = \"binary_crossentropy\",\n",
    "    metrics = METRICS\n",
    ")"
   ]
  },
  {
   "cell_type": "code",
   "execution_count": 23,
   "id": "909r1j92CSpr",
   "metadata": {
    "colab": {
     "base_uri": "https://localhost:8080/",
     "height": 1000
    },
    "id": "909r1j92CSpr",
    "outputId": "24a2ef8c-15a7-4071-fb4e-5e7ef19a2404"
   },
   "outputs": [
    {
     "name": "stdout",
     "output_type": "stream",
     "text": [
      "Epoch 1/200\n",
      "\u001b[1m127/127\u001b[0m \u001b[32m━━━━━━━━━━━━━━━━━━━━\u001b[0m\u001b[37m\u001b[0m \u001b[1m4s\u001b[0m 9ms/step - Brier score: 0.2425 - accuracy: 0.6535 - auc: 0.6419 - cross entropy: 0.7553 - fn: 5548.0625 - fp: 4761.8438 - loss: 0.7553 - prc: 0.7760 - precision: 0.7782 - recall: 0.7123 - tn: 4837.9062 - tp: 17864.8281 - val_Brier score: 0.1445 - val_accuracy: 0.8183 - val_auc: 0.7375 - val_cross entropy: 0.4533 - val_fn: 9.0000 - val_fp: 2924.0000 - val_loss: 0.4533 - val_prc: 0.8335 - val_precision: 0.7963 - val_recall: 0.9992 - val_tn: 1777.0000 - val_tp: 11429.0000\n",
      "Epoch 2/200\n",
      "\u001b[1m127/127\u001b[0m \u001b[32m━━━━━━━━━━━━━━━━━━━━\u001b[0m\u001b[37m\u001b[0m \u001b[1m0s\u001b[0m 3ms/step - Brier score: 0.1532 - accuracy: 0.8070 - auc: 0.7213 - cross entropy: 0.4855 - fn: 728.5312 - fp: 5571.9688 - loss: 0.4855 - prc: 0.8198 - precision: 0.8026 - recall: 0.9653 - tn: 4019.8828 - tp: 22692.2578 - val_Brier score: 0.1437 - val_accuracy: 0.8185 - val_auc: 0.7409 - val_cross entropy: 0.4506 - val_fn: 10.0000 - val_fp: 2919.0000 - val_loss: 0.4506 - val_prc: 0.8378 - val_precision: 0.7965 - val_recall: 0.9991 - val_tn: 1782.0000 - val_tp: 11428.0000\n",
      "Epoch 3/200\n",
      "\u001b[1m127/127\u001b[0m \u001b[32m━━━━━━━━━━━━━━━━━━━━\u001b[0m\u001b[37m\u001b[0m \u001b[1m0s\u001b[0m 3ms/step - Brier score: 0.1464 - accuracy: 0.8173 - auc: 0.7268 - cross entropy: 0.4604 - fn: 278.9219 - fp: 5724.2344 - loss: 0.4604 - prc: 0.8246 - precision: 0.8007 - recall: 0.9875 - tn: 3902.7500 - tp: 23106.7344 - val_Brier score: 0.1427 - val_accuracy: 0.8191 - val_auc: 0.7496 - val_cross entropy: 0.4473 - val_fn: 11.0000 - val_fp: 2909.0000 - val_loss: 0.4473 - val_prc: 0.8442 - val_precision: 0.7971 - val_recall: 0.9990 - val_tn: 1792.0000 - val_tp: 11427.0000\n",
      "Epoch 4/200\n",
      "\u001b[1m127/127\u001b[0m \u001b[32m━━━━━━━━━━━━━━━━━━━━\u001b[0m\u001b[37m\u001b[0m \u001b[1m0s\u001b[0m 3ms/step - Brier score: 0.1438 - accuracy: 0.8195 - auc: 0.7371 - cross entropy: 0.4513 - fn: 177.8984 - fp: 5748.2812 - loss: 0.4513 - prc: 0.8281 - precision: 0.7996 - recall: 0.9923 - tn: 3951.2891 - tp: 23135.1719 - val_Brier score: 0.1422 - val_accuracy: 0.8198 - val_auc: 0.7545 - val_cross entropy: 0.4455 - val_fn: 12.0000 - val_fp: 2896.0000 - val_loss: 0.4455 - val_prc: 0.8485 - val_precision: 0.7978 - val_recall: 0.9990 - val_tn: 1805.0000 - val_tp: 11426.0000\n",
      "Epoch 5/200\n",
      "\u001b[1m127/127\u001b[0m \u001b[32m━━━━━━━━━━━━━━━━━━━━\u001b[0m\u001b[37m\u001b[0m \u001b[1m0s\u001b[0m 4ms/step - Brier score: 0.1418 - accuracy: 0.8221 - auc: 0.7376 - cross entropy: 0.4462 - fn: 134.8125 - fp: 5731.3906 - loss: 0.4462 - prc: 0.8334 - precision: 0.8020 - recall: 0.9942 - tn: 3900.2969 - tp: 23246.1406 - val_Brier score: 0.1416 - val_accuracy: 0.8198 - val_auc: 0.7550 - val_cross entropy: 0.4435 - val_fn: 14.0000 - val_fp: 2895.0000 - val_loss: 0.4435 - val_prc: 0.8484 - val_precision: 0.7978 - val_recall: 0.9988 - val_tn: 1806.0000 - val_tp: 11424.0000\n",
      "Epoch 6/200\n",
      "\u001b[1m127/127\u001b[0m \u001b[32m━━━━━━━━━━━━━━━━━━━━\u001b[0m\u001b[37m\u001b[0m \u001b[1m1s\u001b[0m 4ms/step - Brier score: 0.1401 - accuracy: 0.8234 - auc: 0.7455 - cross entropy: 0.4412 - fn: 127.8359 - fp: 5724.3750 - loss: 0.4412 - prc: 0.8366 - precision: 0.8030 - recall: 0.9946 - tn: 3931.3750 - tp: 23229.0547 - val_Brier score: 0.1413 - val_accuracy: 0.8199 - val_auc: 0.7574 - val_cross entropy: 0.4428 - val_fn: 19.0000 - val_fp: 2887.0000 - val_loss: 0.4428 - val_prc: 0.8502 - val_precision: 0.7982 - val_recall: 0.9983 - val_tn: 1814.0000 - val_tp: 11419.0000\n",
      "Epoch 7/200\n",
      "\u001b[1m127/127\u001b[0m \u001b[32m━━━━━━━━━━━━━━━━━━━━\u001b[0m\u001b[37m\u001b[0m \u001b[1m0s\u001b[0m 4ms/step - Brier score: 0.1393 - accuracy: 0.8245 - auc: 0.7456 - cross entropy: 0.4393 - fn: 114.8047 - fp: 5701.0938 - loss: 0.4393 - prc: 0.8379 - precision: 0.8039 - recall: 0.9953 - tn: 3908.7578 - tp: 23287.9844 - val_Brier score: 0.1409 - val_accuracy: 0.8201 - val_auc: 0.7566 - val_cross entropy: 0.4414 - val_fn: 19.0000 - val_fp: 2884.0000 - val_loss: 0.4414 - val_prc: 0.8494 - val_precision: 0.7984 - val_recall: 0.9983 - val_tn: 1817.0000 - val_tp: 11419.0000\n",
      "Epoch 8/200\n",
      "\u001b[1m127/127\u001b[0m \u001b[32m━━━━━━━━━━━━━━━━━━━━\u001b[0m\u001b[37m\u001b[0m \u001b[1m0s\u001b[0m 4ms/step - Brier score: 0.1388 - accuracy: 0.8247 - auc: 0.7501 - cross entropy: 0.4380 - fn: 118.9609 - fp: 5710.0156 - loss: 0.4380 - prc: 0.8429 - precision: 0.8043 - recall: 0.9952 - tn: 3905.9219 - tp: 23277.7422 - val_Brier score: 0.1408 - val_accuracy: 0.8204 - val_auc: 0.7575 - val_cross entropy: 0.4413 - val_fn: 19.0000 - val_fp: 2879.0000 - val_loss: 0.4413 - val_prc: 0.8504 - val_precision: 0.7986 - val_recall: 0.9983 - val_tn: 1822.0000 - val_tp: 11419.0000\n",
      "Epoch 9/200\n",
      "\u001b[1m127/127\u001b[0m \u001b[32m━━━━━━━━━━━━━━━━━━━━\u001b[0m\u001b[37m\u001b[0m \u001b[1m0s\u001b[0m 3ms/step - Brier score: 0.1389 - accuracy: 0.8248 - auc: 0.7506 - cross entropy: 0.4382 - fn: 100.8984 - fp: 5693.1719 - loss: 0.4382 - prc: 0.8417 - precision: 0.8039 - recall: 0.9957 - tn: 3939.3672 - tp: 23279.2031 - val_Brier score: 0.1406 - val_accuracy: 0.8207 - val_auc: 0.7590 - val_cross entropy: 0.4407 - val_fn: 18.0000 - val_fp: 2876.0000 - val_loss: 0.4407 - val_prc: 0.8513 - val_precision: 0.7988 - val_recall: 0.9984 - val_tn: 1825.0000 - val_tp: 11420.0000\n",
      "Epoch 10/200\n",
      "\u001b[1m127/127\u001b[0m \u001b[32m━━━━━━━━━━━━━━━━━━━━\u001b[0m\u001b[37m\u001b[0m \u001b[1m0s\u001b[0m 4ms/step - Brier score: 0.1400 - accuracy: 0.8224 - auc: 0.7513 - cross entropy: 0.4402 - fn: 120.3203 - fp: 5706.0469 - loss: 0.4402 - prc: 0.8392 - precision: 0.8011 - recall: 0.9947 - tn: 4002.2891 - tp: 23183.9844 - val_Brier score: 0.1407 - val_accuracy: 0.8209 - val_auc: 0.7592 - val_cross entropy: 0.4409 - val_fn: 18.0000 - val_fp: 2872.0000 - val_loss: 0.4409 - val_prc: 0.8517 - val_precision: 0.7990 - val_recall: 0.9984 - val_tn: 1829.0000 - val_tp: 11420.0000\n",
      "Epoch 11/200\n",
      "\u001b[1m127/127\u001b[0m \u001b[32m━━━━━━━━━━━━━━━━━━━━\u001b[0m\u001b[37m\u001b[0m \u001b[1m0s\u001b[0m 4ms/step - Brier score: 0.1388 - accuracy: 0.8249 - auc: 0.7502 - cross entropy: 0.4373 - fn: 108.6250 - fp: 5654.5391 - loss: 0.4373 - prc: 0.8414 - precision: 0.8040 - recall: 0.9954 - tn: 3969.7109 - tp: 23279.7656 - val_Brier score: 0.1402 - val_accuracy: 0.8212 - val_auc: 0.7598 - val_cross entropy: 0.4396 - val_fn: 16.0000 - val_fp: 2870.0000 - val_loss: 0.4396 - val_prc: 0.8520 - val_precision: 0.7992 - val_recall: 0.9986 - val_tn: 1831.0000 - val_tp: 11422.0000\n",
      "Epoch 12/200\n",
      "\u001b[1m127/127\u001b[0m \u001b[32m━━━━━━━━━━━━━━━━━━━━\u001b[0m\u001b[37m\u001b[0m \u001b[1m0s\u001b[0m 3ms/step - Brier score: 0.1376 - accuracy: 0.8271 - auc: 0.7523 - cross entropy: 0.4342 - fn: 99.7266 - fp: 5635.6641 - loss: 0.4342 - prc: 0.8425 - precision: 0.8059 - recall: 0.9958 - tn: 3983.4453 - tp: 23293.8047 - val_Brier score: 0.1400 - val_accuracy: 0.8215 - val_auc: 0.7601 - val_cross entropy: 0.4391 - val_fn: 16.0000 - val_fp: 2865.0000 - val_loss: 0.4391 - val_prc: 0.8524 - val_precision: 0.7995 - val_recall: 0.9986 - val_tn: 1836.0000 - val_tp: 11422.0000\n",
      "Epoch 13/200\n",
      "\u001b[1m127/127\u001b[0m \u001b[32m━━━━━━━━━━━━━━━━━━━━\u001b[0m\u001b[37m\u001b[0m \u001b[1m0s\u001b[0m 3ms/step - Brier score: 0.1376 - accuracy: 0.8261 - auc: 0.7563 - cross entropy: 0.4342 - fn: 90.3359 - fp: 5681.4688 - loss: 0.4342 - prc: 0.8470 - precision: 0.8048 - recall: 0.9962 - tn: 3961.2969 - tp: 23279.5391 - val_Brier score: 0.1400 - val_accuracy: 0.8216 - val_auc: 0.7606 - val_cross entropy: 0.4392 - val_fn: 16.0000 - val_fp: 2863.0000 - val_loss: 0.4392 - val_prc: 0.8530 - val_precision: 0.7996 - val_recall: 0.9986 - val_tn: 1838.0000 - val_tp: 11422.0000\n",
      "Epoch 14/200\n",
      "\u001b[1m127/127\u001b[0m \u001b[32m━━━━━━━━━━━━━━━━━━━━\u001b[0m\u001b[37m\u001b[0m \u001b[1m0s\u001b[0m 3ms/step - Brier score: 0.1387 - accuracy: 0.8252 - auc: 0.7528 - cross entropy: 0.4372 - fn: 98.5078 - fp: 5663.6953 - loss: 0.4372 - prc: 0.8427 - precision: 0.8039 - recall: 0.9958 - tn: 3981.0312 - tp: 23269.4062 - val_Brier score: 0.1399 - val_accuracy: 0.8214 - val_auc: 0.7609 - val_cross entropy: 0.4386 - val_fn: 19.0000 - val_fp: 2863.0000 - val_loss: 0.4386 - val_prc: 0.8526 - val_precision: 0.7995 - val_recall: 0.9983 - val_tn: 1838.0000 - val_tp: 11419.0000\n",
      "Epoch 15/200\n",
      "\u001b[1m127/127\u001b[0m \u001b[32m━━━━━━━━━━━━━━━━━━━━\u001b[0m\u001b[37m\u001b[0m \u001b[1m0s\u001b[0m 3ms/step - Brier score: 0.1378 - accuracy: 0.8260 - auc: 0.7553 - cross entropy: 0.4349 - fn: 107.5703 - fp: 5640.1406 - loss: 0.4349 - prc: 0.8458 - precision: 0.8052 - recall: 0.9956 - tn: 3966.9922 - tp: 23297.9375 - val_Brier score: 0.1399 - val_accuracy: 0.8216 - val_auc: 0.7612 - val_cross entropy: 0.4389 - val_fn: 18.0000 - val_fp: 2862.0000 - val_loss: 0.4389 - val_prc: 0.8533 - val_precision: 0.7996 - val_recall: 0.9984 - val_tn: 1839.0000 - val_tp: 11420.0000\n",
      "Epoch 16/200\n",
      "\u001b[1m127/127\u001b[0m \u001b[32m━━━━━━━━━━━━━━━━━━━━\u001b[0m\u001b[37m\u001b[0m \u001b[1m0s\u001b[0m 3ms/step - Brier score: 0.1383 - accuracy: 0.8247 - auc: 0.7550 - cross entropy: 0.4351 - fn: 107.5312 - fp: 5679.3359 - loss: 0.4351 - prc: 0.8454 - precision: 0.8036 - recall: 0.9956 - tn: 3998.8984 - tp: 23226.8750 - val_Brier score: 0.1399 - val_accuracy: 0.8215 - val_auc: 0.7625 - val_cross entropy: 0.4387 - val_fn: 19.0000 - val_fp: 2862.0000 - val_loss: 0.4387 - val_prc: 0.8545 - val_precision: 0.7996 - val_recall: 0.9983 - val_tn: 1839.0000 - val_tp: 11419.0000\n",
      "Epoch 17/200\n",
      "\u001b[1m127/127\u001b[0m \u001b[32m━━━━━━━━━━━━━━━━━━━━\u001b[0m\u001b[37m\u001b[0m \u001b[1m0s\u001b[0m 3ms/step - Brier score: 0.1390 - accuracy: 0.8239 - auc: 0.7541 - cross entropy: 0.4377 - fn: 94.7578 - fp: 5675.2891 - loss: 0.4377 - prc: 0.8443 - precision: 0.8027 - recall: 0.9962 - tn: 3938.9219 - tp: 23303.6719 - val_Brier score: 0.1396 - val_accuracy: 0.8214 - val_auc: 0.7627 - val_cross entropy: 0.4378 - val_fn: 20.0000 - val_fp: 2862.0000 - val_loss: 0.4378 - val_prc: 0.8542 - val_precision: 0.7996 - val_recall: 0.9983 - val_tn: 1839.0000 - val_tp: 11418.0000\n",
      "Epoch 18/200\n",
      "\u001b[1m127/127\u001b[0m \u001b[32m━━━━━━━━━━━━━━━━━━━━\u001b[0m\u001b[37m\u001b[0m \u001b[1m0s\u001b[0m 3ms/step - Brier score: 0.1369 - accuracy: 0.8273 - auc: 0.7580 - cross entropy: 0.4325 - fn: 103.9062 - fp: 5648.7812 - loss: 0.4325 - prc: 0.8478 - precision: 0.8065 - recall: 0.9956 - tn: 3966.4922 - tp: 23293.4609 - val_Brier score: 0.1398 - val_accuracy: 0.8216 - val_auc: 0.7627 - val_cross entropy: 0.4383 - val_fn: 17.0000 - val_fp: 2862.0000 - val_loss: 0.4383 - val_prc: 0.8545 - val_precision: 0.7996 - val_recall: 0.9985 - val_tn: 1839.0000 - val_tp: 11421.0000\n",
      "Epoch 19/200\n",
      "\u001b[1m127/127\u001b[0m \u001b[32m━━━━━━━━━━━━━━━━━━━━\u001b[0m\u001b[37m\u001b[0m \u001b[1m0s\u001b[0m 3ms/step - Brier score: 0.1369 - accuracy: 0.8274 - auc: 0.7564 - cross entropy: 0.4325 - fn: 80.6094 - fp: 5605.7578 - loss: 0.4325 - prc: 0.8485 - precision: 0.8066 - recall: 0.9965 - tn: 3927.0078 - tp: 23399.2656 - val_Brier score: 0.1395 - val_accuracy: 0.8216 - val_auc: 0.7620 - val_cross entropy: 0.4377 - val_fn: 17.0000 - val_fp: 2862.0000 - val_loss: 0.4377 - val_prc: 0.8540 - val_precision: 0.7996 - val_recall: 0.9985 - val_tn: 1839.0000 - val_tp: 11421.0000\n"
     ]
    },
    {
     "data": {
      "text/plain": [
       "<Axes: title={'center': 'Cross-entropy'}>"
      ]
     },
     "execution_count": 23,
     "metadata": {},
     "output_type": "execute_result"
    },
    {
     "data": {
      "image/png": "[encoded data removed]",
      "text/plain": [
       "<Figure size 640x480 with 1 Axes>"
      ]
     },
     "metadata": {},
     "output_type": "display_data"
    }
   ],
   "source": [
    "early_stopping = keras.callbacks.EarlyStopping(\n",
    "    patience=5,\n",
    "    min_delta=0.001,\n",
    "    restore_best_weights=True,\n",
    ")\n",
    "history = model.fit(\n",
    "    X_train, y_train,\n",
    "    validation_data=(X_valid, y_valid),\n",
    "    batch_size=512,\n",
    "    epochs=200,\n",
    "    callbacks=[early_stopping],\n",
    ")\n",
    "\n",
    "history_df = pd.DataFrame(history.history)\n",
    "history_df.loc[:, ['loss', 'val_loss']].plot(title=\"Cross-entropy\")\n",
    "# history_df.loc[:, ['binary_accuracy', 'val_binary_accuracy']].plot(title=\"Accuracy\")"
   ]
  },
  {
   "cell_type": "code",
   "execution_count": 24,
   "id": "2p0zumehQSG2",
   "metadata": {
    "colab": {
     "base_uri": "https://localhost:8080/"
    },
    "id": "2p0zumehQSG2",
    "outputId": "a25bd7e3-8a9a-421b-d118-95ce129889a5"
   },
   "outputs": [
    {
     "name": "stdout",
     "output_type": "stream",
     "text": [
      "Examples:\n",
      "    Total: 80692\n",
      "    Positive: 57186 (70.87% of total)\n",
      "\n"
     ]
    }
   ],
   "source": [
    "neg, pos = np.bincount(data['target'])\n",
    "total = neg + pos\n",
    "print('Examples:\\n    Total: {}\\n    Positive: {} ({:.2f}% of total)\\n'.format(\n",
    "    total, pos, 100 * pos / total))"
   ]
  },
  {
   "cell_type": "code",
   "execution_count": 25,
   "id": "QhZu0SsiP6o4",
   "metadata": {
    "id": "QhZu0SsiP6o4"
   },
   "outputs": [],
   "source": [
    "METRICS = [\n",
    "      keras.metrics.BinaryCrossentropy(name='cross entropy'),  # same as model's loss\n",
    "      keras.metrics.MeanSquaredError(name='Brier score'),\n",
    "      keras.metrics.TruePositives(name='tp'),\n",
    "      keras.metrics.FalsePositives(name='fp'),\n",
    "      keras.metrics.TrueNegatives(name='tn'),\n",
    "      keras.metrics.FalseNegatives(name='fn'),\n",
    "      keras.metrics.BinaryAccuracy(name='accuracy'),\n",
    "      keras.metrics.Precision(name='precision'),\n",
    "      keras.metrics.Recall(name='recall'),\n",
    "      keras.metrics.AUC(name='auc'),\n",
    "      keras.metrics.AUC(name='prc', curve='PR'), # precision-recall curve\n",
    "]\n",
    "\n",
    "def make_model(metrics=METRICS, output_bias=None):\n",
    "  if output_bias is not None:\n",
    "    output_bias = tf.keras.initializers.Constant(output_bias)\n",
    "  model = keras.Sequential([\n",
    "    # layers.BatchNormalization(input_shape = [X_train.shape[1]]),\n",
    "    layers.Dense(4, activation = 'relu',\n",
    "                          input_shape = [X_train.shape[1]]),\n",
    "    # layers.BatchNormalization(),\n",
    "    # layers.Dropout(0.5),\n",
    "    # layers.Dense(64, activation = 'relu'),\n",
    "    # layers.BatchNormalization(),\n",
    "    # # layers.Dropout(0.3),\n",
    "    # # layers.Dense(64, activation = 'relu'),\n",
    "    # # layers.BatchNormalization(),\n",
    "    layers.Dropout(0.5),\n",
    "    layers.Dense(1, activation = 'sigmoid',\n",
    "                         bias_initializer=output_bias),\n",
    "  ])\n",
    "\n",
    "  model.compile(\n",
    "      optimizer=keras.optimizers.Adam(learning_rate=1e-3),\n",
    "      loss=keras.losses.BinaryCrossentropy(),\n",
    "      metrics=metrics)\n",
    "\n",
    "  return model"
   ]
  },
  {
   "cell_type": "code",
   "execution_count": 26,
   "id": "9a663b0c-a594-4bf0-bb3a-d90206a87b90",
   "metadata": {},
   "outputs": [],
   "source": [
    "import tensorflow as tf"
   ]
  },
  {
   "cell_type": "code",
   "execution_count": 27,
   "id": "37815238-7964-49de-8ef7-5c75816f6b39",
   "metadata": {},
   "outputs": [],
   "source": [
    "EPOCHS = 100\n",
    "BATCH_SIZE = 512\n",
    "\n",
    "early_stopping = tf.keras.callbacks.EarlyStopping(\n",
    "    monitor='val_prc', \n",
    "    verbose=1,\n",
    "    patience=10,\n",
    "    mode='max',\n",
    "    restore_best_weights=True)"
   ]
  },
  {
   "cell_type": "code",
   "execution_count": 28,
   "id": "6kUjBoUrSHp4",
   "metadata": {
    "colab": {
     "base_uri": "https://localhost:8080/"
    },
    "id": "6kUjBoUrSHp4",
    "outputId": "22dc849e-0564-443e-af7c-eabf0ca63ed5"
   },
   "outputs": [
    {
     "data": {
      "text/html": [
       "<pre style=\"white-space:pre;overflow-x:auto;line-height:normal;font-family:Menlo,'DejaVu Sans Mono',consolas,'Courier New',monospace\"><span style=\"font-weight: bold\">Model: \"sequential_1\"</span>\n",
       "</pre>\n"
      ],
      "text/plain": [
       "\u001b[1mModel: \"sequential_1\"\u001b[0m\n"
      ]
     },
     "metadata": {},
     "output_type": "display_data"
    },
    {
     "data": {
      "text/html": [
       "<pre style=\"white-space:pre;overflow-x:auto;line-height:normal;font-family:Menlo,'DejaVu Sans Mono',consolas,'Courier New',monospace\">┏━━━━━━━━━━━━━━━━━━━━━━━━━━━━━━━━━┳━━━━━━━━━━━━━━━━━━━━━━━━┳━━━━━━━━━━━━━━━┓\n",
       "┃<span style=\"font-weight: bold\"> Layer (type)                    </span>┃<span style=\"font-weight: bold\"> Output Shape           </span>┃<span style=\"font-weight: bold\">       Param # </span>┃\n",
       "┡━━━━━━━━━━━━━━━━━━━━━━━━━━━━━━━━━╇━━━━━━━━━━━━━━━━━━━━━━━━╇━━━━━━━━━━━━━━━┩\n",
       "│ dense_3 (<span style=\"color: #0087ff; text-decoration-color: #0087ff\">Dense</span>)                 │ (<span style=\"color: #00d7ff; text-decoration-color: #00d7ff\">None</span>, <span style=\"color: #00af00; text-decoration-color: #00af00\">4</span>)              │           <span style=\"color: #00af00; text-decoration-color: #00af00\">256</span> │\n",
       "├─────────────────────────────────┼────────────────────────┼───────────────┤\n",
       "│ dropout_2 (<span style=\"color: #0087ff; text-decoration-color: #0087ff\">Dropout</span>)             │ (<span style=\"color: #00d7ff; text-decoration-color: #00d7ff\">None</span>, <span style=\"color: #00af00; text-decoration-color: #00af00\">4</span>)              │             <span style=\"color: #00af00; text-decoration-color: #00af00\">0</span> │\n",
       "├─────────────────────────────────┼────────────────────────┼───────────────┤\n",
       "│ dense_4 (<span style=\"color: #0087ff; text-decoration-color: #0087ff\">Dense</span>)                 │ (<span style=\"color: #00d7ff; text-decoration-color: #00d7ff\">None</span>, <span style=\"color: #00af00; text-decoration-color: #00af00\">1</span>)              │             <span style=\"color: #00af00; text-decoration-color: #00af00\">5</span> │\n",
       "└─────────────────────────────────┴────────────────────────┴───────────────┘\n",
       "</pre>\n"
      ],
      "text/plain": [
       "┏━━━━━━━━━━━━━━━━━━━━━━━━━━━━━━━━━┳━━━━━━━━━━━━━━━━━━━━━━━━┳━━━━━━━━━━━━━━━┓\n",
       "┃\u001b[1m \u001b[0m\u001b[1mLayer (type)                   \u001b[0m\u001b[1m \u001b[0m┃\u001b[1m \u001b[0m\u001b[1mOutput Shape          \u001b[0m\u001b[1m \u001b[0m┃\u001b[1m \u001b[0m\u001b[1m      Param #\u001b[0m\u001b[1m \u001b[0m┃\n",
       "┡━━━━━━━━━━━━━━━━━━━━━━━━━━━━━━━━━╇━━━━━━━━━━━━━━━━━━━━━━━━╇━━━━━━━━━━━━━━━┩\n",
       "│ dense_3 (\u001b[38;5;33mDense\u001b[0m)                 │ (\u001b[38;5;45mNone\u001b[0m, \u001b[38;5;34m4\u001b[0m)              │           \u001b[38;5;34m256\u001b[0m │\n",
       "├─────────────────────────────────┼────────────────────────┼───────────────┤\n",
       "│ dropout_2 (\u001b[38;5;33mDropout\u001b[0m)             │ (\u001b[38;5;45mNone\u001b[0m, \u001b[38;5;34m4\u001b[0m)              │             \u001b[38;5;34m0\u001b[0m │\n",
       "├─────────────────────────────────┼────────────────────────┼───────────────┤\n",
       "│ dense_4 (\u001b[38;5;33mDense\u001b[0m)                 │ (\u001b[38;5;45mNone\u001b[0m, \u001b[38;5;34m1\u001b[0m)              │             \u001b[38;5;34m5\u001b[0m │\n",
       "└─────────────────────────────────┴────────────────────────┴───────────────┘\n"
      ]
     },
     "metadata": {},
     "output_type": "display_data"
    },
    {
     "data": {
      "text/html": [
       "<pre style=\"white-space:pre;overflow-x:auto;line-height:normal;font-family:Menlo,'DejaVu Sans Mono',consolas,'Courier New',monospace\"><span style=\"font-weight: bold\"> Total params: </span><span style=\"color: #00af00; text-decoration-color: #00af00\">261</span> (1.02 KB)\n",
       "</pre>\n"
      ],
      "text/plain": [
       "\u001b[1m Total params: \u001b[0m\u001b[38;5;34m261\u001b[0m (1.02 KB)\n"
      ]
     },
     "metadata": {},
     "output_type": "display_data"
    },
    {
     "data": {
      "text/html": [
       "<pre style=\"white-space:pre;overflow-x:auto;line-height:normal;font-family:Menlo,'DejaVu Sans Mono',consolas,'Courier New',monospace\"><span style=\"font-weight: bold\"> Trainable params: </span><span style=\"color: #00af00; text-decoration-color: #00af00\">261</span> (1.02 KB)\n",
       "</pre>\n"
      ],
      "text/plain": [
       "\u001b[1m Trainable params: \u001b[0m\u001b[38;5;34m261\u001b[0m (1.02 KB)\n"
      ]
     },
     "metadata": {},
     "output_type": "display_data"
    },
    {
     "data": {
      "text/html": [
       "<pre style=\"white-space:pre;overflow-x:auto;line-height:normal;font-family:Menlo,'DejaVu Sans Mono',consolas,'Courier New',monospace\"><span style=\"font-weight: bold\"> Non-trainable params: </span><span style=\"color: #00af00; text-decoration-color: #00af00\">0</span> (0.00 B)\n",
       "</pre>\n"
      ],
      "text/plain": [
       "\u001b[1m Non-trainable params: \u001b[0m\u001b[38;5;34m0\u001b[0m (0.00 B)\n"
      ]
     },
     "metadata": {},
     "output_type": "display_data"
    }
   ],
   "source": [
    "model = make_model()\n",
    "model.summary()"
   ]
  },
  {
   "cell_type": "code",
   "execution_count": 29,
   "id": "HLNhOkH9SUcP",
   "metadata": {
    "colab": {
     "base_uri": "https://localhost:8080/"
    },
    "id": "HLNhOkH9SUcP",
    "outputId": "c0181f24-47a0-402a-cf66-3453c416128a"
   },
   "outputs": [
    {
     "name": "stdout",
     "output_type": "stream",
     "text": [
      "\u001b[1m1/1\u001b[0m \u001b[32m━━━━━━━━━━━━━━━━━━━━\u001b[0m\u001b[37m\u001b[0m \u001b[1m0s\u001b[0m 32ms/step\n"
     ]
    },
    {
     "data": {
      "text/plain": [
       "array([[0.32146233],\n",
       "       [0.4253243 ],\n",
       "       [0.34032163],\n",
       "       [0.35277596],\n",
       "       [0.45614967],\n",
       "       [0.39473602],\n",
       "       [0.2567847 ],\n",
       "       [0.34565318],\n",
       "       [0.32694915],\n",
       "       [0.4076063 ]], dtype=float32)"
      ]
     },
     "execution_count": 29,
     "metadata": {},
     "output_type": "execute_result"
    }
   ],
   "source": [
    "model.predict(X_train[:10])"
   ]
  },
  {
   "cell_type": "code",
   "execution_count": 30,
   "id": "avUyJojDSsoI",
   "metadata": {
    "colab": {
     "base_uri": "https://localhost:8080/"
    },
    "id": "avUyJojDSsoI",
    "outputId": "885a7674-23bf-4cf2-b58a-0152df3ba0df"
   },
   "outputs": [
    {
     "name": "stdout",
     "output_type": "stream",
     "text": [
      "Loss: 0.8401\n"
     ]
    }
   ],
   "source": [
    "results = model.evaluate(X_train, y_train, batch_size=BATCH_SIZE, verbose=0)\n",
    "print(\"Loss: {:0.4f}\".format(results[0]))"
   ]
  },
  {
   "cell_type": "code",
   "execution_count": 31,
   "id": "qDojRkl9S4vI",
   "metadata": {
    "colab": {
     "base_uri": "https://localhost:8080/"
    },
    "id": "qDojRkl9S4vI",
    "outputId": "72b9d230-67fa-46ac-85a8-16a411e7de5e"
   },
   "outputs": [
    {
     "data": {
      "text/plain": [
       "array([0.88905341])"
      ]
     },
     "execution_count": 31,
     "metadata": {},
     "output_type": "execute_result"
    }
   ],
   "source": [
    "initial_bias = np.log([pos/neg])\n",
    "initial_bias"
   ]
  },
  {
   "cell_type": "code",
   "execution_count": 32,
   "id": "dYeH6kHSTBkk",
   "metadata": {
    "colab": {
     "base_uri": "https://localhost:8080/"
    },
    "id": "dYeH6kHSTBkk",
    "outputId": "60fa4630-116d-4d27-af83-9a95b1a16829"
   },
   "outputs": [
    {
     "name": "stdout",
     "output_type": "stream",
     "text": [
      "\u001b[1m1/1\u001b[0m \u001b[32m━━━━━━━━━━━━━━━━━━━━\u001b[0m\u001b[37m\u001b[0m \u001b[1m0s\u001b[0m 29ms/step\n"
     ]
    },
    {
     "data": {
      "text/plain": [
       "array([[0.7049149 ],\n",
       "       [0.7359754 ],\n",
       "       [0.70404047],\n",
       "       [0.77491367],\n",
       "       [0.75769603],\n",
       "       [0.83415383],\n",
       "       [0.7133368 ],\n",
       "       [0.74164975],\n",
       "       [0.7448379 ],\n",
       "       [0.81833124]], dtype=float32)"
      ]
     },
     "execution_count": 32,
     "metadata": {},
     "output_type": "execute_result"
    }
   ],
   "source": [
    "model = make_model(output_bias=initial_bias)\n",
    "model.predict(X_train[:10])"
   ]
  },
  {
   "cell_type": "code",
   "execution_count": 33,
   "id": "o7_XDKimTT98",
   "metadata": {
    "colab": {
     "base_uri": "https://localhost:8080/"
    },
    "id": "o7_XDKimTT98",
    "outputId": "03cc5360-01f3-46a0-a738-dc9c55265623"
   },
   "outputs": [
    {
     "name": "stdout",
     "output_type": "stream",
     "text": [
      "Loss: 0.6026\n"
     ]
    }
   ],
   "source": [
    "results = model.evaluate(X_train, y_train, batch_size=BATCH_SIZE, verbose=0)\n",
    "print(\"Loss: {:0.4f}\".format(results[0]))"
   ]
  },
  {
   "cell_type": "code",
   "execution_count": 34,
   "id": "lRuXQmzwT-aP",
   "metadata": {
    "id": "lRuXQmzwT-aP"
   },
   "outputs": [],
   "source": [
    "import os\n",
    "import tempfile"
   ]
  },
  {
   "cell_type": "code",
   "execution_count": 35,
   "id": "7A-7UUlOT7zw",
   "metadata": {
    "id": "7A-7UUlOT7zw"
   },
   "outputs": [],
   "source": [
    "initial_weights = os.path.join(tempfile.mkdtemp(), 'initial_weights.weights.h5')\n",
    "model.save_weights(initial_weights)"
   ]
  },
  {
   "cell_type": "code",
   "execution_count": 36,
   "id": "WfNjJJJWUMV7",
   "metadata": {
    "id": "WfNjJJJWUMV7"
   },
   "outputs": [],
   "source": [
    "model = make_model()\n",
    "model.load_weights(initial_weights)\n",
    "model.layers[-1].bias.assign([0.0])\n",
    "zero_bias_history = model.fit(\n",
    "    X_train,\n",
    "    y_train,\n",
    "    batch_size=BATCH_SIZE,\n",
    "    epochs=20,\n",
    "    validation_data=(X_valid, y_valid),\n",
    "    verbose=0)"
   ]
  },
  {
   "cell_type": "code",
   "execution_count": 37,
   "id": "HduX02xNU2_D",
   "metadata": {
    "id": "HduX02xNU2_D"
   },
   "outputs": [],
   "source": [
    "model = make_model()\n",
    "model.load_weights(initial_weights)\n",
    "careful_bias_history = model.fit(\n",
    "    X_train,\n",
    "    y_train,\n",
    "    batch_size=BATCH_SIZE,\n",
    "    epochs=20,\n",
    "    validation_data=(X_valid, y_valid),\n",
    "    verbose=0)"
   ]
  },
  {
   "cell_type": "code",
   "execution_count": 38,
   "id": "D3zovYfNVmiw",
   "metadata": {
    "id": "D3zovYfNVmiw"
   },
   "outputs": [],
   "source": [
    "import matplotlib as mpl\n",
    "\n",
    "mpl.rcParams['figure.figsize'] = (12, 10)\n",
    "colors = plt.rcParams['axes.prop_cycle'].by_key()['color']"
   ]
  },
  {
   "cell_type": "code",
   "execution_count": 39,
   "id": "-0-cw6EXVErt",
   "metadata": {
    "id": "-0-cw6EXVErt"
   },
   "outputs": [],
   "source": [
    "def plot_loss(history, label, n):\n",
    "  # Use a log scale on y-axis to show the wide range of values.\n",
    "  plt.semilogy(history.epoch, history.history['loss'],\n",
    "               color=colors[n], label='Train ' + label)\n",
    "  plt.semilogy(history.epoch, history.history['val_loss'],\n",
    "               color=colors[n], label='Val ' + label,\n",
    "               linestyle=\"--\")\n",
    "  plt.xlabel('Epoch')\n",
    "  plt.ylabel('Loss')\n",
    "  plt.legend()"
   ]
  },
  {
   "cell_type": "code",
   "execution_count": 40,
   "id": "o0sG0BcpVHZX",
   "metadata": {
    "colab": {
     "base_uri": "https://localhost:8080/",
     "height": 850
    },
    "id": "o0sG0BcpVHZX",
    "outputId": "b34c2052-6498-4a2c-df31-56a6d4b0406a"
   },
   "outputs": [
    {
     "data": {
      "image/png": "[encoded data removed]",
      "text/plain": [
       "<Figure size 1200x1000 with 1 Axes>"
      ]
     },
     "metadata": {},
     "output_type": "display_data"
    }
   ],
   "source": [
    "plot_loss(zero_bias_history, \"Zero Bias\", 0)\n",
    "plot_loss(careful_bias_history, \"Careful Bias\", 1)"
   ]
  },
  {
   "cell_type": "code",
   "execution_count": 41,
   "id": "hFLvzcMJakTL",
   "metadata": {
    "colab": {
     "base_uri": "https://localhost:8080/"
    },
    "id": "hFLvzcMJakTL",
    "outputId": "8236aac1-1a98-4855-8593-87f7087e8d2d"
   },
   "outputs": [
    {
     "name": "stdout",
     "output_type": "stream",
     "text": [
      "Epoch 1/100\n",
      "\u001b[1m127/127\u001b[0m \u001b[32m━━━━━━━━━━━━━━━━━━━━\u001b[0m\u001b[37m\u001b[0m \u001b[1m3s\u001b[0m 9ms/step - Brier score: 0.1778 - accuracy: 0.7561 - auc: 0.6640 - cross entropy: 0.5357 - fn: 45.6406 - fp: 12257.8906 - loss: 0.6010 - prc: 0.7934 - precision: 0.7446 - recall: 0.9987 - tn: 2078.6406 - tp: 34769.4688 - val_Brier score: 0.1830 - val_accuracy: 0.7185 - val_auc: 0.7244 - val_cross entropy: 0.5497 - val_fn: 0.0000e+00 - val_fp: 4543.0000 - val_loss: 0.5497 - val_prc: 0.8195 - val_precision: 0.7157 - val_recall: 1.0000 - val_tn: 158.0000 - val_tp: 11438.0000\n",
      "Epoch 2/100\n",
      "\u001b[1m127/127\u001b[0m \u001b[32m━━━━━━━━━━━━━━━━━━━━\u001b[0m\u001b[37m\u001b[0m \u001b[1m0s\u001b[0m 1ms/step - Brier score: 0.1844 - accuracy: 0.7541 - auc: 0.6558 - cross entropy: 0.5561 - fn: 35.5625 - fp: 7991.5625 - loss: 0.5561 - prc: 0.7923 - precision: 0.7430 - recall: 0.9986 - tn: 1586.7500 - tp: 23398.7656 - val_Brier score: 0.1599 - val_accuracy: 0.8009 - val_auc: 0.7476 - val_cross entropy: 0.4997 - val_fn: 5.0000 - val_fp: 3209.0000 - val_loss: 0.4997 - val_prc: 0.8410 - val_precision: 0.7808 - val_recall: 0.9996 - val_tn: 1492.0000 - val_tp: 11433.0000\n",
      "Epoch 3/100\n",
      "\u001b[1m127/127\u001b[0m \u001b[32m━━━━━━━━━━━━━━━━━━━━\u001b[0m\u001b[37m\u001b[0m \u001b[1m0s\u001b[0m 1ms/step - Brier score: 0.1681 - accuracy: 0.7819 - auc: 0.7014 - cross entropy: 0.5172 - fn: 82.2422 - fp: 7031.0156 - loss: 0.5172 - prc: 0.8166 - precision: 0.7660 - recall: 0.9963 - tn: 2597.9062 - tp: 23301.4766 - val_Brier score: 0.1478 - val_accuracy: 0.8174 - val_auc: 0.7545 - val_cross entropy: 0.4692 - val_fn: 9.0000 - val_fp: 2938.0000 - val_loss: 0.4692 - val_prc: 0.8456 - val_precision: 0.7955 - val_recall: 0.9992 - val_tn: 1763.0000 - val_tp: 11429.0000\n",
      "Epoch 4/100\n",
      "\u001b[1m127/127\u001b[0m \u001b[32m━━━━━━━━━━━━━━━━━━━━\u001b[0m\u001b[37m\u001b[0m \u001b[1m0s\u001b[0m 1ms/step - Brier score: 0.1609 - accuracy: 0.7935 - auc: 0.7042 - cross entropy: 0.4984 - fn: 51.2578 - fp: 6752.7969 - loss: 0.4984 - prc: 0.8181 - precision: 0.7757 - recall: 0.9976 - tn: 2848.8125 - tp: 23359.7734 - val_Brier score: 0.1440 - val_accuracy: 0.8193 - val_auc: 0.7589 - val_cross entropy: 0.4569 - val_fn: 11.0000 - val_fp: 2905.0000 - val_loss: 0.4569 - val_prc: 0.8494 - val_precision: 0.7973 - val_recall: 0.9990 - val_tn: 1796.0000 - val_tp: 11427.0000\n",
      "Epoch 5/100\n",
      "\u001b[1m127/127\u001b[0m \u001b[32m━━━━━━━━━━━━━━━━━━━━\u001b[0m\u001b[37m\u001b[0m \u001b[1m0s\u001b[0m 1ms/step - Brier score: 0.1586 - accuracy: 0.7933 - auc: 0.7109 - cross entropy: 0.4896 - fn: 43.9531 - fp: 6762.7500 - loss: 0.4896 - prc: 0.8219 - precision: 0.7745 - recall: 0.9981 - tn: 2899.8594 - tp: 23306.0781 - val_Brier score: 0.1423 - val_accuracy: 0.8197 - val_auc: 0.7609 - val_cross entropy: 0.4504 - val_fn: 16.0000 - val_fp: 2894.0000 - val_loss: 0.4504 - val_prc: 0.8507 - val_precision: 0.7978 - val_recall: 0.9986 - val_tn: 1807.0000 - val_tp: 11422.0000\n",
      "Epoch 6/100\n",
      "\u001b[1m127/127\u001b[0m \u001b[32m━━━━━━━━━━━━━━━━━━━━\u001b[0m\u001b[37m\u001b[0m \u001b[1m0s\u001b[0m 1ms/step - Brier score: 0.1571 - accuracy: 0.7944 - auc: 0.7174 - cross entropy: 0.4854 - fn: 41.5000 - fp: 6727.8672 - loss: 0.4854 - prc: 0.8247 - precision: 0.7752 - recall: 0.9982 - tn: 2911.8906 - tp: 23331.3828 - val_Brier score: 0.1415 - val_accuracy: 0.8201 - val_auc: 0.7609 - val_cross entropy: 0.4472 - val_fn: 16.0000 - val_fp: 2887.0000 - val_loss: 0.4472 - val_prc: 0.8509 - val_precision: 0.7982 - val_recall: 0.9986 - val_tn: 1814.0000 - val_tp: 11422.0000\n",
      "Epoch 7/100\n",
      "\u001b[1m127/127\u001b[0m \u001b[32m━━━━━━━━━━━━━━━━━━━━\u001b[0m\u001b[37m\u001b[0m \u001b[1m0s\u001b[0m 1ms/step - Brier score: 0.1570 - accuracy: 0.7938 - auc: 0.7180 - cross entropy: 0.4847 - fn: 39.6094 - fp: 6727.1250 - loss: 0.4847 - prc: 0.8247 - precision: 0.7748 - recall: 0.9983 - tn: 2910.5938 - tp: 23335.3125 - val_Brier score: 0.1412 - val_accuracy: 0.8202 - val_auc: 0.7618 - val_cross entropy: 0.4454 - val_fn: 16.0000 - val_fp: 2885.0000 - val_loss: 0.4454 - val_prc: 0.8516 - val_precision: 0.7984 - val_recall: 0.9986 - val_tn: 1816.0000 - val_tp: 11422.0000\n",
      "Epoch 8/100\n",
      "\u001b[1m127/127\u001b[0m \u001b[32m━━━━━━━━━━━━━━━━━━━━\u001b[0m\u001b[37m\u001b[0m \u001b[1m0s\u001b[0m 1ms/step - Brier score: 0.1550 - accuracy: 0.7968 - auc: 0.7222 - cross entropy: 0.4788 - fn: 42.1875 - fp: 6696.2500 - loss: 0.4788 - prc: 0.8305 - precision: 0.7781 - recall: 0.9983 - tn: 2912.3594 - tp: 23361.8438 - val_Brier score: 0.1411 - val_accuracy: 0.8203 - val_auc: 0.7624 - val_cross entropy: 0.4447 - val_fn: 16.0000 - val_fp: 2884.0000 - val_loss: 0.4447 - val_prc: 0.8520 - val_precision: 0.7984 - val_recall: 0.9986 - val_tn: 1817.0000 - val_tp: 11422.0000\n",
      "Epoch 9/100\n",
      "\u001b[1m127/127\u001b[0m \u001b[32m━━━━━━━━━━━━━━━━━━━━\u001b[0m\u001b[37m\u001b[0m \u001b[1m0s\u001b[0m 1ms/step - Brier score: 0.1561 - accuracy: 0.7939 - auc: 0.7225 - cross entropy: 0.4805 - fn: 44.4609 - fp: 6729.6641 - loss: 0.4805 - prc: 0.8301 - precision: 0.7751 - recall: 0.9980 - tn: 2928.3750 - tp: 23310.1406 - val_Brier score: 0.1408 - val_accuracy: 0.8204 - val_auc: 0.7625 - val_cross entropy: 0.4433 - val_fn: 16.0000 - val_fp: 2883.0000 - val_loss: 0.4433 - val_prc: 0.8529 - val_precision: 0.7985 - val_recall: 0.9986 - val_tn: 1818.0000 - val_tp: 11422.0000\n",
      "Epoch 10/100\n",
      "\u001b[1m127/127\u001b[0m \u001b[32m━━━━━━━━━━━━━━━━━━━━\u001b[0m\u001b[37m\u001b[0m \u001b[1m0s\u001b[0m 1ms/step - Brier score: 0.1548 - accuracy: 0.7964 - auc: 0.7233 - cross entropy: 0.4777 - fn: 34.3516 - fp: 6738.5312 - loss: 0.4777 - prc: 0.8309 - precision: 0.7772 - recall: 0.9986 - tn: 2933.2266 - tp: 23306.5312 - val_Brier score: 0.1405 - val_accuracy: 0.8205 - val_auc: 0.7623 - val_cross entropy: 0.4422 - val_fn: 16.0000 - val_fp: 2881.0000 - val_loss: 0.4422 - val_prc: 0.8528 - val_precision: 0.7986 - val_recall: 0.9986 - val_tn: 1820.0000 - val_tp: 11422.0000\n",
      "Epoch 11/100\n",
      "\u001b[1m127/127\u001b[0m \u001b[32m━━━━━━━━━━━━━━━━━━━━\u001b[0m\u001b[37m\u001b[0m \u001b[1m0s\u001b[0m 1ms/step - Brier score: 0.1539 - accuracy: 0.7985 - auc: 0.7226 - cross entropy: 0.4752 - fn: 35.7422 - fp: 6668.7031 - loss: 0.4752 - prc: 0.8321 - precision: 0.7795 - recall: 0.9985 - tn: 2938.2422 - tp: 23369.9531 - val_Brier score: 0.1404 - val_accuracy: 0.8206 - val_auc: 0.7635 - val_cross entropy: 0.4415 - val_fn: 16.0000 - val_fp: 2880.0000 - val_loss: 0.4415 - val_prc: 0.8538 - val_precision: 0.7986 - val_recall: 0.9986 - val_tn: 1821.0000 - val_tp: 11422.0000\n",
      "Epoch 12/100\n",
      "\u001b[1m127/127\u001b[0m \u001b[32m━━━━━━━━━━━━━━━━━━━━\u001b[0m\u001b[37m\u001b[0m \u001b[1m0s\u001b[0m 1ms/step - Brier score: 0.1543 - accuracy: 0.7969 - auc: 0.7256 - cross entropy: 0.4766 - fn: 46.0156 - fp: 6647.2422 - loss: 0.4766 - prc: 0.8345 - precision: 0.7785 - recall: 0.9981 - tn: 2931.3125 - tp: 23388.0703 - val_Brier score: 0.1403 - val_accuracy: 0.8206 - val_auc: 0.7634 - val_cross entropy: 0.4413 - val_fn: 17.0000 - val_fp: 2878.0000 - val_loss: 0.4413 - val_prc: 0.8541 - val_precision: 0.7987 - val_recall: 0.9985 - val_tn: 1823.0000 - val_tp: 11421.0000\n",
      "Epoch 13/100\n",
      "\u001b[1m127/127\u001b[0m \u001b[32m━━━━━━━━━━━━━━━━━━━━\u001b[0m\u001b[37m\u001b[0m \u001b[1m0s\u001b[0m 1ms/step - Brier score: 0.1549 - accuracy: 0.7970 - auc: 0.7195 - cross entropy: 0.4781 - fn: 43.6016 - fp: 6677.6484 - loss: 0.4781 - prc: 0.8314 - precision: 0.7783 - recall: 0.9981 - tn: 2926.4609 - tp: 23364.9297 - val_Brier score: 0.1401 - val_accuracy: 0.8207 - val_auc: 0.7631 - val_cross entropy: 0.4406 - val_fn: 16.0000 - val_fp: 2878.0000 - val_loss: 0.4406 - val_prc: 0.8540 - val_precision: 0.7987 - val_recall: 0.9986 - val_tn: 1823.0000 - val_tp: 11422.0000\n",
      "Epoch 14/100\n",
      "\u001b[1m127/127\u001b[0m \u001b[32m━━━━━━━━━━━━━━━━━━━━\u001b[0m\u001b[37m\u001b[0m \u001b[1m0s\u001b[0m 1ms/step - Brier score: 0.1557 - accuracy: 0.7946 - auc: 0.7228 - cross entropy: 0.4796 - fn: 43.2266 - fp: 6682.8438 - loss: 0.4796 - prc: 0.8328 - precision: 0.7759 - recall: 0.9980 - tn: 2935.4688 - tp: 23351.1016 - val_Brier score: 0.1402 - val_accuracy: 0.8209 - val_auc: 0.7634 - val_cross entropy: 0.4406 - val_fn: 16.0000 - val_fp: 2875.0000 - val_loss: 0.4406 - val_prc: 0.8544 - val_precision: 0.7989 - val_recall: 0.9986 - val_tn: 1826.0000 - val_tp: 11422.0000\n",
      "Epoch 15/100\n",
      "\u001b[1m127/127\u001b[0m \u001b[32m━━━━━━━━━━━━━━━━━━━━\u001b[0m\u001b[37m\u001b[0m \u001b[1m0s\u001b[0m 1ms/step - Brier score: 0.1532 - accuracy: 0.7997 - auc: 0.7257 - cross entropy: 0.4730 - fn: 33.4219 - fp: 6629.5156 - loss: 0.4730 - prc: 0.8351 - precision: 0.7810 - recall: 0.9987 - tn: 2937.0781 - tp: 23412.6250 - val_Brier score: 0.1400 - val_accuracy: 0.8210 - val_auc: 0.7638 - val_cross entropy: 0.4402 - val_fn: 17.0000 - val_fp: 2872.0000 - val_loss: 0.4402 - val_prc: 0.8541 - val_precision: 0.7991 - val_recall: 0.9985 - val_tn: 1829.0000 - val_tp: 11421.0000\n",
      "Epoch 16/100\n",
      "\u001b[1m127/127\u001b[0m \u001b[32m━━━━━━━━━━━━━━━━━━━━\u001b[0m\u001b[37m\u001b[0m \u001b[1m0s\u001b[0m 1ms/step - Brier score: 0.1566 - accuracy: 0.7927 - auc: 0.7251 - cross entropy: 0.4809 - fn: 40.1797 - fp: 6731.3906 - loss: 0.4809 - prc: 0.8321 - precision: 0.7739 - recall: 0.9983 - tn: 2901.1094 - tp: 23339.9609 - val_Brier score: 0.1399 - val_accuracy: 0.8214 - val_auc: 0.7636 - val_cross entropy: 0.4398 - val_fn: 17.0000 - val_fp: 2866.0000 - val_loss: 0.4398 - val_prc: 0.8540 - val_precision: 0.7994 - val_recall: 0.9985 - val_tn: 1835.0000 - val_tp: 11421.0000\n",
      "Epoch 17/100\n",
      "\u001b[1m127/127\u001b[0m \u001b[32m━━━━━━━━━━━━━━━━━━━━\u001b[0m\u001b[37m\u001b[0m \u001b[1m0s\u001b[0m 2ms/step - Brier score: 0.1543 - accuracy: 0.7973 - auc: 0.7263 - cross entropy: 0.4757 - fn: 39.6172 - fp: 6677.6562 - loss: 0.4757 - prc: 0.8345 - precision: 0.7781 - recall: 0.9983 - tn: 2985.5938 - tp: 23309.7734 - val_Brier score: 0.1399 - val_accuracy: 0.8214 - val_auc: 0.7637 - val_cross entropy: 0.4396 - val_fn: 16.0000 - val_fp: 2866.0000 - val_loss: 0.4396 - val_prc: 0.8545 - val_precision: 0.7994 - val_recall: 0.9986 - val_tn: 1835.0000 - val_tp: 11422.0000\n",
      "Epoch 18/100\n",
      "\u001b[1m127/127\u001b[0m \u001b[32m━━━━━━━━━━━━━━━━━━━━\u001b[0m\u001b[37m\u001b[0m \u001b[1m0s\u001b[0m 1ms/step - Brier score: 0.1545 - accuracy: 0.7971 - auc: 0.7250 - cross entropy: 0.4762 - fn: 41.2344 - fp: 6675.6797 - loss: 0.4762 - prc: 0.8346 - precision: 0.7784 - recall: 0.9983 - tn: 2938.5156 - tp: 23357.2109 - val_Brier score: 0.1400 - val_accuracy: 0.8215 - val_auc: 0.7637 - val_cross entropy: 0.4399 - val_fn: 16.0000 - val_fp: 2865.0000 - val_loss: 0.4399 - val_prc: 0.8544 - val_precision: 0.7995 - val_recall: 0.9986 - val_tn: 1836.0000 - val_tp: 11422.0000\n",
      "Epoch 19/100\n",
      "\u001b[1m127/127\u001b[0m \u001b[32m━━━━━━━━━━━━━━━━━━━━\u001b[0m\u001b[37m\u001b[0m \u001b[1m0s\u001b[0m 1ms/step - Brier score: 0.1543 - accuracy: 0.7969 - auc: 0.7266 - cross entropy: 0.4755 - fn: 36.7109 - fp: 6684.0781 - loss: 0.4755 - prc: 0.8350 - precision: 0.7780 - recall: 0.9985 - tn: 2929.1172 - tp: 23362.7344 - val_Brier score: 0.1398 - val_accuracy: 0.8216 - val_auc: 0.7635 - val_cross entropy: 0.4393 - val_fn: 16.0000 - val_fp: 2863.0000 - val_loss: 0.4393 - val_prc: 0.8543 - val_precision: 0.7996 - val_recall: 0.9986 - val_tn: 1838.0000 - val_tp: 11422.0000\n",
      "Epoch 20/100\n",
      "\u001b[1m127/127\u001b[0m \u001b[32m━━━━━━━━━━━━━━━━━━━━\u001b[0m\u001b[37m\u001b[0m \u001b[1m0s\u001b[0m 1ms/step - Brier score: 0.1559 - accuracy: 0.7948 - auc: 0.7205 - cross entropy: 0.4798 - fn: 39.1094 - fp: 6717.3203 - loss: 0.4798 - prc: 0.8319 - precision: 0.7766 - recall: 0.9981 - tn: 2880.7969 - tp: 23375.4141 - val_Brier score: 0.1398 - val_accuracy: 0.8217 - val_auc: 0.7637 - val_cross entropy: 0.4391 - val_fn: 16.0000 - val_fp: 2862.0000 - val_loss: 0.4391 - val_prc: 0.8541 - val_precision: 0.7996 - val_recall: 0.9986 - val_tn: 1839.0000 - val_tp: 11422.0000\n",
      "Epoch 21/100\n",
      "\u001b[1m127/127\u001b[0m \u001b[32m━━━━━━━━━━━━━━━━━━━━\u001b[0m\u001b[37m\u001b[0m \u001b[1m0s\u001b[0m 1ms/step - Brier score: 0.1543 - accuracy: 0.7971 - auc: 0.7268 - cross entropy: 0.4752 - fn: 39.5000 - fp: 6687.5391 - loss: 0.4752 - prc: 0.8349 - precision: 0.7780 - recall: 0.9984 - tn: 2954.0391 - tp: 23331.5625 - val_Brier score: 0.1399 - val_accuracy: 0.8216 - val_auc: 0.7625 - val_cross entropy: 0.4394 - val_fn: 16.0000 - val_fp: 2863.0000 - val_loss: 0.4394 - val_prc: 0.8535 - val_precision: 0.7996 - val_recall: 0.9986 - val_tn: 1838.0000 - val_tp: 11422.0000\n",
      "Epoch 22/100\n",
      "\u001b[1m127/127\u001b[0m \u001b[32m━━━━━━━━━━━━━━━━━━━━\u001b[0m\u001b[37m\u001b[0m \u001b[1m0s\u001b[0m 1ms/step - Brier score: 0.1543 - accuracy: 0.7968 - auc: 0.7255 - cross entropy: 0.4753 - fn: 39.9531 - fp: 6663.5938 - loss: 0.4753 - prc: 0.8353 - precision: 0.7785 - recall: 0.9984 - tn: 2922.9922 - tp: 23386.1016 - val_Brier score: 0.1398 - val_accuracy: 0.8217 - val_auc: 0.7625 - val_cross entropy: 0.4391 - val_fn: 16.0000 - val_fp: 2862.0000 - val_loss: 0.4391 - val_prc: 0.8538 - val_precision: 0.7996 - val_recall: 0.9986 - val_tn: 1839.0000 - val_tp: 11422.0000\n",
      "Epoch 23/100\n",
      "\u001b[1m127/127\u001b[0m \u001b[32m━━━━━━━━━━━━━━━━━━━━\u001b[0m\u001b[37m\u001b[0m \u001b[1m0s\u001b[0m 1ms/step - Brier score: 0.1543 - accuracy: 0.7972 - auc: 0.7256 - cross entropy: 0.4758 - fn: 38.6719 - fp: 6684.8828 - loss: 0.4758 - prc: 0.8347 - precision: 0.7782 - recall: 0.9983 - tn: 2958.8203 - tp: 23330.2656 - val_Brier score: 0.1398 - val_accuracy: 0.8217 - val_auc: 0.7630 - val_cross entropy: 0.4391 - val_fn: 16.0000 - val_fp: 2862.0000 - val_loss: 0.4391 - val_prc: 0.8544 - val_precision: 0.7996 - val_recall: 0.9986 - val_tn: 1839.0000 - val_tp: 11422.0000\n",
      "Epoch 24/100\n",
      "\u001b[1m127/127\u001b[0m \u001b[32m━━━━━━━━━━━━━━━━━━━━\u001b[0m\u001b[37m\u001b[0m \u001b[1m0s\u001b[0m 1ms/step - Brier score: 0.1555 - accuracy: 0.7957 - auc: 0.7217 - cross entropy: 0.4790 - fn: 41.7656 - fp: 6702.3516 - loss: 0.4790 - prc: 0.8300 - precision: 0.7767 - recall: 0.9981 - tn: 2962.3438 - tp: 23306.1797 - val_Brier score: 0.1398 - val_accuracy: 0.8217 - val_auc: 0.7630 - val_cross entropy: 0.4391 - val_fn: 16.0000 - val_fp: 2861.0000 - val_loss: 0.4391 - val_prc: 0.8544 - val_precision: 0.7997 - val_recall: 0.9986 - val_tn: 1840.0000 - val_tp: 11422.0000\n",
      "Epoch 25/100\n",
      "\u001b[1m127/127\u001b[0m \u001b[32m━━━━━━━━━━━━━━━━━━━━\u001b[0m\u001b[37m\u001b[0m \u001b[1m0s\u001b[0m 1ms/step - Brier score: 0.1558 - accuracy: 0.7947 - auc: 0.7221 - cross entropy: 0.4791 - fn: 35.4922 - fp: 6707.3594 - loss: 0.4791 - prc: 0.8308 - precision: 0.7760 - recall: 0.9985 - tn: 2892.5234 - tp: 23377.2656 - val_Brier score: 0.1397 - val_accuracy: 0.8217 - val_auc: 0.7630 - val_cross entropy: 0.4389 - val_fn: 16.0000 - val_fp: 2861.0000 - val_loss: 0.4389 - val_prc: 0.8539 - val_precision: 0.7997 - val_recall: 0.9986 - val_tn: 1840.0000 - val_tp: 11422.0000\n",
      "Epoch 26/100\n",
      "\u001b[1m127/127\u001b[0m \u001b[32m━━━━━━━━━━━━━━━━━━━━\u001b[0m\u001b[37m\u001b[0m \u001b[1m0s\u001b[0m 1ms/step - Brier score: 0.1542 - accuracy: 0.7972 - auc: 0.7271 - cross entropy: 0.4762 - fn: 36.4844 - fp: 6670.0625 - loss: 0.4762 - prc: 0.8364 - precision: 0.7781 - recall: 0.9983 - tn: 2969.7734 - tp: 23336.3203 - val_Brier score: 0.1397 - val_accuracy: 0.8217 - val_auc: 0.7630 - val_cross entropy: 0.4388 - val_fn: 16.0000 - val_fp: 2861.0000 - val_loss: 0.4388 - val_prc: 0.8537 - val_precision: 0.7997 - val_recall: 0.9986 - val_tn: 1840.0000 - val_tp: 11422.0000\n",
      "Epoch 27/100\n",
      "\u001b[1m127/127\u001b[0m \u001b[32m━━━━━━━━━━━━━━━━━━━━\u001b[0m\u001b[37m\u001b[0m \u001b[1m0s\u001b[0m 2ms/step - Brier score: 0.1553 - accuracy: 0.7958 - auc: 0.7245 - cross entropy: 0.4785 - fn: 41.0391 - fp: 6691.8359 - loss: 0.4785 - prc: 0.8329 - precision: 0.7768 - recall: 0.9981 - tn: 2946.7266 - tp: 23333.0391 - val_Brier score: 0.1398 - val_accuracy: 0.8217 - val_auc: 0.7631 - val_cross entropy: 0.4393 - val_fn: 16.0000 - val_fp: 2862.0000 - val_loss: 0.4393 - val_prc: 0.8540 - val_precision: 0.7996 - val_recall: 0.9986 - val_tn: 1839.0000 - val_tp: 11422.0000\n",
      "Epoch 27: early stopping\n",
      "Restoring model weights from the end of the best epoch: 17.\n"
     ]
    }
   ],
   "source": [
    "model = make_model()\n",
    "model.load_weights(initial_weights)\n",
    "baseline_history = model.fit(\n",
    "   X_train,\n",
    "   y_train,\n",
    "   batch_size=BATCH_SIZE,\n",
    "   epochs=EPOCHS,\n",
    "   callbacks=[early_stopping],\n",
    "   validation_data=(X_valid, y_valid))"
   ]
  },
  {
   "cell_type": "code",
   "execution_count": 42,
   "id": "CKP2UtMVbDFL",
   "metadata": {
    "id": "CKP2UtMVbDFL"
   },
   "outputs": [],
   "source": [
    "def plot_metrics(history):\n",
    "  metrics = ['loss', 'prc', 'precision', 'recall']\n",
    "  for n, metric in enumerate(metrics):\n",
    "    name = metric.replace(\"_\",\" \").capitalize()\n",
    "    plt.subplot(2,2,n+1)\n",
    "    plt.plot(history.epoch, history.history[metric], color=colors[0], label='Train')\n",
    "    plt.plot(history.epoch, history.history['val_'+metric],\n",
    "             color=colors[0], linestyle=\"--\", label='Val')\n",
    "    plt.xlabel('Epoch')\n",
    "    plt.ylabel(name)\n",
    "    if metric == 'loss':\n",
    "      plt.ylim([0, plt.ylim()[1]])\n",
    "    elif metric == 'auc':\n",
    "      plt.ylim([0.8,1])\n",
    "    else:\n",
    "      plt.ylim([0,1])\n",
    "\n",
    "    plt.legend()"
   ]
  },
  {
   "cell_type": "code",
   "execution_count": 43,
   "id": "bFye7v3sbFH_",
   "metadata": {
    "colab": {
     "base_uri": "https://localhost:8080/",
     "height": 855
    },
    "id": "bFye7v3sbFH_",
    "outputId": "57b66f29-9d2a-4e7f-813a-6650cefb7837"
   },
   "outputs": [
    {
     "data": {
      "image/png": "[encoded data removed]",
      "text/plain": [
       "<Figure size 1200x1000 with 4 Axes>"
      ]
     },
     "metadata": {},
     "output_type": "display_data"
    }
   ],
   "source": [
    "plot_metrics(baseline_history)"
   ]
  },
  {
   "cell_type": "code",
   "execution_count": 44,
   "id": "Pwn1kbuebe-L",
   "metadata": {
    "colab": {
     "base_uri": "https://localhost:8080/"
    },
    "id": "Pwn1kbuebe-L",
    "outputId": "9f004e9d-51da-40a2-e0fb-87724de17dbf"
   },
   "outputs": [
    {
     "name": "stdout",
     "output_type": "stream",
     "text": [
      "\u001b[1m127/127\u001b[0m \u001b[32m━━━━━━━━━━━━━━━━━━━━\u001b[0m\u001b[37m\u001b[0m \u001b[1m0s\u001b[0m 666us/step\n",
      "\u001b[1m32/32\u001b[0m \u001b[32m━━━━━━━━━━━━━━━━━━━━\u001b[0m\u001b[37m\u001b[0m \u001b[1m0s\u001b[0m 575us/step\n"
     ]
    }
   ],
   "source": [
    "train_predictions_baseline = model.predict(X_train, batch_size=BATCH_SIZE)\n",
    "valid_predictions_baseline = model.predict(X_valid, batch_size=BATCH_SIZE)"
   ]
  },
  {
   "cell_type": "code",
   "execution_count": 45,
   "id": "ALUDs-gLbogQ",
   "metadata": {
    "id": "ALUDs-gLbogQ"
   },
   "outputs": [],
   "source": [
    "from sklearn.metrics import confusion_matrix\n",
    "\n",
    "def plot_cm(labels, predictions, threshold=0.5):\n",
    "  cm = confusion_matrix(labels, predictions > threshold)\n",
    "  plt.figure(figsize=(5,5))\n",
    "  sns.heatmap(cm, annot=True, fmt=\"d\")\n",
    "  plt.title('Confusion matrix @{:.2f}'.format(threshold))\n",
    "  plt.ylabel('Actual label')\n",
    "  plt.xlabel('Predicted label')\n",
    "\n",
    "  print('Requests Not Led to Ride Detected (True Negatives): ', cm[0][0])\n",
    "  print('Requests Not Led to Ride Incorrectly Detected (False Positives): ', cm[0][1])\n",
    "  print('Requests Led to Ride Missed (False Negatives): ', cm[1][0])\n",
    "  print('Requests Led to Ride Detected (True Positives): ', cm[1][1])\n",
    "  print('Total Requests Led to Ride: ', np.sum(cm[1]))"
   ]
  },
  {
   "cell_type": "code",
   "execution_count": 46,
   "id": "n7FM2yJtbutU",
   "metadata": {
    "colab": {
     "base_uri": "https://localhost:8080/",
     "height": 799
    },
    "id": "n7FM2yJtbutU",
    "outputId": "d274a12b-a5f2-4b3f-b3dc-ce33221d2203"
   },
   "outputs": [
    {
     "name": "stdout",
     "output_type": "stream",
     "text": [
      "loss :  0.4395565688610077\n",
      "compile_metrics :  0.4395565688610077\n",
      "\n",
      "Requests Not Led to Ride Detected (True Negatives):  1835\n",
      "Requests Not Led to Ride Incorrectly Detected (False Positives):  2866\n",
      "Requests Led to Ride Missed (False Negatives):  16\n",
      "Requests Led to Ride Detected (True Positives):  11422\n",
      "Total Requests Led to Ride:  11438\n"
     ]
    },
    {
     "data": {
      "image/png": "[encoded data removed]",
      "text/plain": [
       "<Figure size 500x500 with 2 Axes>"
      ]
     },
     "metadata": {},
     "output_type": "display_data"
    }
   ],
   "source": [
    "baseline_results = model.evaluate(X_valid, y_valid,\n",
    "                                  batch_size=BATCH_SIZE, verbose=0)\n",
    "for name, value in zip(model.metrics_names, baseline_results):\n",
    "  print(name, ': ', value)\n",
    "print()\n",
    "\n",
    "plot_cm(y_valid, valid_predictions_baseline)"
   ]
  },
  {
   "cell_type": "code",
   "execution_count": 47,
   "id": "yku0vr1Hdn4G",
   "metadata": {
    "colab": {
     "base_uri": "https://localhost:8080/",
     "height": 1000
    },
    "id": "yku0vr1Hdn4G",
    "outputId": "90d05363-2419-491b-af8f-8316bfd0fd33"
   },
   "outputs": [
    {
     "name": "stdout",
     "output_type": "stream",
     "text": [
      "Requests Not Led to Ride Detected (True Negatives):  1766\n",
      "Requests Not Led to Ride Incorrectly Detected (False Positives):  2935\n",
      "Requests Led to Ride Missed (False Negatives):  7\n",
      "Requests Led to Ride Detected (True Positives):  11431\n",
      "Total Requests Led to Ride:  11438\n",
      "Requests Not Led to Ride Detected (True Negatives):  1299\n",
      "Requests Not Led to Ride Incorrectly Detected (False Positives):  3402\n",
      "Requests Led to Ride Missed (False Negatives):  1\n",
      "Requests Led to Ride Detected (True Positives):  11437\n",
      "Total Requests Led to Ride:  11438\n"
     ]
    },
    {
     "data": {
      "image/png": "[encoded data removed]",
      "text/plain": [
       "<Figure size 500x500 with 2 Axes>"
      ]
     },
     "metadata": {},
     "output_type": "display_data"
    },
    {
     "data": {
      "image/png": "[encoded data removed]",
      "text/plain": [
       "<Figure size 500x500 with 2 Axes>"
      ]
     },
     "metadata": {},
     "output_type": "display_data"
    }
   ],
   "source": [
    "plot_cm(y_valid, valid_predictions_baseline, threshold=0.1)\n",
    "plot_cm(y_valid, valid_predictions_baseline, threshold=0.01)"
   ]
  },
  {
   "cell_type": "code",
   "execution_count": 48,
   "id": "4mLxEacXeUBP",
   "metadata": {
    "id": "4mLxEacXeUBP"
   },
   "outputs": [],
   "source": [
    "import sklearn\n",
    "\n",
    "def plot_roc(name, labels, predictions, **kwargs):\n",
    "  fp, tp, _ = sklearn.metrics.roc_curve(labels, predictions)\n",
    "\n",
    "  plt.plot(100*fp, 100*tp, label=name, linewidth=2, **kwargs)\n",
    "  plt.xlabel('False positives [%]')\n",
    "  plt.ylabel('True positives [%]')\n",
    "  # plt.xlim([-0.5,20])\n",
    "  # plt.ylim([60,100.5])\n",
    "  plt.grid(True)\n",
    "  ax = plt.gca()\n",
    "  ax.set_aspect('equal')"
   ]
  },
  {
   "cell_type": "code",
   "execution_count": 49,
   "id": "hRGjZ2HfeYLF",
   "metadata": {
    "colab": {
     "base_uri": "https://localhost:8080/",
     "height": 850
    },
    "id": "hRGjZ2HfeYLF",
    "outputId": "94c8d339-76e4-415f-af95-910353131141"
   },
   "outputs": [
    {
     "data": {
      "image/png": "[encoded data removed]",
      "text/plain": [
       "<Figure size 1200x1000 with 1 Axes>"
      ]
     },
     "metadata": {},
     "output_type": "display_data"
    }
   ],
   "source": [
    "plot_roc(\"Train Baseline\", y_train, train_predictions_baseline, color=colors[0])\n",
    "plot_roc(\"Valid Baseline\", y_valid, valid_predictions_baseline, color=colors[0], linestyle='--')\n",
    "plt.legend(loc='lower right');"
   ]
  },
  {
   "cell_type": "code",
   "execution_count": 50,
   "id": "46HHX4-kfQmY",
   "metadata": {
    "id": "46HHX4-kfQmY"
   },
   "outputs": [],
   "source": [
    "def plot_prc(name, labels, predictions, **kwargs):\n",
    "    precision, recall, _ = sklearn.metrics.precision_recall_curve(labels, predictions)\n",
    "\n",
    "    plt.plot(precision, recall, label=name, linewidth=2, **kwargs)\n",
    "    plt.xlabel('Precision')\n",
    "    plt.ylabel('Recall')\n",
    "    plt.grid(True)\n",
    "    ax = plt.gca()\n",
    "    # ax.set_aspect('equal')"
   ]
  },
  {
   "cell_type": "code",
   "execution_count": 51,
   "id": "R-DuDb2OffzY",
   "metadata": {
    "colab": {
     "base_uri": "https://localhost:8080/",
     "height": 850
    },
    "id": "R-DuDb2OffzY",
    "outputId": "d1ae8c48-6e51-4124-d1f2-af1b55eea3ea"
   },
   "outputs": [
    {
     "data": {
      "image/png": "[encoded data removed]",
      "text/plain": [
       "<Figure size 1200x1000 with 1 Axes>"
      ]
     },
     "metadata": {},
     "output_type": "display_data"
    }
   ],
   "source": [
    "plot_prc(\"Train Baseline\", y_train, train_predictions_baseline, color=colors[0])\n",
    "plot_prc(\"Valid Baseline\", y_valid, valid_predictions_baseline, color=colors[0], linestyle='--')\n",
    "plt.legend(loc='lower right');"
   ]
  },
  {
   "cell_type": "code",
   "execution_count": 52,
   "id": "UYIQqYUZgXQs",
   "metadata": {
    "colab": {
     "base_uri": "https://localhost:8080/"
    },
    "id": "UYIQqYUZgXQs",
    "outputId": "806ea2ea-2796-4c79-e31a-b3eed3fc6c97"
   },
   "outputs": [
    {
     "name": "stdout",
     "output_type": "stream",
     "text": [
      "Weight for class 0: 1.72\n",
      "Weight for class 1: 0.71\n"
     ]
    }
   ],
   "source": [
    "# Scaling by total/2 helps keep the loss to a similar magnitude.\n",
    "# The sum of the weights of all examples stays the same.\n",
    "weight_for_0 = (1 / neg) * (total / 2.0)\n",
    "weight_for_1 = (1 / pos) * (total / 2.0)\n",
    "\n",
    "class_weight = {0: weight_for_0, 1: weight_for_1}\n",
    "\n",
    "print('Weight for class 0: {:.2f}'.format(weight_for_0))\n",
    "print('Weight for class 1: {:.2f}'.format(weight_for_1))"
   ]
  },
  {
   "cell_type": "code",
   "execution_count": 53,
   "id": "H7DKj3gGg1Xk",
   "metadata": {
    "colab": {
     "base_uri": "https://localhost:8080/"
    },
    "id": "H7DKj3gGg1Xk",
    "outputId": "bd458548-dfb1-449a-cf91-8d1d6d41d15a"
   },
   "outputs": [
    {
     "ename": "KeyError",
     "evalue": "0",
     "output_type": "error",
     "traceback": [
      "\u001b[1;31m---------------------------------------------------------------------------\u001b[0m",
      "\u001b[1;31mKeyError\u001b[0m                                  Traceback (most recent call last)",
      "Cell \u001b[1;32mIn[53], line 4\u001b[0m\n\u001b[0;32m      1\u001b[0m weighted_model \u001b[38;5;241m=\u001b[39m make_model()\n\u001b[0;32m      2\u001b[0m weighted_model\u001b[38;5;241m.\u001b[39mload_weights(initial_weights)\n\u001b[1;32m----> 4\u001b[0m weighted_history \u001b[38;5;241m=\u001b[39m weighted_model\u001b[38;5;241m.\u001b[39mfit(\n\u001b[0;32m      5\u001b[0m     X_train,\n\u001b[0;32m      6\u001b[0m     y_train,\n\u001b[0;32m      7\u001b[0m     batch_size\u001b[38;5;241m=\u001b[39mBATCH_SIZE,\n\u001b[0;32m      8\u001b[0m     epochs\u001b[38;5;241m=\u001b[39mEPOCHS,\n\u001b[0;32m      9\u001b[0m     callbacks\u001b[38;5;241m=\u001b[39m[early_stopping],\n\u001b[0;32m     10\u001b[0m     validation_data\u001b[38;5;241m=\u001b[39m(X_valid, y_valid),\n\u001b[0;32m     11\u001b[0m     \u001b[38;5;66;03m# The class weights go here\u001b[39;00m\n\u001b[0;32m     12\u001b[0m     class_weight\u001b[38;5;241m=\u001b[39mclass_weight)\n",
      "File \u001b[1;32m~\\anaconda3\\Lib\\site-packages\\keras\\src\\utils\\traceback_utils.py:122\u001b[0m, in \u001b[0;36mfilter_traceback.<locals>.error_handler\u001b[1;34m(*args, **kwargs)\u001b[0m\n\u001b[0;32m    119\u001b[0m     filtered_tb \u001b[38;5;241m=\u001b[39m _process_traceback_frames(e\u001b[38;5;241m.\u001b[39m__traceback__)\n\u001b[0;32m    120\u001b[0m     \u001b[38;5;66;03m# To get the full stack trace, call:\u001b[39;00m\n\u001b[0;32m    121\u001b[0m     \u001b[38;5;66;03m# `keras.config.disable_traceback_filtering()`\u001b[39;00m\n\u001b[1;32m--> 122\u001b[0m     \u001b[38;5;28;01mraise\u001b[39;00m e\u001b[38;5;241m.\u001b[39mwith_traceback(filtered_tb) \u001b[38;5;28;01mfrom\u001b[39;00m \u001b[38;5;28;01mNone\u001b[39;00m\n\u001b[0;32m    123\u001b[0m \u001b[38;5;28;01mfinally\u001b[39;00m:\n\u001b[0;32m    124\u001b[0m     \u001b[38;5;28;01mdel\u001b[39;00m filtered_tb\n",
      "File \u001b[1;32m~\\anaconda3\\Lib\\site-packages\\pandas\\core\\series.py:1040\u001b[0m, in \u001b[0;36mSeries.__getitem__\u001b[1;34m(self, key)\u001b[0m\n\u001b[0;32m   1037\u001b[0m     \u001b[38;5;28;01mreturn\u001b[39;00m \u001b[38;5;28mself\u001b[39m\u001b[38;5;241m.\u001b[39m_values[key]\n\u001b[0;32m   1039\u001b[0m \u001b[38;5;28;01melif\u001b[39;00m key_is_scalar:\n\u001b[1;32m-> 1040\u001b[0m     \u001b[38;5;28;01mreturn\u001b[39;00m \u001b[38;5;28mself\u001b[39m\u001b[38;5;241m.\u001b[39m_get_value(key)\n\u001b[0;32m   1042\u001b[0m \u001b[38;5;66;03m# Convert generator to list before going through hashable part\u001b[39;00m\n\u001b[0;32m   1043\u001b[0m \u001b[38;5;66;03m# (We will iterate through the generator there to check for slices)\u001b[39;00m\n\u001b[0;32m   1044\u001b[0m \u001b[38;5;28;01mif\u001b[39;00m is_iterator(key):\n",
      "File \u001b[1;32m~\\anaconda3\\Lib\\site-packages\\pandas\\core\\series.py:1156\u001b[0m, in \u001b[0;36mSeries._get_value\u001b[1;34m(self, label, takeable)\u001b[0m\n\u001b[0;32m   1153\u001b[0m     \u001b[38;5;28;01mreturn\u001b[39;00m \u001b[38;5;28mself\u001b[39m\u001b[38;5;241m.\u001b[39m_values[label]\n\u001b[0;32m   1155\u001b[0m \u001b[38;5;66;03m# Similar to Index.get_value, but we do not fall back to positional\u001b[39;00m\n\u001b[1;32m-> 1156\u001b[0m loc \u001b[38;5;241m=\u001b[39m \u001b[38;5;28mself\u001b[39m\u001b[38;5;241m.\u001b[39mindex\u001b[38;5;241m.\u001b[39mget_loc(label)\n\u001b[0;32m   1158\u001b[0m \u001b[38;5;28;01mif\u001b[39;00m is_integer(loc):\n\u001b[0;32m   1159\u001b[0m     \u001b[38;5;28;01mreturn\u001b[39;00m \u001b[38;5;28mself\u001b[39m\u001b[38;5;241m.\u001b[39m_values[loc]\n",
      "File \u001b[1;32m~\\anaconda3\\Lib\\site-packages\\pandas\\core\\indexes\\base.py:3798\u001b[0m, in \u001b[0;36mIndex.get_loc\u001b[1;34m(self, key)\u001b[0m\n\u001b[0;32m   3793\u001b[0m     \u001b[38;5;28;01mif\u001b[39;00m \u001b[38;5;28misinstance\u001b[39m(casted_key, \u001b[38;5;28mslice\u001b[39m) \u001b[38;5;129;01mor\u001b[39;00m (\n\u001b[0;32m   3794\u001b[0m         \u001b[38;5;28misinstance\u001b[39m(casted_key, abc\u001b[38;5;241m.\u001b[39mIterable)\n\u001b[0;32m   3795\u001b[0m         \u001b[38;5;129;01mand\u001b[39;00m \u001b[38;5;28many\u001b[39m(\u001b[38;5;28misinstance\u001b[39m(x, \u001b[38;5;28mslice\u001b[39m) \u001b[38;5;28;01mfor\u001b[39;00m x \u001b[38;5;129;01min\u001b[39;00m casted_key)\n\u001b[0;32m   3796\u001b[0m     ):\n\u001b[0;32m   3797\u001b[0m         \u001b[38;5;28;01mraise\u001b[39;00m InvalidIndexError(key)\n\u001b[1;32m-> 3798\u001b[0m     \u001b[38;5;28;01mraise\u001b[39;00m \u001b[38;5;167;01mKeyError\u001b[39;00m(key) \u001b[38;5;28;01mfrom\u001b[39;00m \u001b[38;5;21;01merr\u001b[39;00m\n\u001b[0;32m   3799\u001b[0m \u001b[38;5;28;01mexcept\u001b[39;00m \u001b[38;5;167;01mTypeError\u001b[39;00m:\n\u001b[0;32m   3800\u001b[0m     \u001b[38;5;66;03m# If we have a listlike key, _check_indexing_error will raise\u001b[39;00m\n\u001b[0;32m   3801\u001b[0m     \u001b[38;5;66;03m#  InvalidIndexError. Otherwise we fall through and re-raise\u001b[39;00m\n\u001b[0;32m   3802\u001b[0m     \u001b[38;5;66;03m#  the TypeError.\u001b[39;00m\n\u001b[0;32m   3803\u001b[0m     \u001b[38;5;28mself\u001b[39m\u001b[38;5;241m.\u001b[39m_check_indexing_error(key)\n",
      "\u001b[1;31mKeyError\u001b[0m: 0"
     ]
    }
   ],
   "source": [
    "weighted_model = make_model()\n",
    "weighted_model.load_weights(initial_weights)\n",
    "\n",
    "weighted_history = weighted_model.fit(\n",
    "    X_train,\n",
    "    y_train,\n",
    "    batch_size=BATCH_SIZE,\n",
    "    epochs=EPOCHS,\n",
    "    callbacks=[early_stopping],\n",
    "    validation_data=(X_valid, y_valid),\n",
    "    # The class weights go here\n",
    "    class_weight=class_weight)"
   ]
  },
  {
   "cell_type": "code",
   "execution_count": null,
   "id": "z-GpsQ1ShJ5K",
   "metadata": {
    "colab": {
     "base_uri": "https://localhost:8080/",
     "height": 855
    },
    "id": "z-GpsQ1ShJ5K",
    "outputId": "5a8aa95a-39d1-4d5c-e795-1c619fabd734"
   },
   "outputs": [],
   "source": [
    "plot_metrics(weighted_history)"
   ]
  },
  {
   "cell_type": "code",
   "execution_count": null,
   "id": "717V4jIfheD0",
   "metadata": {
    "colab": {
     "base_uri": "https://localhost:8080/"
    },
    "id": "717V4jIfheD0",
    "outputId": "f2154d47-0470-4c93-ec94-825070411d26"
   },
   "outputs": [],
   "source": [
    "train_predictions_weighted = weighted_model.predict(X_train, batch_size=BATCH_SIZE)\n",
    "valid_predictions_weighted = weighted_model.predict(X_valid, batch_size=BATCH_SIZE)"
   ]
  },
  {
   "cell_type": "code",
   "execution_count": null,
   "id": "MWUE7KGGhoyu",
   "metadata": {
    "colab": {
     "base_uri": "https://localhost:8080/",
     "height": 799
    },
    "id": "MWUE7KGGhoyu",
    "outputId": "99dc9154-cb29-4ec2-b489-0913c5f1cbde"
   },
   "outputs": [],
   "source": [
    "weighted_results = weighted_model.evaluate(X_valid, y_valid,\n",
    "                                           batch_size=BATCH_SIZE, verbose=0)\n",
    "for name, value in zip(weighted_model.metrics_names, weighted_results):\n",
    "  print(name, ': ', value)\n",
    "print()\n",
    "\n",
    "plot_cm(y_valid, valid_predictions_weighted)"
   ]
  },
  {
   "cell_type": "code",
   "execution_count": null,
   "id": "-XEpTfRciZt8",
   "metadata": {
    "colab": {
     "base_uri": "https://localhost:8080/",
     "height": 850
    },
    "id": "-XEpTfRciZt8",
    "outputId": "5d69d773-4389-45e6-cfbb-32221834122e"
   },
   "outputs": [],
   "source": [
    "plot_roc(\"Train Baseline\", y_train, train_predictions_baseline, color=colors[0])\n",
    "plot_roc(\"Valid Baseline\", y_valid, valid_predictions_weighted, color=colors[0], linestyle='--')\n",
    "\n",
    "plot_roc(\"Train Weighted\", y_train, train_predictions_weighted, color=colors[1])\n",
    "plot_roc(\"Valid Weighted\", y_valid, valid_predictions_weighted, color=colors[1], linestyle='--')\n",
    "\n",
    "\n",
    "plt.legend(loc='lower right');"
   ]
  },
  {
   "cell_type": "code",
   "execution_count": null,
   "id": "bl5JlKehiu_o",
   "metadata": {
    "colab": {
     "base_uri": "https://localhost:8080/",
     "height": 850
    },
    "id": "bl5JlKehiu_o",
    "outputId": "06dc6ecf-9efe-4e23-8a82-1d8741263d48"
   },
   "outputs": [],
   "source": [
    "plot_prc(\"Train Baseline\", y_train, train_predictions_baseline, color=colors[0])\n",
    "plot_prc(\"Valid Baseline\", y_valid, valid_predictions_weighted, color=colors[0], linestyle='--')\n",
    "\n",
    "plot_prc(\"Train Weighted\", y_train, train_predictions_weighted, color=colors[1])\n",
    "plot_prc(\"Valid Weighted\", y_valid, valid_predictions_weighted, color=colors[1], linestyle='--')\n",
    "\n",
    "\n",
    "plt.legend(loc='lower right');"
   ]
  },
  {
   "cell_type": "code",
   "execution_count": null,
   "id": "CCC8PnX4jNfX",
   "metadata": {
    "id": "CCC8PnX4jNfX"
   },
   "outputs": [],
   "source": [
    "bool_train_labels = y_train != 0"
   ]
  },
  {
   "cell_type": "code",
   "execution_count": null,
   "id": "XXtmtPS2jYIf",
   "metadata": {
    "id": "XXtmtPS2jYIf"
   },
   "outputs": [],
   "source": [
    "pos_features = X_train[bool_train_labels]\n",
    "neg_features = X_train[~bool_train_labels]\n",
    "\n",
    "pos_labels = y_train[bool_train_labels]\n",
    "neg_labels = y_train[~bool_train_labels]"
   ]
  },
  {
   "cell_type": "code",
   "execution_count": null,
   "id": "4VoqLDFMjqUI",
   "metadata": {
    "colab": {
     "base_uri": "https://localhost:8080/",
     "height": 529
    },
    "id": "4VoqLDFMjqUI",
    "outputId": "98a78dbb-ca4b-4371-9040-c6e17ec4bc5f"
   },
   "outputs": [],
   "source": [
    "ids = np.arange(len(pos_features))\n",
    "choices = np.random.choice(ids, len(neg_features))\n",
    "\n",
    "res_pos_features = pos_features[choices]\n",
    "res_pos_labels = pos_labels[choices]\n",
    "\n",
    "res_pos_features.shape"
   ]
  },
  {
   "cell_type": "markdown",
   "id": "7c8c55bd-c182-44b2-982e-fb6de1de33ed",
   "metadata": {
    "id": "7c8c55bd-c182-44b2-982e-fb6de1de33ed"
   },
   "source": [
    "## Split the Data into Train and Validation"
   ]
  },
  {
   "cell_type": "code",
   "execution_count": null,
   "id": "646fc020-6e89-4598-bb73-40b25a17fa1e",
   "metadata": {
    "id": "646fc020-6e89-4598-bb73-40b25a17fa1e"
   },
   "outputs": [],
   "source": [
    "y = data.target\n",
    "data.drop(['target'], axis=1, inplace=True)\n",
    "\n",
    "X_train, X_val, y_train, y_val = train_test_split(data, y, stratify = y, test_size=.2, random_state =10)"
   ]
  },
  {
   "cell_type": "markdown",
   "id": "60bcafca-e90d-496b-9283-635e43637451",
   "metadata": {
    "id": "60bcafca-e90d-496b-9283-635e43637451"
   },
   "source": [
    "## Extract Useful Info from Date Column"
   ]
  },
  {
   "cell_type": "code",
   "execution_count": null,
   "id": "7ec9e41a-3515-4341-b9b9-e1ff8c8f9ec6",
   "metadata": {
    "id": "7ec9e41a-3515-4341-b9b9-e1ff8c8f9ec6"
   },
   "outputs": [],
   "source": [
    "def date_info_extractor(data, column):\n",
    "    data.loc[:, 'request_hour'] = data[column].dt.hour\n",
    "    data.loc[:, 'request_weekday'] = data[column].dt.day_name()\n",
    "    data.loc[:, 'request_date'] = data[column].dt.day\n",
    "\n",
    "    return data\n",
    "\n",
    "X_train = date_info_extractor(X_train.copy(), \"request_datetime\")\n",
    "X_val = date_info_extractor(X_val.copy(), \"request_datetime\")"
   ]
  },
  {
   "cell_type": "code",
   "execution_count": null,
   "id": "d657011f-b3c2-4c84-8ce8-2bb8dd0fcb37",
   "metadata": {
    "id": "d657011f-b3c2-4c84-8ce8-2bb8dd0fcb37"
   },
   "outputs": [],
   "source": [
    "X_train.info()"
   ]
  },
  {
   "cell_type": "code",
   "execution_count": null,
   "id": "6bfeebc8-ad71-4c9d-87de-160ba94f0623",
   "metadata": {
    "id": "6bfeebc8-ad71-4c9d-87de-160ba94f0623"
   },
   "outputs": [],
   "source": [
    "X_train.nunique()"
   ]
  },
  {
   "cell_type": "markdown",
   "id": "740d6dad-5063-4908-b178-03c0673b9b0d",
   "metadata": {
    "id": "740d6dad-5063-4908-b178-03c0673b9b0d"
   },
   "source": [
    "## Find Columns with Duplicate Values in Other Columns and Dropping them"
   ]
  },
  {
   "cell_type": "code",
   "execution_count": null,
   "id": "2139ce01-ace6-4655-84ad-87395f047023",
   "metadata": {
    "id": "2139ce01-ace6-4655-84ad-87395f047023"
   },
   "outputs": [],
   "source": [
    "data = data.drop([\"origin_longitude\", \"destination_longitude\", \"second_destination_longitude\",\n",
    "                  \"origin_latitude\", \"destination_latitude\", \"second_destination_latitude\"], axis=\"columns\")"
   ]
  },
  {
   "cell_type": "code",
   "execution_count": null,
   "id": "1176dd71-bffe-4c51-b89f-12e6ed205f46",
   "metadata": {
    "id": "1176dd71-bffe-4c51-b89f-12e6ed205f46"
   },
   "outputs": [],
   "source": [
    "X_train = X_train.drop([\"origin_longitude\", \"destination_longitude\", \"second_destination_longitude\",\n",
    "                  \"origin_latitude\", \"destination_latitude\", \"second_destination_latitude\"], axis=\"columns\")\n",
    "\n",
    "X_val = X_val.drop([\"origin_longitude\", \"destination_longitude\", \"second_destination_longitude\",\n",
    "                  \"origin_latitude\", \"destination_latitude\", \"second_destination_latitude\"], axis=\"columns\")"
   ]
  },
  {
   "cell_type": "code",
   "execution_count": null,
   "id": "b1e54cde-341f-414b-aa83-d16d9349f49f",
   "metadata": {
    "id": "b1e54cde-341f-414b-aa83-d16d9349f49f"
   },
   "outputs": [],
   "source": [
    "X_train.info()"
   ]
  },
  {
   "cell_type": "code",
   "execution_count": null,
   "id": "2064380a-9869-466c-92c5-e170bceeba3b",
   "metadata": {
    "id": "2064380a-9869-466c-92c5-e170bceeba3b"
   },
   "outputs": [],
   "source": [
    "X_train.nunique()"
   ]
  },
  {
   "cell_type": "markdown",
   "id": "499d4e62-92c1-4894-be1e-a9e787f7016b",
   "metadata": {
    "id": "499d4e62-92c1-4894-be1e-a9e787f7016b"
   },
   "source": [
    "## Covert some Features to Categorical"
   ]
  },
  {
   "cell_type": "code",
   "execution_count": null,
   "id": "a3121012-ddae-42e9-925b-d150d7f17042",
   "metadata": {
    "id": "a3121012-ddae-42e9-925b-d150d7f17042"
   },
   "outputs": [],
   "source": [
    "# Select categorical columns with relatively low cardinality (convenient but arbitrary)\n",
    "low_cardinality_cols = [cname for cname in X_train.columns if X_train[cname].nunique() < 25 and\n",
    "                        X_train[cname].dtype in [\"int64\", \"object\",\"int32\"]]"
   ]
  },
  {
   "cell_type": "code",
   "execution_count": null,
   "id": "f1ccbb4b-50f8-41ea-84ff-eaa07c63ebe4",
   "metadata": {
    "id": "f1ccbb4b-50f8-41ea-84ff-eaa07c63ebe4"
   },
   "outputs": [],
   "source": [
    "def one_hot_encode(X_train, X_val, low_cardinality_cols):\n",
    "    # Use as many lines of code as you need!\n",
    "    ohe = OneHotEncoder(handle_unknown=\"ignore\", sparse=False)\n",
    "\n",
    "    OH_X_train_cols = pd.DataFrame(ohe.fit_transform(X_train[low_cardinality_cols]))\n",
    "    OH_X_valid_cols = pd.DataFrame(ohe.transform(X_val[low_cardinality_cols]))\n",
    "\n",
    "    OH_X_train_cols.index = X_train.index\n",
    "    OH_X_valid_cols.index = X_val.index\n",
    "\n",
    "    X_train_num_cols = X_train.drop(low_cardinality_cols, axis = 1)\n",
    "    X_valid_num_cols = X_val.drop(low_cardinality_cols, axis = 1)\n",
    "\n",
    "    OH_X_train = pd.concat([OH_X_train_cols, X_train_num_cols], axis = 1) # Your code here\n",
    "    OH_X_valid = pd.concat([OH_X_valid_cols, X_valid_num_cols], axis = 1) # Your code here\n",
    "\n",
    "    OH_X_train.columns = OH_X_train.columns.astype(str)\n",
    "    OH_X_valid.columns = OH_X_valid.columns.astype(str)\n",
    "\n",
    "    return OH_X_train.copy(), OH_X_valid.copy()\n",
    "\n",
    "X_train, X_val = one_hot_encode(X_train, X_val, low_cardinality_cols)"
   ]
  },
  {
   "cell_type": "code",
   "execution_count": null,
   "id": "52dba73d-2fd6-46ad-ac07-7efa8b2544bf",
   "metadata": {
    "id": "52dba73d-2fd6-46ad-ac07-7efa8b2544bf"
   },
   "outputs": [],
   "source": [
    "X_train.head()"
   ]
  },
  {
   "cell_type": "code",
   "execution_count": null,
   "id": "f35202c4-8071-45d8-81d5-c8c03689c8f2",
   "metadata": {
    "id": "f35202c4-8071-45d8-81d5-c8c03689c8f2"
   },
   "outputs": [],
   "source": [
    "X_val.head()"
   ]
  },
  {
   "cell_type": "markdown",
   "id": "e7242cfa-1318-419a-abca-1684ca97fee3",
   "metadata": {
    "id": "e7242cfa-1318-419a-abca-1684ca97fee3"
   },
   "source": [
    "## Investigate the Range, Mean, and Standard Deviation of Numerical Features"
   ]
  },
  {
   "cell_type": "code",
   "execution_count": null,
   "id": "842b77a0-a9b1-4894-9f10-4241cb660fe1",
   "metadata": {
    "id": "842b77a0-a9b1-4894-9f10-4241cb660fe1"
   },
   "outputs": [],
   "source": [
    "# Descriptive statistics for numerical features\n",
    "print(\"Descriptive statistics:\")\n",
    "X_train.loc[:,X_train.nunique()>24].describe().T"
   ]
  },
  {
   "cell_type": "markdown",
   "id": "dddf32e4-a5f2-47d4-a2d2-57897670e1a9",
   "metadata": {
    "id": "dddf32e4-a5f2-47d4-a2d2-57897670e1a9"
   },
   "source": [
    "## Scaling the Numerical Features"
   ]
  },
  {
   "cell_type": "code",
   "execution_count": null,
   "id": "9075170c-af9d-4760-a67c-6292645fa3b0",
   "metadata": {
    "id": "9075170c-af9d-4760-a67c-6292645fa3b0"
   },
   "outputs": [],
   "source": [
    "X_train.drop([\"request_datetime\"], axis=1, inplace=True)\n",
    "X_val.drop([\"request_datetime\"], axis=1, inplace=True)"
   ]
  },
  {
   "cell_type": "code",
   "execution_count": null,
   "id": "8ca843d6-41ec-4dce-9326-1dccc4224bde",
   "metadata": {
    "id": "8ca843d6-41ec-4dce-9326-1dccc4224bde"
   },
   "outputs": [],
   "source": [
    "uscaled_X_train = X_train.copy()\n",
    "uscaled_X_val = X_val.copy()"
   ]
  },
  {
   "cell_type": "code",
   "execution_count": null,
   "id": "e28c9cb2-92b8-4b7b-b363-823c23db16e4",
   "metadata": {
    "id": "e28c9cb2-92b8-4b7b-b363-823c23db16e4"
   },
   "outputs": [],
   "source": [
    "uscaled_X_train.columns"
   ]
  },
  {
   "cell_type": "code",
   "execution_count": null,
   "id": "42697976-3ef6-44cf-a278-b87020294f71",
   "metadata": {
    "id": "42697976-3ef6-44cf-a278-b87020294f71"
   },
   "outputs": [],
   "source": [
    "print(\"Descriptive statistics:\")\n",
    "uscaled_X_train.loc[:,uscaled_X_train.nunique()>24].describe().T"
   ]
  },
  {
   "cell_type": "code",
   "execution_count": null,
   "id": "a74ba8f2-58ca-4b6a-804d-f4558b53850b",
   "metadata": {
    "id": "a74ba8f2-58ca-4b6a-804d-f4558b53850b"
   },
   "outputs": [],
   "source": [
    "rob_scaler = RobustScaler()\n",
    "\n",
    "standardable_feats = [ 'approximate_distance_meter', 'final_price', 'second_destination_final_price', 'round_ride_final_price',\n",
    "                      'days_since_passenger_first_ride', 'days_since_passenger_first_request']\n",
    "\n",
    "for col_name in standardable_feats:\n",
    "    X_train[\"scaled_\"+col_name] = rob_scaler.fit_transform(X_train[col_name].values.reshape(-1,1))\n",
    "    X_val[\"scaled_\"+col_name] = rob_scaler.transform(X_val[col_name].values.reshape(-1,1))\n",
    "\n",
    "X_train.drop(standardable_feats, axis=1, inplace=True)\n",
    "X_val.drop(standardable_feats, axis=1, inplace=True)"
   ]
  },
  {
   "cell_type": "code",
   "execution_count": null,
   "id": "41dc398d-581e-4fee-93aa-0958c5ddbd91",
   "metadata": {
    "id": "41dc398d-581e-4fee-93aa-0958c5ddbd91"
   },
   "outputs": [],
   "source": [
    "print(\"Descriptive statistics:\")\n",
    "X_train.info()"
   ]
  },
  {
   "cell_type": "markdown",
   "id": "f3b609de-ce81-478b-9ec1-782d95b9a105",
   "metadata": {
    "id": "f3b609de-ce81-478b-9ec1-782d95b9a105"
   },
   "source": [
    "## Fitting Models on Imbalanced Data"
   ]
  },
  {
   "cell_type": "code",
   "execution_count": null,
   "id": "f17ed9e6-ca2c-40bb-8b8a-4f5c19fc9c37",
   "metadata": {
    "id": "f17ed9e6-ca2c-40bb-8b8a-4f5c19fc9c37"
   },
   "outputs": [],
   "source": [
    "# imbalanced_data = data.copy()\n",
    "\n",
    "# # Label encoding for categoricals\n",
    "# for colname in imbalanced_data.select_dtypes(\"object\"):\n",
    "#     imbalanced_data[colname], _ = imbalanced_data[colname].factorize()\n",
    "\n",
    "# imbalanced_X = imbalanced_data.drop(['target', 'request_datetime'], axis=1)\n",
    "# imbalanced_y = imbalanced_data['target']\n",
    "\n",
    "# X_train, X_test, y_train, y_test = train_test_split(imbalanced_X, imbalanced_y, stratify = imbalanced_y, test_size=.25, random_state =123)\n",
    "\n",
    "clf = LazyClassifier(verbose=0,ignore_warnings=True, custom_metric=None)\n",
    "models,predictions = clf.fit(X_train.to_numpy(), X_val.to_numpy(), y_train, y_val)\n",
    "\n",
    "print(models)"
   ]
  },
  {
   "cell_type": "code",
   "execution_count": null,
   "id": "91e94b65-a81d-4f8e-9b3c-1f350d1a8dc6",
   "metadata": {
    "id": "91e94b65-a81d-4f8e-9b3c-1f350d1a8dc6"
   },
   "outputs": [],
   "source": [
    "# xgb1 = XGBClassifier(\n",
    "#  learning_rate =0.1,\n",
    "#  n_estimators=1000,\n",
    "#  max_depth=5,\n",
    "#  min_child_weight=1,\n",
    "#  gamma=0,\n",
    "#  subsample=0.8,\n",
    "#  colsample_bytree=0.8,\n",
    "#  objective= 'binary:logistic',\n",
    "#  nthread=4,\n",
    "#  scale_pos_weight=1,\n",
    "#  seed=27)\n",
    "\n",
    "# We will undersample during cross validating\n",
    "sss = StratifiedKFold(n_splits=5, random_state=10, shuffle=True)\n",
    "\n",
    "# undersampled_data = data.copy()\n",
    "imbalanced_X_train = X_train.copy()\n",
    "imbalanced_X_val = X_val.copy()\n",
    "\n",
    "# Label encoding for categoricals\n",
    "# for colname in undersampled_data.select_dtypes(\"object\"):\n",
    "#     undersampled_data[colname], _ = undersampled_data[colname].factorize()\n",
    "\n",
    "# undersample_X = undersampled_data.drop(['target', 'request_datetime'], axis=1)\n",
    "# undersample_y = undersampled_data['target']\n",
    "\n",
    "# for train_index, test_index in sss.split(undersample_X, undersample_y):\n",
    "#     print(\"Train:\", train_index, \"Test:\", test_index)\n",
    "#     undersample_Xtrain, undersample_Xtest = undersample_X.iloc[train_index], undersample_X.iloc[test_index]\n",
    "#     undersample_ytrain, undersample_ytest = undersample_y.iloc[train_index], undersample_y.iloc[test_index]\n",
    "\n",
    "imbalanced_X_train = imbalanced_X_train.values\n",
    "imbalanced_X_val = imbalanced_X_val.values\n",
    "imbalanced_y_train = y_train.values\n",
    "imbalanced_y_val = y_val.values\n",
    "\n",
    "imbalanced_accuracy = []\n",
    "imbalanced_precision = []\n",
    "imbalanced_recall = []\n",
    "imbalanced_f1 = []\n",
    "imbalanced_auc = []\n",
    "imbalanced_balanced_accuracy = []\n",
    "\n",
    "imbalanced_val_accuracy = []\n",
    "imbalanced_val_precision = []\n",
    "imbalanced_val_recall = []\n",
    "imbalanced_val_f1 = []\n",
    "imbalanced_val_auc = []\n",
    "imbalanced_val_balanced_accuracy = []\n",
    "\n",
    "xgb_params = {\n",
    " 'learning_rate' :[1e-3, 1e-2, 0.1, 0.2, 0.3],\n",
    " 'n_estimators' : [10, 100, 1000, 10000],\n",
    " 'max_depth':range(3,10,2),\n",
    " 'min_child_weight':range(1,6,2),\n",
    " 'gamma':[i/10.0 for i in range(0,5)],\n",
    " 'subsample':[i/10.0 for i in range(6,10)],\n",
    " 'colsample_bytree':[i/10.0 for i in range(6,10)],\n",
    " 'reg_alpha':[1e-5, 1e-2, 0.1, 1, 100],\n",
    " 'reg_lambda':[1e-5, 1e-2, 0.1, 1, 100]\n",
    " }\n",
    "\n",
    "rand_xgb = RandomizedSearchCV(XGBClassifier(objective= 'binary:logistic'), xgb_params, n_iter=4)\n",
    "\n",
    "# Implementing NearMiss Technique\n",
    "# Distribution of NearMiss (Just to see how it distributes the labels we won't use these variables)\n",
    "# X_nearmiss, y_nearmiss = NearMiss().fit_resample(undersample_X.values, undersample_y.values)\n",
    "# print('NearMiss Label Distribution: {}'.format(Counter(y_nearmiss)))\n",
    "# Cross Validating the right way\n",
    "\n",
    "for train, test in sss.split(imbalanced_X_train, imbalanced_y_train):\n",
    "    # undersample_pipeline = imbalanced_make_pipeline(NearMiss(sampling_strategy='majority'), XGBClassifier(objective= 'binary:logistic')) # SMOTE happens during Cross Validation not before..\n",
    "    # undersample_model = undersample_pipeline.fit(undersample_X[train], undersample_y[train])\n",
    "    # undersample_prediction = undersample_model.predict(undersample_X[test])\n",
    "\n",
    "    imbalanced_pipeline = make_pipeline(rand_xgb) # SMOTE happens during Cross Validation not before..\n",
    "    imbalanced_model = imbalanced_pipeline.fit(imbalanced_X_train[train], imbalanced_y_train[train])\n",
    "    best_est = rand_xgb.best_estimator_\n",
    "\n",
    "    imbalanced_prediction = imbalanced_model.predict(imbalanced_X_train[test])\n",
    "    # imbalanced_accuracy.append(imbalanced_pipeline.score(imbalanced_X_train[test], imbalanced_y_train[test]))\n",
    "    imbalanced_accuracy.append(accuracy_score(imbalanced_y_train[test], imbalanced_prediction))\n",
    "    imbalanced_precision.append(precision_score(imbalanced_y_train[test], imbalanced_prediction))\n",
    "    imbalanced_recall.append(recall_score(imbalanced_y_train[test], imbalanced_prediction))\n",
    "    imbalanced_f1.append(f1_score(imbalanced_y_train[test], imbalanced_prediction))\n",
    "    imbalanced_auc.append(roc_auc_score(imbalanced_y_train[test], imbalanced_model.predict_proba(imbalanced_X_train[test])[:, 1]))\n",
    "    imbalanced_balanced_accuracy.append(balanced_accuracy_score(imbalanced_y_train[test], imbalanced_prediction))\n",
    "\n",
    "    imbalanced_val_prediction = imbalanced_model.predict(imbalanced_X_val)\n",
    "    # imbalanced_val_accuracy.append(imbalanced_pipeline.score(imbalanced_X_val, imbalanced_y_val))\n",
    "    imbalanced_val_accuracy.append(accuracy_score(imbalanced_y_val, imbalanced_val_prediction))\n",
    "    imbalanced_val_precision.append(precision_score(imbalanced_y_val, imbalanced_val_prediction))\n",
    "    imbalanced_val_recall.append(recall_score(imbalanced_y_val, imbalanced_val_prediction))\n",
    "    imbalanced_val_f1.append(f1_score(imbalanced_y_val, imbalanced_val_prediction))\n",
    "    imbalanced_val_auc.append(roc_auc_score(imbalanced_y_val, imbalanced_model.predict_proba(imbalanced_X_val)[:, 1]))\n",
    "    imbalanced_val_balanced_accuracy.append(balanced_accuracy_score(imbalanced_y_val, imbalanced_val_prediction))\n",
    "\n",
    "\n",
    "\n",
    "print(\"Training Data Accuracy Score: {:.2f}\".format(np.mean(imbalanced_accuracy)))\n",
    "print(\"Training Data Precision Score: {:.2f}\".format(np.mean(imbalanced_precision)))\n",
    "print(\"Training Data Recall Score: {:.2f}\".format(np.mean(imbalanced_recall)))\n",
    "print(\"Training Data F1 Score: {:.2f}\".format(np.mean(imbalanced_f1)))\n",
    "print(\"Training Data ROC AUC: {:.2f}\".format(np.mean(imbalanced_auc)))\n",
    "print(\"Training Data Balanced Accuracy Score: {:.2f}\".format(np.mean(imbalanced_balanced_accuracy)))\n",
    "print(\"*\"*100)\n",
    "print(\"Validation Data Accuracy Score: {:.2f}\".format(np.mean(imbalanced_val_accuracy)))\n",
    "print(\"Validation Data Precision Score: {:.2f}\".format(np.mean(imbalanced_val_precision)))\n",
    "print(\"Validation Data Recall Score: {:.2f}\".format(np.mean(imbalanced_val_recall)))\n",
    "print(\"Validation Data F1 Score: {:.2f}\".format(np.mean(imbalanced_val_f1)))\n",
    "print(\"Validation Data ROC AUC: {:.2f}\".format(np.mean(imbalanced_val_auc)))\n",
    "print(\"Validation Data Balanced Accuracy Score: {:.2f}\".format(np.mean(imbalanced_val_balanced_accuracy)))"
   ]
  },
  {
   "cell_type": "code",
   "execution_count": null,
   "id": "a71013f1-7e41-4bd7-89c5-f5e274723f4a",
   "metadata": {
    "id": "a71013f1-7e41-4bd7-89c5-f5e274723f4a"
   },
   "outputs": [],
   "source": [
    "def modelfit(alg, xtrain, ytrain, X_val, y_val, useTrainCV=True, cv_folds=5, early_stopping_rounds=50):\n",
    "\n",
    "    if useTrainCV:\n",
    "        xgb_param = alg.get_xgb_params()\n",
    "        xgtrain = xgb.DMatrix(xtrain, label=ytrain)\n",
    "        cvresult = xgb.cv(xgb_param, xgtrain, num_boost_round=alg.get_params()['n_estimators'], nfold=cv_folds,\n",
    "            metrics='auc', early_stopping_rounds=early_stopping_rounds, verbose_eval=False)\n",
    "        alg.set_params(n_estimators=cvresult.shape[0])\n",
    "\n",
    "    #Fit the algorithm on the data\n",
    "    # alg.fit(xtrain, ytrain,eval_metric='auc')\n",
    "    alg.fit(xtrain, ytrain)\n",
    "\n",
    "    #Predict training set:\n",
    "    dtrain_predictions = alg.predict(xtrain)\n",
    "    dtrain_predprob = alg.predict_proba(xtrain)[:,1]\n",
    "\n",
    "    #Predict training set:\n",
    "    dvalid_predictions = alg.predict(X_val)\n",
    "    dvalid_predprob = alg.predict_proba(X_val)[:,1]\n",
    "\n",
    "    def report_generate(ytrain, dtrain_predictions, dtrain_predprob, split_type):\n",
    "        #Print model report:\n",
    "        print(\"\\nModel Report on \"+split_type)\n",
    "        print(\"Accuracy : %.4g\" % accuracy_score(ytrain, dtrain_predictions))\n",
    "        print(\"F1 Score : %.4g\" % f1_score(ytrain, dtrain_predictions))\n",
    "        print(\"Precision Score : %.4g\" % precision_score(ytrain, dtrain_predictions))\n",
    "        print(\"Recall Score : %.4g\" % recall_score(ytrain, dtrain_predictions))\n",
    "        print(\"ROC AUC Score (Train): %f\" % roc_auc_score(ytrain, dtrain_predprob))\n",
    "        print(\"Balanced Accuracy Score (Train): %f\" % balanced_accuracy_score(ytrain, dtrain_predictions))\n",
    "\n",
    "\n",
    "    report_generate(ytrain, dtrain_predictions, dtrain_predprob, \"Training Data\")\n",
    "    report_generate(y_val, dvalid_predictions, dvalid_predprob, \"Validation Data\")\n",
    "\n",
    "    feat_imp = pd.Series(alg.get_booster().get_fscore()).sort_values(ascending=False)\n",
    "    feat_imp.plot(kind='bar', title='Feature Importances')\n",
    "    plt.ylabel('Feature Importance Score')"
   ]
  },
  {
   "cell_type": "code",
   "execution_count": null,
   "id": "6729f94e-f1e9-491c-9c5a-c8340c8a319a",
   "metadata": {
    "id": "6729f94e-f1e9-491c-9c5a-c8340c8a319a"
   },
   "outputs": [],
   "source": [
    "xgb1 = XGBClassifier(\n",
    " learning_rate =0.1,\n",
    " n_estimators=1000,\n",
    " max_depth=5,\n",
    " min_child_weight=1,\n",
    " gamma=0,\n",
    " subsample=0.8,\n",
    " colsample_bytree=0.8,\n",
    " objective= 'binary:logistic',\n",
    " nthread=4,\n",
    " scale_pos_weight=1,\n",
    " seed=27)\n",
    "# New_df is from the random undersample data (fewer instances)\n",
    "# , 'request_datetime',\n",
    "#                     'passenger_unique_identifier', 'driver_unique_identifier'\n",
    "# X_train = data.drop(['target','request_datetime'], axis=1)\n",
    "# y_train = data['target']\n",
    "\n",
    "modelfit(xgb1, X_train.to_numpy(), y_train, X_val.to_numpy(), y_val)"
   ]
  },
  {
   "cell_type": "code",
   "execution_count": null,
   "id": "5533a92d-da88-418c-a75c-2c236c0d1739",
   "metadata": {
    "id": "5533a92d-da88-418c-a75c-2c236c0d1739"
   },
   "outputs": [],
   "source": [
    "# USING UNSCALED DATA\n",
    "xgb1 = XGBClassifier(\n",
    " learning_rate =0.1,\n",
    " n_estimators=1000,\n",
    " max_depth=5,\n",
    " min_child_weight=1,\n",
    " gamma=0,\n",
    " subsample=0.8,\n",
    " colsample_bytree=0.8,\n",
    " objective= 'binary:logistic',\n",
    " nthread=4,\n",
    " scale_pos_weight=1,\n",
    " seed=27)\n",
    "# New_df is from the random undersample data (fewer instances)\n",
    "# , 'request_datetime',\n",
    "#                     'passenger_unique_identifier', 'driver_unique_identifier'\n",
    "\n",
    "# temp_unscaled_data = uscaled_data.copy()\n",
    "\n",
    "# # Label encoding for categoricals\n",
    "# for colname in temp_unscaled_data.select_dtypes(\"object\"):\n",
    "#     temp_unscaled_data[colname], _ = temp_unscaled_data[colname].factorize()\n",
    "\n",
    "# # All discrete features should now have integer dtypes (double-check this before using MI!)\n",
    "# discrete_features = temp_unscaled_data.dtypes == int\n",
    "# X_train = temp_unscaled_data.drop(['target','request_datetime'], axis=1)\n",
    "# y_train = temp_unscaled_data['target']\n",
    "\n",
    "# uscaled_X_train = uscaled_X_train.drop(['request_datetime'], axis=1)\n",
    "# uscaled_X_val = uscaled_X_val.drop(['request_datetime'], axis=1)\n",
    "\n",
    "# uscaled_X_train.drop([\"request_datetime\"], axis=1, inplace=True)\n",
    "# uscaled_X_val.drop([\"request_datetime\"], axis=1, inplace=True)\n",
    "\n",
    "modelfit(xgb1, uscaled_X_train.to_numpy(), y_train, uscaled_X_val.to_numpy(), y_val)"
   ]
  },
  {
   "cell_type": "markdown",
   "id": "992f6748-d55a-4efb-a282-b80cd05b821c",
   "metadata": {
    "id": "992f6748-d55a-4efb-a282-b80cd05b821c"
   },
   "source": [
    "## Use Undersampling to Deal with Imbalanced Dataset"
   ]
  },
  {
   "cell_type": "code",
   "execution_count": null,
   "id": "7ccd1578-880a-428b-b4c4-0680474401b2",
   "metadata": {
    "id": "7ccd1578-880a-428b-b4c4-0680474401b2"
   },
   "outputs": [],
   "source": [
    "undersampled_data = data.copy()\n",
    "\n",
    "# # Label encoding for categoricals\n",
    "# for colname in undersampled_data.select_dtypes(\"object\"):\n",
    "#     undersampled_data[colname], _ = undersampled_data[colname].factorize()\n",
    "\n",
    "# undersample_X = undersampled_data.drop(['target', 'request_datetime'], axis=1)\n",
    "# undersample_y = undersampled_data['target']\n",
    "\n",
    "# for train_index, test_index in sss.split(undersample_X, undersample_y):\n",
    "#     print(\"Train:\", train_index, \"Test:\", test_index)\n",
    "#     undersample_Xtrain, undersample_Xtest = undersample_X.iloc[train_index], undersample_X.iloc[test_index]\n",
    "#     undersample_ytrain, undersample_ytest = undersample_y.iloc[train_index], undersample_y.iloc[test_index]\n",
    "\n",
    "# Implementing NearMiss Technique\n",
    "# Distribution of NearMiss (Just to see how it distributes the labels we won't use these variables)\n",
    "nm = NearMiss(sampling_strategy='majority')\n",
    "X_train_nearmiss, y_train_nearmiss = nm.fit_resample(X_train.values, y_train.values)\n",
    "X_val_nearmiss, y_val_nearmiss = nm.fit_resample(X_val.values, y_val.values)\n",
    "\n",
    "# print('NearMiss Label Distribution: {}'.format(Counter(y_nearmiss)))\n",
    "# Cross Validating the right way\n",
    "# X_train, X_test, y_train, y_test = train_test_split(X_nearmiss, y_nearmiss, stratify = y_nearmiss, test_size=.25, random_state =123)\n",
    "\n",
    "clf = LazyClassifier(verbose=0,ignore_warnings=True, custom_metric=None)\n",
    "models,predictions = clf.fit(X_train_nearmiss, X_val_nearmiss, y_train_nearmiss, y_val_nearmiss)\n",
    "\n",
    "print(models)"
   ]
  },
  {
   "cell_type": "code",
   "execution_count": null,
   "id": "7007c784-bc59-4804-ac80-7f3771b0e2a5",
   "metadata": {
    "id": "7007c784-bc59-4804-ac80-7f3771b0e2a5"
   },
   "outputs": [],
   "source": [
    "# xgb1 = XGBClassifier(\n",
    "#  learning_rate =0.1,\n",
    "#  n_estimators=1000,\n",
    "#  max_depth=5,\n",
    "#  min_child_weight=1,\n",
    "#  gamma=0,\n",
    "#  subsample=0.8,\n",
    "#  colsample_bytree=0.8,\n",
    "#  objective= 'binary:logistic',\n",
    "#  nthread=4,\n",
    "#  scale_pos_weight=1,\n",
    "#  seed=27)\n",
    "\n",
    "# We will undersample during cross validating\n",
    "# sss = StratifiedKFold(n_splits=5, random_state=10, shuffle=True)\n",
    "\n",
    "# undersampled_data = data.copy()\n",
    "undersampled_X_train = X_train.copy()\n",
    "undersampled_X_val = X_val.copy()\n",
    "\n",
    "# Label encoding for categoricals\n",
    "# for colname in undersampled_data.select_dtypes(\"object\"):\n",
    "#     undersampled_data[colname], _ = undersampled_data[colname].factorize()\n",
    "\n",
    "# undersample_X = undersampled_data.drop(['target', 'request_datetime'], axis=1)\n",
    "# undersample_y = undersampled_data['target']\n",
    "\n",
    "# for train_index, test_index in sss.split(undersample_X, undersample_y):\n",
    "#     print(\"Train:\", train_index, \"Test:\", test_index)\n",
    "#     undersample_Xtrain, undersample_Xtest = undersample_X.iloc[train_index], undersample_X.iloc[test_index]\n",
    "#     undersample_ytrain, undersample_ytest = undersample_y.iloc[train_index], undersample_y.iloc[test_index]\n",
    "\n",
    "undersampled_X_train = undersampled_X_train.values\n",
    "undersampled_X_val = undersampled_X_val.values\n",
    "undersample_y_train = y_train.values\n",
    "undersample_y_val = y_val.values\n",
    "\n",
    "undersample_accuracy = []\n",
    "undersample_precision = []\n",
    "undersample_recall = []\n",
    "undersample_f1 = []\n",
    "undersample_auc = []\n",
    "undersample_balanced_accuracy = []\n",
    "\n",
    "undersample_val_accuracy = []\n",
    "undersample_val_precision = []\n",
    "undersample_val_recall = []\n",
    "undersample_val_f1 = []\n",
    "undersample_val_auc = []\n",
    "undersample_val_balanced_accuracy = []\n",
    "\n",
    "xgb_params = {\n",
    " 'learning_rate' :[1e-3, 1e-2, 0.1, 0.2, 0.3],\n",
    " 'n_estimators' : [10, 100, 1000, 10000],\n",
    " 'max_depth':range(3,10,2),\n",
    " 'min_child_weight':range(1,6,2),\n",
    " 'gamma':[i/10.0 for i in range(0,5)],\n",
    " 'subsample':[i/10.0 for i in range(6,10)],\n",
    " 'colsample_bytree':[i/10.0 for i in range(6,10)],\n",
    " 'reg_alpha':[1e-5, 1e-2, 0.1, 1, 100],\n",
    " 'reg_lambda':[1e-5, 1e-2, 0.1, 1, 100]\n",
    " }\n",
    "\n",
    "rand_xgb = RandomizedSearchCV(XGBClassifier(objective= 'binary:logistic'), xgb_params, n_iter=4)\n",
    "\n",
    "# Implementing NearMiss Technique\n",
    "# Distribution of NearMiss (Just to see how it distributes the labels we won't use these variables)\n",
    "# X_nearmiss, y_nearmiss = NearMiss().fit_resample(undersample_X.values, undersample_y.values)\n",
    "# print('NearMiss Label Distribution: {}'.format(Counter(y_nearmiss)))\n",
    "# Cross Validating the right way\n",
    "\n",
    "for train, test in sss.split(undersampled_X_train, undersample_y_train):\n",
    "    # undersample_pipeline = imbalanced_make_pipeline(NearMiss(sampling_strategy='majority'), XGBClassifier(objective= 'binary:logistic')) # SMOTE happens during Cross Validation not before..\n",
    "    # undersample_model = undersample_pipeline.fit(undersample_X[train], undersample_y[train])\n",
    "    # undersample_prediction = undersample_model.predict(undersample_X[test])\n",
    "\n",
    "    undersample_pipeline = imbalanced_make_pipeline(NearMiss(sampling_strategy='majority'), rand_xgb) # SMOTE happens during Cross Validation not before..\n",
    "    undersample_model = undersample_pipeline.fit(undersampled_X_train[train], undersample_y_train[train])\n",
    "    best_est = rand_xgb.best_estimator_\n",
    "\n",
    "    undersample_prediction = undersample_model.predict(undersampled_X_train[test])\n",
    "    # undersample_accuracy.append(undersample_pipeline.score(undersampled_X_train[test], undersample_y_train[test]))\n",
    "    undersample_accuracy.append(accuracy_score(undersample_y_train[test], undersample_prediction))\n",
    "    undersample_precision.append(precision_score(undersample_y_train[test], undersample_prediction))\n",
    "    undersample_recall.append(recall_score(undersample_y_train[test], undersample_prediction))\n",
    "    undersample_f1.append(f1_score(undersample_y_train[test], undersample_prediction))\n",
    "    undersample_auc.append(roc_auc_score(undersample_y_train[test], undersample_model.predict_proba(undersampled_X_train[test])[:, 1]))\n",
    "    undersample_balanced_accuracy.append(balanced_accuracy_score(undersample_y_train[test], undersample_prediction))\n",
    "\n",
    "    undersample_val_prediction = undersample_model.predict(undersampled_X_val)\n",
    "    # undersample_val_accuracy.append(undersample_pipeline.score(undersampled_X_val, undersample_y_val))\n",
    "    undersample_val_accuracy.append(accuracy_score(undersample_y_val, undersample_val_prediction))\n",
    "    undersample_val_precision.append(precision_score(undersample_y_val, undersample_val_prediction))\n",
    "    undersample_val_recall.append(recall_score(undersample_y_val, undersample_val_prediction))\n",
    "    undersample_val_f1.append(f1_score(undersample_y_val, undersample_val_prediction))\n",
    "    undersample_val_auc.append(roc_auc_score(undersample_y_val, undersample_model.predict_proba(undersampled_X_val)[:, 1]))\n",
    "    undersample_val_balanced_accuracy.append(balanced_accuracy_score(undersample_y_val, undersample_val_prediction))\n",
    "\n",
    "\n",
    "\n",
    "print(\"Training Data Accuracy Score: {:.2f}\".format(np.mean(undersample_accuracy)))\n",
    "print(\"Training Data Precision Score: {:.2f}\".format(np.mean(undersample_precision)))\n",
    "print(\"Training Data Recall Score: {:.2f}\".format(np.mean(undersample_recall)))\n",
    "print(\"Training Data F1 Score: {:.2f}\".format(np.mean(undersample_f1)))\n",
    "print(\"Training Data ROC AUC: {:.2f}\".format(np.mean(undersample_auc)))\n",
    "print(\"Training Data Balanced Accuracy Score: {:.2f}\".format(np.mean(undersample_balanced_accuracy)))\n",
    "print(\"*\"*100)\n",
    "print(\"Validation Data Accuracy Score: {:.2f}\".format(np.mean(undersample_val_accuracy)))\n",
    "print(\"Validation Data Precision Score: {:.2f}\".format(np.mean(undersample_val_precision)))\n",
    "print(\"Validation Data Recall Score: {:.2f}\".format(np.mean(undersample_val_recall)))\n",
    "print(\"Validation Data F1 Score: {:.2f}\".format(np.mean(undersample_val_f1)))\n",
    "print(\"Validation Data ROC AUC: {:.2f}\".format(np.mean(undersample_val_auc)))\n",
    "print(\"Validation Data Balanced Accuracy Score: {:.2f}\".format(np.mean(undersample_val_balanced_accuracy)))"
   ]
  },
  {
   "cell_type": "code",
   "execution_count": null,
   "id": "8bcd9bf3-e0be-4638-a952-42d4f52924c5",
   "metadata": {
    "id": "8bcd9bf3-e0be-4638-a952-42d4f52924c5"
   },
   "outputs": [],
   "source": [
    "xgb1 = XGBClassifier(\n",
    " learning_rate =0.1,\n",
    " n_estimators=1000,\n",
    " max_depth=5,\n",
    " min_child_weight=1,\n",
    " gamma=0,\n",
    " subsample=0.8,\n",
    " colsample_bytree=0.8,\n",
    " objective= 'binary:logistic',\n",
    " nthread=4,\n",
    " scale_pos_weight=1,\n",
    " seed=27)\n",
    "\n",
    "nm = NearMiss(sampling_strategy='majority')\n",
    "X_train_nearmiss, y_train_nearmiss = nm.fit_resample(X_train.values, y_train.values)\n",
    "X_val_nearmiss, y_val_nearmiss = nm.fit_resample(X_val.values, y_val.values)\n",
    "\n",
    "modelfit(xgb1, X_train_nearmiss, y_train_nearmiss, X_val_nearmiss, y_val_nearmiss)"
   ]
  },
  {
   "cell_type": "markdown",
   "id": "a2ecf947-294a-48f6-8597-8df632d4cdee",
   "metadata": {
    "id": "a2ecf947-294a-48f6-8597-8df632d4cdee"
   },
   "source": [
    "## Use Oversampling to Deal with Imbalanced Dataset"
   ]
  },
  {
   "cell_type": "code",
   "execution_count": null,
   "id": "16134db5-d277-4d24-9292-13bcf62461bc",
   "metadata": {
    "id": "16134db5-d277-4d24-9292-13bcf62461bc"
   },
   "outputs": [],
   "source": [
    "# oversampled_data = data.copy()\n",
    "\n",
    "# # Label encoding for categoricals\n",
    "# for colname in oversampled_data.select_dtypes(\"object\"):\n",
    "#     oversampled_data[colname], _ = oversampled_data[colname].factorize()\n",
    "\n",
    "# oversampled_X = oversampled_data.drop(['target', 'request_datetime'], axis=1)\n",
    "# oversampled_y = oversampled_data['target']\n",
    "\n",
    "smt = SMOTE(sampling_strategy='minority')\n",
    "X_train_smote, y_train_smote = smt.fit_resample(X_train.values, y_train.values)\n",
    "X_val_smote, y_val_smote = smt.fit_resample(X_val.values, y_val.values)\n",
    "\n",
    "clf = LazyClassifier(verbose=0,ignore_warnings=True, custom_metric=None)\n",
    "models,predictions = clf.fit(X_train_smote, X_val_smote, y_train_smote, y_val_smote)\n",
    "\n",
    "print(models)"
   ]
  },
  {
   "cell_type": "code",
   "execution_count": null,
   "id": "33ce5e19-d9f0-49ec-a08a-8d14ca640e25",
   "metadata": {
    "id": "33ce5e19-d9f0-49ec-a08a-8d14ca640e25"
   },
   "outputs": [],
   "source": [
    "# undersampled_data = data.copy()\n",
    "oversampled_X_train = X_train.copy()\n",
    "oversampled_X_val = X_val.copy()\n",
    "\n",
    "\n",
    "# Classifier with optimal parameters\n",
    "# xgb_sm = gsearch7.best_estimator_\n",
    "# xgb_sm = XGBClassifier(\n",
    "#  learning_rate =0.1,\n",
    "#  n_estimators=1000,\n",
    "#  max_depth=5,\n",
    "#  min_child_weight=1,\n",
    "#  gamma=0,\n",
    "#  subsample=0.8,\n",
    "#  colsample_bytree=0.8,\n",
    "#  objective= 'binary:logistic',\n",
    "#  nthread=4,\n",
    "#  scale_pos_weight=1,\n",
    "#  seed=27)\n",
    "\n",
    "oversampled_X_train = oversampled_X_train.values\n",
    "oversampled_X_val = oversampled_X_val.values\n",
    "oversample_y_train = y_train.values\n",
    "oversample_y_val = y_val.values\n",
    "\n",
    "oversample_accuracy = []\n",
    "oversample_precision = []\n",
    "oversample_recall = []\n",
    "oversample_f1 = []\n",
    "oversample_auc = []\n",
    "oversample_balanced_accuracy = []\n",
    "\n",
    "oversample_val_accuracy = []\n",
    "oversample_val_precision = []\n",
    "oversample_val_recall = []\n",
    "oversample_val_f1 = []\n",
    "oversample_val_auc = []\n",
    "oversample_val_balanced_accuracy = []\n",
    "\n",
    "# Implementing SMOTE Technique\n",
    "# Cross Validating the right way\n",
    "# Parameters\n",
    "xgb_params = {\n",
    " 'learning_rate' :[1e-3, 1e-2, 0.1, 0.2, 0.3],\n",
    " 'n_estimators' : [10, 100, 1000, 10000],\n",
    " 'max_depth':range(3,10,2),\n",
    " 'min_child_weight':range(1,6,2),\n",
    " 'gamma':[i/10.0 for i in range(0,5)],\n",
    " 'subsample':[i/10.0 for i in range(6,10)],\n",
    " 'colsample_bytree':[i/10.0 for i in range(6,10)],\n",
    " 'reg_alpha':[1e-5, 1e-2, 0.1, 1, 100],\n",
    " 'reg_lambda':[1e-5, 1e-2, 0.1, 1, 100]\n",
    " }\n",
    "\n",
    "rand_xgb = RandomizedSearchCV(XGBClassifier(objective= 'binary:logistic'), xgb_params, n_iter=4)\n",
    "\n",
    "\n",
    "for train, test in sss.split(oversampled_X_train, oversample_y_train):\n",
    "    oversample_pipeline = imbalanced_make_pipeline(SMOTE(sampling_strategy='minority'), rand_xgb) # SMOTE happens during Cross Validation not before..\n",
    "    oversample_model = oversample_pipeline.fit(oversampled_X_train[train], oversample_y_train[train])\n",
    "    best_est = rand_xgb.best_estimator_\n",
    "\n",
    "    oversample_prediction = oversample_model.predict(oversampled_X_train[test])\n",
    "    # oversample_accuracy.append(oversample_pipeline.score(oversampled_X_train[test], oversample_y_train[test]))\n",
    "    oversample_accuracy.append(accuracy_score(oversample_y_train[test], oversample_prediction))\n",
    "    oversample_precision.append(precision_score(oversample_y_train[test], oversample_prediction))\n",
    "    oversample_recall.append(recall_score(oversample_y_train[test], oversample_prediction))\n",
    "    oversample_f1.append(f1_score(oversample_y_train[test], oversample_prediction))\n",
    "    oversample_auc.append(roc_auc_score(oversample_y_train[test], oversample_model.predict_proba(oversampled_X_train[test])[:, 1]))\n",
    "    oversample_balanced_accuracy.append(balanced_accuracy_score(oversample_y_train[test], oversample_prediction))\n",
    "\n",
    "    oversample_val_prediction = oversample_model.predict(oversampled_X_val)\n",
    "    # oversample_val_accuracy.append(oversample_pipeline.score(oversampled_X_val, oversample_y_val))\n",
    "    oversample_val_accuracy.append(accuracy_score(oversample_y_val, oversample_val_prediction))\n",
    "    oversample_val_precision.append(precision_score(oversample_y_val, oversample_val_prediction))\n",
    "    oversample_val_recall.append(recall_score(oversample_y_val, oversample_val_prediction))\n",
    "    oversample_val_f1.append(f1_score(oversample_y_val, oversample_val_prediction))\n",
    "    oversample_val_auc.append(roc_auc_score(oversample_y_val, oversample_model.predict_proba(oversampled_X_val)[:, 1]))\n",
    "    oversample_val_balanced_accuracy.append(balanced_accuracy_score(oversample_y_val, oversample_val_prediction))\n",
    "\n",
    "\n",
    "print(\"Training Data Accuracy Score: {:.2f}\".format(np.mean(oversample_accuracy)))\n",
    "print(\"Training Data Precision Score: {:.2f}\".format(np.mean(oversample_precision)))\n",
    "print(\"Training Data Recall Score: {:.2f}\".format(np.mean(oversample_recall)))\n",
    "print(\"Training Data F1 Score: {:.2f}\".format(np.mean(oversample_f1)))\n",
    "print(\"Training Data ROC AUC: {:.2f}\".format(np.mean(oversample_auc)))\n",
    "print(\"Training Data Balanced Accuracy Score: {:.2f}\".format(np.mean(oversample_balanced_accuracy)))\n",
    "print(\"*\"*100)\n",
    "print(\"Validation Data Accuracy Score: {:.2f}\".format(np.mean(oversample_val_accuracy)))\n",
    "print(\"Validation Data Precision Score: {:.2f}\".format(np.mean(oversample_val_precision)))\n",
    "print(\"Validation Data Recall Score: {:.2f}\".format(np.mean(oversample_val_recall)))\n",
    "print(\"Validation Data F1 Score: {:.2f}\".format(np.mean(oversample_val_f1)))\n",
    "print(\"Validation Data ROC AUC: {:.2f}\".format(np.mean(oversample_val_auc)))\n",
    "print(\"Validation Data Balanced Accuracy Score: {:.2f}\".format(np.mean(oversample_val_balanced_accuracy)))"
   ]
  },
  {
   "cell_type": "code",
   "execution_count": null,
   "id": "127cc907-412e-45ae-96e0-15c7a338d700",
   "metadata": {
    "id": "127cc907-412e-45ae-96e0-15c7a338d700"
   },
   "outputs": [],
   "source": [
    "xgb1 = XGBClassifier(\n",
    " learning_rate =0.1,\n",
    " n_estimators=1000,\n",
    " max_depth=5,\n",
    " min_child_weight=1,\n",
    " gamma=0,\n",
    " subsample=0.8,\n",
    " colsample_bytree=0.8,\n",
    " objective= 'binary:logistic',\n",
    " nthread=4,\n",
    " scale_pos_weight=1,\n",
    " seed=27)\n",
    "\n",
    "smt = SMOTE(sampling_strategy='minority')\n",
    "X_train_smote, y_train_smote = smt.fit_resample(X_train.values, y_train.values)\n",
    "X_val_smote, y_val_smote = smt.fit_resample(X_val.values, y_val.values)\n",
    "\n",
    "modelfit(xgb1, X_train_smote, y_train_smote, X_val_smote, y_val_smote)"
   ]
  }
 ],
 "metadata": {
  "accelerator": "GPU",
  "colab": {
   "gpuType": "T4",
   "provenance": []
  },
  "kernelspec": {
   "display_name": "Python 3 (ipykernel)",
   "language": "python",
   "name": "python3"
  },
  "language_info": {
   "codemirror_mode": {
    "name": "ipython",
    "version": 3
   },
   "file_extension": ".py",
   "mimetype": "text/x-python",
   "name": "python",
   "nbconvert_exporter": "python",
   "pygments_lexer": "ipython3",
   "version": "3.11.7"
  }
 },
 "nbformat": 4,
 "nbformat_minor": 5
}
