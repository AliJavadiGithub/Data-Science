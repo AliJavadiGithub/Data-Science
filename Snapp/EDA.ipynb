{
 "cells": [
  {
   "cell_type": "markdown",
   "id": "e45183a0-f3e3-4e07-9921-fe511cebfe69",
   "metadata": {},
   "source": [
    "## Import Used Libraries"
   ]
  },
  {
   "cell_type": "code",
   "execution_count": 1,
   "id": "94eafe39-6883-4afd-863a-29b6f34d8f6a",
   "metadata": {},
   "outputs": [],
   "source": [
    "import pandas as pd\n",
    "import numpy as np\n",
    "\n",
    "import seaborn as sns\n",
    "import matplotlib.pyplot as plt\n",
    "\n",
    "from sklearn.decomposition import PCA, TruncatedSVD\n",
    "from sklearn.manifold import TSNE\n",
    "import matplotlib.patches as mpatches\n",
    "\n",
    "\n",
    "from xgboost import XGBClassifier\n",
    "import xgboost as xgb\n",
    "from sklearn.linear_model import LogisticRegression\n",
    "from sklearn.svm import SVC\n",
    "from sklearn.neighbors import KNeighborsClassifier\n",
    "from sklearn.tree import DecisionTreeClassifier\n",
    "from sklearn.ensemble import RandomForestClassifier\n",
    "from lazypredict.Supervised import LazyClassifier\n",
    "\n",
    "from imblearn.pipeline import make_pipeline as imbalanced_make_pipeline\n",
    "from imblearn.under_sampling import NearMiss\n",
    "from imblearn.over_sampling import SMOTE\n",
    "\n",
    "from sklearn.model_selection import KFold, StratifiedKFold, train_test_split, RandomizedSearchCV\n",
    "from sklearn.preprocessing import StandardScaler, RobustScaler, OneHotEncoder\n",
    "from sklearn.metrics import precision_score, recall_score, f1_score, roc_auc_score, accuracy_score, classification_report\n",
    "\n",
    "import time\n",
    "\n",
    "import warnings\n",
    "warnings.filterwarnings('ignore')\n",
    "\n",
    "%matplotlib inline\n",
    "\n",
    "plt.style.use('bmh')"
   ]
  },
  {
   "cell_type": "markdown",
   "id": "2ed7983b-574f-4a6b-930e-8d63b07864c6",
   "metadata": {},
   "source": [
    "## Read Input Files"
   ]
  },
  {
   "cell_type": "code",
   "execution_count": 2,
   "id": "31a5cc91-a1a8-468d-96f0-b40d619eb965",
   "metadata": {},
   "outputs": [
    {
     "name": "stdout",
     "output_type": "stream",
     "text": [
      "<class 'pandas.core.frame.DataFrame'>\n",
      "RangeIndex: 80692 entries, 0 to 80691\n",
      "Data columns (total 26 columns):\n",
      " #   Column                                           Non-Null Count  Dtype  \n",
      "---  ------                                           --------------  -----  \n",
      " 0   passenger_unique_identifier                      80692 non-null  float64\n",
      " 1   driver_unique_identifier                         71166 non-null  float64\n",
      " 2   approximate_distance_meter                       80692 non-null  int64  \n",
      " 3   final_price                                      80692 non-null  float64\n",
      " 4   waiting_time_enabled                             80692 non-null  int64  \n",
      " 5   second_destination_final_price                   80692 non-null  float64\n",
      " 6   round_ride_final_price                           80692 non-null  float64\n",
      " 7   for_friend_enabled                               80692 non-null  int64  \n",
      " 8   is_voucher_used                                  0 non-null      float64\n",
      " 9   intercity                                        80692 non-null  int64  \n",
      " 10  request_datetime                                 80692 non-null  object \n",
      " 11  origin_latitude                                  80692 non-null  float64\n",
      " 12  origin_longitude                                 80692 non-null  float64\n",
      " 13  destination_latitude                             80692 non-null  float64\n",
      " 14  destination_longitude                            80692 non-null  float64\n",
      " 15  second_destination_latitude                      80692 non-null  float64\n",
      " 16  second_destination_longitude                     80692 non-null  float64\n",
      " 17  requested_service_type                           80692 non-null  object \n",
      " 18  days_since_passenger_first_ride                  80692 non-null  int64  \n",
      " 19  days_since_passenger_first_request               80692 non-null  int64  \n",
      " 20  in_hurry_enabled                                 80692 non-null  int64  \n",
      " 21  ride (target)                                    80692 non-null  int64  \n",
      " 22  treatment_group                                  71166 non-null  object \n",
      " 23  ('new_origin_latitude', 'new_origin_longitude')  80692 non-null  object \n",
      " 24  new_origin_latitude                              80692 non-null  float64\n",
      " 25  new_origin_longitude                             80692 non-null  float64\n",
      "dtypes: float64(14), int64(8), object(4)\n",
      "memory usage: 16.0+ MB\n"
     ]
    }
   ],
   "source": [
    "\n",
    "# Read the data from CSV file\n",
    "data = pd.read_csv(\"train.csv\")\n",
    "data_test = pd.read_csv(\"test.csv\")\n",
    "\n",
    "# Get basic information about the data\n",
    "data.info()\n"
   ]
  },
  {
   "cell_type": "code",
   "execution_count": 3,
   "id": "10f87200-c75a-4fa3-8da5-6532f80b482c",
   "metadata": {},
   "outputs": [
    {
     "name": "stdout",
     "output_type": "stream",
     "text": [
      "<class 'pandas.core.frame.DataFrame'>\n",
      "RangeIndex: 7774 entries, 0 to 7773\n",
      "Data columns (total 24 columns):\n",
      " #   Column                                           Non-Null Count  Dtype  \n",
      "---  ------                                           --------------  -----  \n",
      " 0   passenger_unique_identifier                      7774 non-null   float64\n",
      " 1   approximate_distance_meter                       7774 non-null   int64  \n",
      " 2   final_price                                      7774 non-null   float64\n",
      " 3   waiting_time_enabled                             7774 non-null   int64  \n",
      " 4   second_destination_final_price                   7774 non-null   float64\n",
      " 5   round_ride_final_price                           7774 non-null   float64\n",
      " 6   for_friend_enabled                               7774 non-null   int64  \n",
      " 7   is_voucher_used                                  0 non-null      float64\n",
      " 8   intercity                                        7774 non-null   int64  \n",
      " 9   request_datetime                                 7774 non-null   object \n",
      " 10  origin_latitude                                  7774 non-null   float64\n",
      " 11  origin_longitude                                 7774 non-null   float64\n",
      " 12  destination_latitude                             7774 non-null   float64\n",
      " 13  destination_longitude                            7774 non-null   float64\n",
      " 14  second_destination_latitude                      7774 non-null   float64\n",
      " 15  second_destination_longitude                     7774 non-null   float64\n",
      " 16  requested_service_type                           7774 non-null   object \n",
      " 17  days_since_passenger_first_ride                  7774 non-null   int64  \n",
      " 18  days_since_passenger_first_request               7774 non-null   int64  \n",
      " 19  in_hurry_enabled                                 7774 non-null   int64  \n",
      " 20  treatment_group                                  6862 non-null   object \n",
      " 21  ('new_origin_latitude', 'new_origin_longitude')  7774 non-null   object \n",
      " 22  new_origin_latitude                              7774 non-null   float64\n",
      " 23  new_origin_longitude                             7774 non-null   float64\n",
      "dtypes: float64(13), int64(7), object(4)\n",
      "memory usage: 1.4+ MB\n"
     ]
    }
   ],
   "source": [
    "data_test.info()"
   ]
  },
  {
   "cell_type": "code",
   "execution_count": 4,
   "id": "c88c6a74-ddfc-47fe-ab81-24b81c8d38eb",
   "metadata": {},
   "outputs": [
    {
     "data": {
      "text/html": [
       "<div>\n",
       "<style scoped>\n",
       "    .dataframe tbody tr th:only-of-type {\n",
       "        vertical-align: middle;\n",
       "    }\n",
       "\n",
       "    .dataframe tbody tr th {\n",
       "        vertical-align: top;\n",
       "    }\n",
       "\n",
       "    .dataframe thead th {\n",
       "        text-align: right;\n",
       "    }\n",
       "</style>\n",
       "<table border=\"1\" class=\"dataframe\">\n",
       "  <thead>\n",
       "    <tr style=\"text-align: right;\">\n",
       "      <th></th>\n",
       "      <th>passenger_unique_identifier</th>\n",
       "      <th>driver_unique_identifier</th>\n",
       "      <th>approximate_distance_meter</th>\n",
       "      <th>final_price</th>\n",
       "      <th>waiting_time_enabled</th>\n",
       "      <th>second_destination_final_price</th>\n",
       "      <th>round_ride_final_price</th>\n",
       "      <th>for_friend_enabled</th>\n",
       "      <th>is_voucher_used</th>\n",
       "      <th>intercity</th>\n",
       "      <th>...</th>\n",
       "      <th>second_destination_longitude</th>\n",
       "      <th>requested_service_type</th>\n",
       "      <th>days_since_passenger_first_ride</th>\n",
       "      <th>days_since_passenger_first_request</th>\n",
       "      <th>in_hurry_enabled</th>\n",
       "      <th>ride (target)</th>\n",
       "      <th>treatment_group</th>\n",
       "      <th>('new_origin_latitude', 'new_origin_longitude')</th>\n",
       "      <th>new_origin_latitude</th>\n",
       "      <th>new_origin_longitude</th>\n",
       "    </tr>\n",
       "  </thead>\n",
       "  <tbody>\n",
       "    <tr>\n",
       "      <th>0</th>\n",
       "      <td>2561296.00</td>\n",
       "      <td>7475532.00</td>\n",
       "      <td>6404</td>\n",
       "      <td>1200.00</td>\n",
       "      <td>0</td>\n",
       "      <td>0.00</td>\n",
       "      <td>0.00</td>\n",
       "      <td>0</td>\n",
       "      <td>NaN</td>\n",
       "      <td>0</td>\n",
       "      <td>...</td>\n",
       "      <td>29.49</td>\n",
       "      <td>A</td>\n",
       "      <td>2126</td>\n",
       "      <td>2126</td>\n",
       "      <td>0</td>\n",
       "      <td>1</td>\n",
       "      <td>A</td>\n",
       "      <td>(29.488835573287513, 60.95799813622983)</td>\n",
       "      <td>29.50</td>\n",
       "      <td>60.96</td>\n",
       "    </tr>\n",
       "    <tr>\n",
       "      <th>1</th>\n",
       "      <td>66990258.00</td>\n",
       "      <td>7676730.00</td>\n",
       "      <td>5805</td>\n",
       "      <td>1700.00</td>\n",
       "      <td>0</td>\n",
       "      <td>0.00</td>\n",
       "      <td>0.00</td>\n",
       "      <td>0</td>\n",
       "      <td>NaN</td>\n",
       "      <td>0</td>\n",
       "      <td>...</td>\n",
       "      <td>29.49</td>\n",
       "      <td>A</td>\n",
       "      <td>963</td>\n",
       "      <td>963</td>\n",
       "      <td>0</td>\n",
       "      <td>1</td>\n",
       "      <td>A</td>\n",
       "      <td>(29.52766176780866, 60.95992511595708)</td>\n",
       "      <td>29.53</td>\n",
       "      <td>60.96</td>\n",
       "    </tr>\n",
       "    <tr>\n",
       "      <th>2</th>\n",
       "      <td>115656004.00</td>\n",
       "      <td>7640864.00</td>\n",
       "      <td>6978</td>\n",
       "      <td>1480.00</td>\n",
       "      <td>0</td>\n",
       "      <td>0.00</td>\n",
       "      <td>0.00</td>\n",
       "      <td>0</td>\n",
       "      <td>NaN</td>\n",
       "      <td>0</td>\n",
       "      <td>...</td>\n",
       "      <td>29.51</td>\n",
       "      <td>A</td>\n",
       "      <td>6</td>\n",
       "      <td>150</td>\n",
       "      <td>0</td>\n",
       "      <td>1</td>\n",
       "      <td>A</td>\n",
       "      <td>(29.52231811966853, 60.929978801338585)</td>\n",
       "      <td>29.53</td>\n",
       "      <td>60.93</td>\n",
       "    </tr>\n",
       "    <tr>\n",
       "      <th>3</th>\n",
       "      <td>103175504.00</td>\n",
       "      <td>2544250.00</td>\n",
       "      <td>4540</td>\n",
       "      <td>1000.00</td>\n",
       "      <td>0</td>\n",
       "      <td>0.00</td>\n",
       "      <td>0.00</td>\n",
       "      <td>0</td>\n",
       "      <td>NaN</td>\n",
       "      <td>0</td>\n",
       "      <td>...</td>\n",
       "      <td>29.48</td>\n",
       "      <td>A</td>\n",
       "      <td>343</td>\n",
       "      <td>343</td>\n",
       "      <td>0</td>\n",
       "      <td>1</td>\n",
       "      <td>A</td>\n",
       "      <td>(29.4924079879218, 60.975839633216694)</td>\n",
       "      <td>29.47</td>\n",
       "      <td>60.98</td>\n",
       "    </tr>\n",
       "    <tr>\n",
       "      <th>4</th>\n",
       "      <td>104326018.00</td>\n",
       "      <td>7860690.00</td>\n",
       "      <td>7109</td>\n",
       "      <td>1500.00</td>\n",
       "      <td>0</td>\n",
       "      <td>0.00</td>\n",
       "      <td>0.00</td>\n",
       "      <td>0</td>\n",
       "      <td>NaN</td>\n",
       "      <td>0</td>\n",
       "      <td>...</td>\n",
       "      <td>29.52</td>\n",
       "      <td>A</td>\n",
       "      <td>340</td>\n",
       "      <td>340</td>\n",
       "      <td>0</td>\n",
       "      <td>1</td>\n",
       "      <td>A</td>\n",
       "      <td>(29.51355175849473, 60.99051466786983)</td>\n",
       "      <td>29.53</td>\n",
       "      <td>60.99</td>\n",
       "    </tr>\n",
       "  </tbody>\n",
       "</table>\n",
       "<p>5 rows × 26 columns</p>\n",
       "</div>"
      ],
      "text/plain": [
       "   passenger_unique_identifier  driver_unique_identifier  \\\n",
       "0                   2561296.00                7475532.00   \n",
       "1                  66990258.00                7676730.00   \n",
       "2                 115656004.00                7640864.00   \n",
       "3                 103175504.00                2544250.00   \n",
       "4                 104326018.00                7860690.00   \n",
       "\n",
       "   approximate_distance_meter  final_price  waiting_time_enabled  \\\n",
       "0                        6404      1200.00                     0   \n",
       "1                        5805      1700.00                     0   \n",
       "2                        6978      1480.00                     0   \n",
       "3                        4540      1000.00                     0   \n",
       "4                        7109      1500.00                     0   \n",
       "\n",
       "   second_destination_final_price  round_ride_final_price  for_friend_enabled  \\\n",
       "0                            0.00                    0.00                   0   \n",
       "1                            0.00                    0.00                   0   \n",
       "2                            0.00                    0.00                   0   \n",
       "3                            0.00                    0.00                   0   \n",
       "4                            0.00                    0.00                   0   \n",
       "\n",
       "   is_voucher_used  intercity  ... second_destination_longitude  \\\n",
       "0              NaN          0  ...                        29.49   \n",
       "1              NaN          0  ...                        29.49   \n",
       "2              NaN          0  ...                        29.51   \n",
       "3              NaN          0  ...                        29.48   \n",
       "4              NaN          0  ...                        29.52   \n",
       "\n",
       "   requested_service_type  days_since_passenger_first_ride  \\\n",
       "0                       A                             2126   \n",
       "1                       A                              963   \n",
       "2                       A                                6   \n",
       "3                       A                              343   \n",
       "4                       A                              340   \n",
       "\n",
       "   days_since_passenger_first_request  in_hurry_enabled  ride (target)  \\\n",
       "0                                2126                 0              1   \n",
       "1                                 963                 0              1   \n",
       "2                                 150                 0              1   \n",
       "3                                 343                 0              1   \n",
       "4                                 340                 0              1   \n",
       "\n",
       "   treatment_group ('new_origin_latitude', 'new_origin_longitude')  \\\n",
       "0                A         (29.488835573287513, 60.95799813622983)   \n",
       "1                A          (29.52766176780866, 60.95992511595708)   \n",
       "2                A         (29.52231811966853, 60.929978801338585)   \n",
       "3                A          (29.4924079879218, 60.975839633216694)   \n",
       "4                A          (29.51355175849473, 60.99051466786983)   \n",
       "\n",
       "   new_origin_latitude  new_origin_longitude  \n",
       "0                29.50                 60.96  \n",
       "1                29.53                 60.96  \n",
       "2                29.53                 60.93  \n",
       "3                29.47                 60.98  \n",
       "4                29.53                 60.99  \n",
       "\n",
       "[5 rows x 26 columns]"
      ]
     },
     "execution_count": 4,
     "metadata": {},
     "output_type": "execute_result"
    }
   ],
   "source": [
    "data.head()"
   ]
  },
  {
   "cell_type": "code",
   "execution_count": 5,
   "id": "f15b5f78-c6c6-43d0-8f73-ffaf1cb18621",
   "metadata": {},
   "outputs": [
    {
     "data": {
      "text/html": [
       "<div>\n",
       "<style scoped>\n",
       "    .dataframe tbody tr th:only-of-type {\n",
       "        vertical-align: middle;\n",
       "    }\n",
       "\n",
       "    .dataframe tbody tr th {\n",
       "        vertical-align: top;\n",
       "    }\n",
       "\n",
       "    .dataframe thead th {\n",
       "        text-align: right;\n",
       "    }\n",
       "</style>\n",
       "<table border=\"1\" class=\"dataframe\">\n",
       "  <thead>\n",
       "    <tr style=\"text-align: right;\">\n",
       "      <th></th>\n",
       "      <th>passenger_unique_identifier</th>\n",
       "      <th>approximate_distance_meter</th>\n",
       "      <th>final_price</th>\n",
       "      <th>waiting_time_enabled</th>\n",
       "      <th>second_destination_final_price</th>\n",
       "      <th>round_ride_final_price</th>\n",
       "      <th>for_friend_enabled</th>\n",
       "      <th>is_voucher_used</th>\n",
       "      <th>intercity</th>\n",
       "      <th>request_datetime</th>\n",
       "      <th>...</th>\n",
       "      <th>second_destination_latitude</th>\n",
       "      <th>second_destination_longitude</th>\n",
       "      <th>requested_service_type</th>\n",
       "      <th>days_since_passenger_first_ride</th>\n",
       "      <th>days_since_passenger_first_request</th>\n",
       "      <th>in_hurry_enabled</th>\n",
       "      <th>treatment_group</th>\n",
       "      <th>('new_origin_latitude', 'new_origin_longitude')</th>\n",
       "      <th>new_origin_latitude</th>\n",
       "      <th>new_origin_longitude</th>\n",
       "    </tr>\n",
       "  </thead>\n",
       "  <tbody>\n",
       "    <tr>\n",
       "      <th>0</th>\n",
       "      <td>86535006.00</td>\n",
       "      <td>5163</td>\n",
       "      <td>1300.00</td>\n",
       "      <td>0</td>\n",
       "      <td>0.00</td>\n",
       "      <td>0.00</td>\n",
       "      <td>0</td>\n",
       "      <td>NaN</td>\n",
       "      <td>0</td>\n",
       "      <td>2012-11-22 13:36:38+03:30</td>\n",
       "      <td>...</td>\n",
       "      <td>29.50</td>\n",
       "      <td>29.50</td>\n",
       "      <td>A</td>\n",
       "      <td>624</td>\n",
       "      <td>624</td>\n",
       "      <td>0</td>\n",
       "      <td>A</td>\n",
       "      <td>(29.496908089483664, 60.95093813927035)</td>\n",
       "      <td>29.52</td>\n",
       "      <td>60.95</td>\n",
       "    </tr>\n",
       "    <tr>\n",
       "      <th>1</th>\n",
       "      <td>52505314.00</td>\n",
       "      <td>6102</td>\n",
       "      <td>1300.00</td>\n",
       "      <td>0</td>\n",
       "      <td>0.00</td>\n",
       "      <td>0.00</td>\n",
       "      <td>0</td>\n",
       "      <td>NaN</td>\n",
       "      <td>0</td>\n",
       "      <td>2012-11-22 00:08:02+03:30</td>\n",
       "      <td>...</td>\n",
       "      <td>29.49</td>\n",
       "      <td>29.49</td>\n",
       "      <td>A</td>\n",
       "      <td>1189</td>\n",
       "      <td>1282</td>\n",
       "      <td>0</td>\n",
       "      <td>A</td>\n",
       "      <td>(29.46089609862487, 60.9252559761269)</td>\n",
       "      <td>29.48</td>\n",
       "      <td>60.92</td>\n",
       "    </tr>\n",
       "    <tr>\n",
       "      <th>2</th>\n",
       "      <td>124126394.00</td>\n",
       "      <td>4619</td>\n",
       "      <td>1260.00</td>\n",
       "      <td>0</td>\n",
       "      <td>0.00</td>\n",
       "      <td>0.00</td>\n",
       "      <td>0</td>\n",
       "      <td>NaN</td>\n",
       "      <td>0</td>\n",
       "      <td>2012-11-22 13:34:58+03:30</td>\n",
       "      <td>...</td>\n",
       "      <td>29.51</td>\n",
       "      <td>29.51</td>\n",
       "      <td>A</td>\n",
       "      <td>1</td>\n",
       "      <td>1</td>\n",
       "      <td>0</td>\n",
       "      <td>A</td>\n",
       "      <td>(29.488796156443147, 60.95678957841472)</td>\n",
       "      <td>29.48</td>\n",
       "      <td>60.96</td>\n",
       "    </tr>\n",
       "    <tr>\n",
       "      <th>3</th>\n",
       "      <td>71296786.00</td>\n",
       "      <td>2210</td>\n",
       "      <td>920.00</td>\n",
       "      <td>0</td>\n",
       "      <td>0.00</td>\n",
       "      <td>0.00</td>\n",
       "      <td>0</td>\n",
       "      <td>NaN</td>\n",
       "      <td>0</td>\n",
       "      <td>2012-11-22 08:20:06+03:30</td>\n",
       "      <td>...</td>\n",
       "      <td>29.50</td>\n",
       "      <td>29.50</td>\n",
       "      <td>A</td>\n",
       "      <td>895</td>\n",
       "      <td>895</td>\n",
       "      <td>0</td>\n",
       "      <td>A</td>\n",
       "      <td>(29.509874819344816, 60.95307799681066)</td>\n",
       "      <td>29.50</td>\n",
       "      <td>60.96</td>\n",
       "    </tr>\n",
       "    <tr>\n",
       "      <th>4</th>\n",
       "      <td>86119764.00</td>\n",
       "      <td>3599</td>\n",
       "      <td>1140.00</td>\n",
       "      <td>0</td>\n",
       "      <td>0.00</td>\n",
       "      <td>0.00</td>\n",
       "      <td>0</td>\n",
       "      <td>NaN</td>\n",
       "      <td>0</td>\n",
       "      <td>2012-11-22 10:14:43+03:30</td>\n",
       "      <td>...</td>\n",
       "      <td>29.52</td>\n",
       "      <td>29.52</td>\n",
       "      <td>A</td>\n",
       "      <td>344</td>\n",
       "      <td>344</td>\n",
       "      <td>0</td>\n",
       "      <td>A</td>\n",
       "      <td>(29.499068686791556, 60.93856551182067)</td>\n",
       "      <td>29.51</td>\n",
       "      <td>60.94</td>\n",
       "    </tr>\n",
       "  </tbody>\n",
       "</table>\n",
       "<p>5 rows × 24 columns</p>\n",
       "</div>"
      ],
      "text/plain": [
       "   passenger_unique_identifier  approximate_distance_meter  final_price  \\\n",
       "0                  86535006.00                        5163      1300.00   \n",
       "1                  52505314.00                        6102      1300.00   \n",
       "2                 124126394.00                        4619      1260.00   \n",
       "3                  71296786.00                        2210       920.00   \n",
       "4                  86119764.00                        3599      1140.00   \n",
       "\n",
       "   waiting_time_enabled  second_destination_final_price  \\\n",
       "0                     0                            0.00   \n",
       "1                     0                            0.00   \n",
       "2                     0                            0.00   \n",
       "3                     0                            0.00   \n",
       "4                     0                            0.00   \n",
       "\n",
       "   round_ride_final_price  for_friend_enabled  is_voucher_used  intercity  \\\n",
       "0                    0.00                   0              NaN          0   \n",
       "1                    0.00                   0              NaN          0   \n",
       "2                    0.00                   0              NaN          0   \n",
       "3                    0.00                   0              NaN          0   \n",
       "4                    0.00                   0              NaN          0   \n",
       "\n",
       "            request_datetime  ...  second_destination_latitude  \\\n",
       "0  2012-11-22 13:36:38+03:30  ...                        29.50   \n",
       "1  2012-11-22 00:08:02+03:30  ...                        29.49   \n",
       "2  2012-11-22 13:34:58+03:30  ...                        29.51   \n",
       "3  2012-11-22 08:20:06+03:30  ...                        29.50   \n",
       "4  2012-11-22 10:14:43+03:30  ...                        29.52   \n",
       "\n",
       "   second_destination_longitude  requested_service_type  \\\n",
       "0                         29.50                       A   \n",
       "1                         29.49                       A   \n",
       "2                         29.51                       A   \n",
       "3                         29.50                       A   \n",
       "4                         29.52                       A   \n",
       "\n",
       "   days_since_passenger_first_ride  days_since_passenger_first_request  \\\n",
       "0                              624                                 624   \n",
       "1                             1189                                1282   \n",
       "2                                1                                   1   \n",
       "3                              895                                 895   \n",
       "4                              344                                 344   \n",
       "\n",
       "   in_hurry_enabled treatment_group  \\\n",
       "0                 0               A   \n",
       "1                 0               A   \n",
       "2                 0               A   \n",
       "3                 0               A   \n",
       "4                 0               A   \n",
       "\n",
       "   ('new_origin_latitude', 'new_origin_longitude')  new_origin_latitude  \\\n",
       "0          (29.496908089483664, 60.95093813927035)                29.52   \n",
       "1            (29.46089609862487, 60.9252559761269)                29.48   \n",
       "2          (29.488796156443147, 60.95678957841472)                29.48   \n",
       "3          (29.509874819344816, 60.95307799681066)                29.50   \n",
       "4          (29.499068686791556, 60.93856551182067)                29.51   \n",
       "\n",
       "   new_origin_longitude  \n",
       "0                 60.95  \n",
       "1                 60.92  \n",
       "2                 60.96  \n",
       "3                 60.96  \n",
       "4                 60.94  \n",
       "\n",
       "[5 rows x 24 columns]"
      ]
     },
     "execution_count": 5,
     "metadata": {},
     "output_type": "execute_result"
    }
   ],
   "source": [
    "data_test.head()"
   ]
  },
  {
   "cell_type": "markdown",
   "id": "8da44bd9-37f0-4d78-b9b9-ff5aed8f848e",
   "metadata": {},
   "source": [
    "## Find Columns with Missing Values in Data"
   ]
  },
  {
   "cell_type": "code",
   "execution_count": 6,
   "id": "c5634004-9cf8-4115-a0d4-e4e80c4809c9",
   "metadata": {},
   "outputs": [
    {
     "name": "stdout",
     "output_type": "stream",
     "text": [
      "Missing values summary:\n",
      "passenger_unique_identifier                            0\n",
      "driver_unique_identifier                            9526\n",
      "approximate_distance_meter                             0\n",
      "final_price                                            0\n",
      "waiting_time_enabled                                   0\n",
      "second_destination_final_price                         0\n",
      "round_ride_final_price                                 0\n",
      "for_friend_enabled                                     0\n",
      "is_voucher_used                                    80692\n",
      "intercity                                              0\n",
      "request_datetime                                       0\n",
      "origin_latitude                                        0\n",
      "origin_longitude                                       0\n",
      "destination_latitude                                   0\n",
      "destination_longitude                                  0\n",
      "second_destination_latitude                            0\n",
      "second_destination_longitude                           0\n",
      "requested_service_type                                 0\n",
      "days_since_passenger_first_ride                        0\n",
      "days_since_passenger_first_request                     0\n",
      "in_hurry_enabled                                       0\n",
      "ride (target)                                          0\n",
      "treatment_group                                     9526\n",
      "('new_origin_latitude', 'new_origin_longitude')        0\n",
      "new_origin_latitude                                    0\n",
      "new_origin_longitude                                   0\n",
      "dtype: int64\n"
     ]
    }
   ],
   "source": [
    "# Check for missing values\n",
    "print(\"Missing values summary:\")\n",
    "print(data.isnull().sum())"
   ]
  },
  {
   "cell_type": "code",
   "execution_count": 7,
   "id": "294d2b29-1abf-42b9-a63f-150395f613eb",
   "metadata": {},
   "outputs": [
    {
     "name": "stdout",
     "output_type": "stream",
     "text": [
      "Missing values summary:\n",
      "passenger_unique_identifier                           0\n",
      "approximate_distance_meter                            0\n",
      "final_price                                           0\n",
      "waiting_time_enabled                                  0\n",
      "second_destination_final_price                        0\n",
      "round_ride_final_price                                0\n",
      "for_friend_enabled                                    0\n",
      "is_voucher_used                                    7774\n",
      "intercity                                             0\n",
      "request_datetime                                      0\n",
      "origin_latitude                                       0\n",
      "origin_longitude                                      0\n",
      "destination_latitude                                  0\n",
      "destination_longitude                                 0\n",
      "second_destination_latitude                           0\n",
      "second_destination_longitude                          0\n",
      "requested_service_type                                0\n",
      "days_since_passenger_first_ride                       0\n",
      "days_since_passenger_first_request                    0\n",
      "in_hurry_enabled                                      0\n",
      "treatment_group                                     912\n",
      "('new_origin_latitude', 'new_origin_longitude')       0\n",
      "new_origin_latitude                                   0\n",
      "new_origin_longitude                                  0\n",
      "dtype: int64\n"
     ]
    }
   ],
   "source": [
    "# Check for missing values\n",
    "print(\"Missing values summary:\")\n",
    "print(data_test.isnull().sum())"
   ]
  },
  {
   "cell_type": "code",
   "execution_count": 8,
   "id": "0e596228-77ba-447e-90a5-22d20b8fff53",
   "metadata": {},
   "outputs": [
    {
     "data": {
      "text/plain": [
       "passenger_unique_identifier                         0.00\n",
       "driver_unique_identifier                           11.81\n",
       "approximate_distance_meter                          0.00\n",
       "final_price                                         0.00\n",
       "waiting_time_enabled                                0.00\n",
       "second_destination_final_price                      0.00\n",
       "round_ride_final_price                              0.00\n",
       "for_friend_enabled                                  0.00\n",
       "is_voucher_used                                   100.00\n",
       "intercity                                           0.00\n",
       "request_datetime                                    0.00\n",
       "origin_latitude                                     0.00\n",
       "origin_longitude                                    0.00\n",
       "destination_latitude                                0.00\n",
       "destination_longitude                               0.00\n",
       "second_destination_latitude                         0.00\n",
       "second_destination_longitude                        0.00\n",
       "requested_service_type                              0.00\n",
       "days_since_passenger_first_ride                     0.00\n",
       "days_since_passenger_first_request                  0.00\n",
       "in_hurry_enabled                                    0.00\n",
       "ride (target)                                       0.00\n",
       "treatment_group                                    11.81\n",
       "('new_origin_latitude', 'new_origin_longitude')     0.00\n",
       "new_origin_latitude                                 0.00\n",
       "new_origin_longitude                                0.00\n",
       "dtype: float64"
      ]
     },
     "execution_count": 8,
     "metadata": {},
     "output_type": "execute_result"
    }
   ],
   "source": [
    "(data.isnull().sum()/(len(data)))*100"
   ]
  },
  {
   "cell_type": "code",
   "execution_count": 9,
   "id": "c1ee9a96-537c-4f7c-b944-2d3fcbab8517",
   "metadata": {},
   "outputs": [
    {
     "data": {
      "text/plain": [
       "passenger_unique_identifier                         0.00\n",
       "approximate_distance_meter                          0.00\n",
       "final_price                                         0.00\n",
       "waiting_time_enabled                                0.00\n",
       "second_destination_final_price                      0.00\n",
       "round_ride_final_price                              0.00\n",
       "for_friend_enabled                                  0.00\n",
       "is_voucher_used                                   100.00\n",
       "intercity                                           0.00\n",
       "request_datetime                                    0.00\n",
       "origin_latitude                                     0.00\n",
       "origin_longitude                                    0.00\n",
       "destination_latitude                                0.00\n",
       "destination_longitude                               0.00\n",
       "second_destination_latitude                         0.00\n",
       "second_destination_longitude                        0.00\n",
       "requested_service_type                              0.00\n",
       "days_since_passenger_first_ride                     0.00\n",
       "days_since_passenger_first_request                  0.00\n",
       "in_hurry_enabled                                    0.00\n",
       "treatment_group                                    11.73\n",
       "('new_origin_latitude', 'new_origin_longitude')     0.00\n",
       "new_origin_latitude                                 0.00\n",
       "new_origin_longitude                                0.00\n",
       "dtype: float64"
      ]
     },
     "execution_count": 9,
     "metadata": {},
     "output_type": "execute_result"
    }
   ],
   "source": [
    "(data_test.isnull().sum()/(len(data_test)))*100"
   ]
  },
  {
   "cell_type": "code",
   "execution_count": 10,
   "id": "0d263029-ebd2-4d51-b024-5b15337df845",
   "metadata": {},
   "outputs": [],
   "source": [
    "data[\"price_per_meter\"] = data.apply(lambda df: 0 if df[\"approximate_distance_meter\"] == 0 \n",
    "                                                                                 else df[\"final_price\"]/df[\"approximate_distance_meter\"], axis=1)"
   ]
  },
  {
   "cell_type": "code",
   "execution_count": 11,
   "id": "b21df292-78d5-4feb-983a-306cc6e1758f",
   "metadata": {},
   "outputs": [
    {
     "data": {
      "text/plain": [
       "treatment_group\n",
       "A    70386\n",
       "B      780\n",
       "Name: count, dtype: int64"
      ]
     },
     "execution_count": 11,
     "metadata": {},
     "output_type": "execute_result"
    }
   ],
   "source": [
    "data.treatment_group.value_counts()"
   ]
  },
  {
   "cell_type": "code",
   "execution_count": 12,
   "id": "8624eee4-c1fe-4ab5-aeb7-4b0eb1cc9294",
   "metadata": {},
   "outputs": [
    {
     "data": {
      "text/plain": [
       "ride (target)\n",
       "1    56589\n",
       "0    13797\n",
       "Name: count, dtype: int64"
      ]
     },
     "execution_count": 12,
     "metadata": {},
     "output_type": "execute_result"
    }
   ],
   "source": [
    "data.loc[data.treatment_group == \"A\", \"ride (target)\"].value_counts()"
   ]
  },
  {
   "cell_type": "code",
   "execution_count": 13,
   "id": "18a4633e-2790-4993-bbd5-0f755099c968",
   "metadata": {},
   "outputs": [],
   "source": [
    "data['treatment_group'].fillna(data['treatment_group'].mode()[0], inplace=True)"
   ]
  },
  {
   "cell_type": "markdown",
   "id": "4a23f1d5-66b0-4094-8eab-bf811762e4f2",
   "metadata": {},
   "source": [
    "## Find Duplicate Records in Data"
   ]
  },
  {
   "cell_type": "code",
   "execution_count": 14,
   "id": "eb84810e-23da-486a-9110-5f22d4a1ae95",
   "metadata": {},
   "outputs": [
    {
     "data": {
      "text/plain": [
       "0"
      ]
     },
     "execution_count": 14,
     "metadata": {},
     "output_type": "execute_result"
    }
   ],
   "source": [
    "data.duplicated().sum()"
   ]
  },
  {
   "cell_type": "code",
   "execution_count": 15,
   "id": "0a63d153-cb19-4136-b671-22df579d1e5a",
   "metadata": {},
   "outputs": [
    {
     "data": {
      "text/plain": [
       "0"
      ]
     },
     "execution_count": 15,
     "metadata": {},
     "output_type": "execute_result"
    }
   ],
   "source": [
    "data_test.duplicated().sum()"
   ]
  },
  {
   "cell_type": "markdown",
   "id": "c0367717-6cf1-4700-ad8a-d04b1a0d3dc1",
   "metadata": {},
   "source": [
    "## Rename Target Columns in Data for more Convenient Data Manipulation"
   ]
  },
  {
   "cell_type": "code",
   "execution_count": 16,
   "id": "bdb7939b-45d8-4a7e-8d21-16c957f49336",
   "metadata": {},
   "outputs": [],
   "source": [
    "data = data.rename(columns = {\"ride (target)\":\"target\"})"
   ]
  },
  {
   "cell_type": "markdown",
   "id": "e032d817-527f-4e38-aa28-b62dd2adeda5",
   "metadata": {},
   "source": [
    "## Drop Useless Columns"
   ]
  },
  {
   "cell_type": "code",
   "execution_count": 17,
   "id": "0e61a001-e6c6-4aba-8c4d-4d587f2b9a7a",
   "metadata": {},
   "outputs": [],
   "source": [
    "data = data.drop([\"('new_origin_latitude', 'new_origin_longitude')\", \"is_voucher_used\", \"driver_unique_identifier\", \n",
    "                                                              \"origin_latitude\", \"origin_longitude\", \"destination_latitude\", \"destination_longitude\",\n",
    "                                                              \"second_destination_latitude\", \"second_destination_longitude\"], axis=\"columns\")"
   ]
  },
  {
   "cell_type": "markdown",
   "id": "78045529-53ee-4be2-a596-95b76f214b19",
   "metadata": {},
   "source": [
    "## Drop Rows with Missing Data"
   ]
  },
  {
   "cell_type": "code",
   "execution_count": 18,
   "id": "6313b3d8-0aaa-4de3-9a71-d309a26cfd7a",
   "metadata": {},
   "outputs": [
    {
     "data": {
      "text/plain": [
       "array(['A', 'B', 'E', 'D', 'C'], dtype=object)"
      ]
     },
     "execution_count": 18,
     "metadata": {},
     "output_type": "execute_result"
    }
   ],
   "source": [
    "data[\"requested_service_type\"].unique()"
   ]
  },
  {
   "cell_type": "code",
   "execution_count": 19,
   "id": "6e4bb8bf-9ee9-4895-99d2-f4736a551349",
   "metadata": {},
   "outputs": [
    {
     "data": {
      "text/plain": [
       "requested_service_type\n",
       "A    80312\n",
       "E      145\n",
       "B      121\n",
       "D       70\n",
       "C       44\n",
       "Name: count, dtype: int64"
      ]
     },
     "execution_count": 19,
     "metadata": {},
     "output_type": "execute_result"
    }
   ],
   "source": [
    "data.loc[:, \"requested_service_type\"].value_counts()"
   ]
  },
  {
   "cell_type": "code",
   "execution_count": 20,
   "id": "6160c406-cb6b-424b-ae96-18d596391be6",
   "metadata": {},
   "outputs": [],
   "source": [
    "data_sort = data.copy()"
   ]
  },
  {
   "cell_type": "code",
   "execution_count": 21,
   "id": "0b272275-4ea4-480d-abef-7346e0a1ed8a",
   "metadata": {},
   "outputs": [],
   "source": [
    "data_sort['request_datetime'] = pd.to_datetime(data_sort['request_datetime'])"
   ]
  },
  {
   "cell_type": "code",
   "execution_count": 22,
   "id": "96437b93-8ecf-453d-8924-f46e192513bc",
   "metadata": {},
   "outputs": [],
   "source": [
    "data = data.dropna()"
   ]
  },
  {
   "cell_type": "code",
   "execution_count": 23,
   "id": "b71cc327-68cb-428c-ae65-97146964974d",
   "metadata": {},
   "outputs": [
    {
     "name": "stdout",
     "output_type": "stream",
     "text": [
      "<class 'pandas.core.frame.DataFrame'>\n",
      "RangeIndex: 80692 entries, 0 to 80691\n",
      "Data columns (total 18 columns):\n",
      " #   Column                              Non-Null Count  Dtype  \n",
      "---  ------                              --------------  -----  \n",
      " 0   passenger_unique_identifier         80692 non-null  float64\n",
      " 1   approximate_distance_meter          80692 non-null  int64  \n",
      " 2   final_price                         80692 non-null  float64\n",
      " 3   waiting_time_enabled                80692 non-null  int64  \n",
      " 4   second_destination_final_price      80692 non-null  float64\n",
      " 5   round_ride_final_price              80692 non-null  float64\n",
      " 6   for_friend_enabled                  80692 non-null  int64  \n",
      " 7   intercity                           80692 non-null  int64  \n",
      " 8   request_datetime                    80692 non-null  object \n",
      " 9   requested_service_type              80692 non-null  object \n",
      " 10  days_since_passenger_first_ride     80692 non-null  int64  \n",
      " 11  days_since_passenger_first_request  80692 non-null  int64  \n",
      " 12  in_hurry_enabled                    80692 non-null  int64  \n",
      " 13  target                              80692 non-null  int64  \n",
      " 14  treatment_group                     80692 non-null  object \n",
      " 15  new_origin_latitude                 80692 non-null  float64\n",
      " 16  new_origin_longitude                80692 non-null  float64\n",
      " 17  price_per_meter                     80692 non-null  float64\n",
      "dtypes: float64(7), int64(8), object(3)\n",
      "memory usage: 11.1+ MB\n"
     ]
    }
   ],
   "source": [
    "data.info()"
   ]
  },
  {
   "cell_type": "markdown",
   "id": "dd27da0d-e727-4478-94e1-61af97ff9890",
   "metadata": {},
   "source": [
    "## Target Data Distribution"
   ]
  },
  {
   "cell_type": "code",
   "execution_count": 24,
   "id": "ede66eeb-46ee-4caa-83fd-a65fe7035ebe",
   "metadata": {},
   "outputs": [
    {
     "data": {
      "text/html": [
       "<div>\n",
       "<style scoped>\n",
       "    .dataframe tbody tr th:only-of-type {\n",
       "        vertical-align: middle;\n",
       "    }\n",
       "\n",
       "    .dataframe tbody tr th {\n",
       "        vertical-align: top;\n",
       "    }\n",
       "\n",
       "    .dataframe thead th {\n",
       "        text-align: right;\n",
       "    }\n",
       "</style>\n",
       "<table border=\"1\" class=\"dataframe\">\n",
       "  <thead>\n",
       "    <tr style=\"text-align: right;\">\n",
       "      <th></th>\n",
       "      <th>target</th>\n",
       "      <th>count</th>\n",
       "      <th>percentage</th>\n",
       "    </tr>\n",
       "  </thead>\n",
       "  <tbody>\n",
       "    <tr>\n",
       "      <th>0</th>\n",
       "      <td>1</td>\n",
       "      <td>23506</td>\n",
       "      <td>29.13</td>\n",
       "    </tr>\n",
       "    <tr>\n",
       "      <th>1</th>\n",
       "      <td>0</td>\n",
       "      <td>57186</td>\n",
       "      <td>70.87</td>\n",
       "    </tr>\n",
       "  </tbody>\n",
       "</table>\n",
       "</div>"
      ],
      "text/plain": [
       "   target  count  percentage\n",
       "0       1  23506       29.13\n",
       "1       0  57186       70.87"
      ]
     },
     "execution_count": 24,
     "metadata": {},
     "output_type": "execute_result"
    }
   ],
   "source": [
    "#check Imbalance in data\n",
    "\n",
    "#group instances based on the classes in target variable\n",
    "class_counts = data.groupby(\"target\").size()\n",
    "\n",
    "columns=['target','count','percentage']\n",
    "outcome=list(data['target'].unique())\n",
    "count=list()\n",
    "percentage=list()\n",
    "\n",
    "#Calculate the percentage of each value of the target variable from total\n",
    "for val in range(len(outcome)):\n",
    "    count.append(class_counts[val])\n",
    "    percent=(class_counts[val]/len(data))*100\n",
    "    percentage.append(percent)\n",
    "\n",
    "# Convert the calulated values into a dataframe\n",
    "imbalance_df=pd.DataFrame(list(zip(outcome,count,percentage)),columns=columns)\n",
    "imbalance_df   "
   ]
  },
  {
   "cell_type": "code",
   "execution_count": 25,
   "id": "4bc1461e-5bc9-408f-8c96-fb3553b165f6",
   "metadata": {},
   "outputs": [
    {
     "data": {
      "image/png": "[encoded data removed]",
      "text/plain": [
       "<Figure size 640x480 with 1 Axes>"
      ]
     },
     "metadata": {},
     "output_type": "display_data"
    }
   ],
   "source": [
    "sns.barplot(data=imbalance_df,x=imbalance_df['target'],y=imbalance_df['percentage'])\n",
    "plt.show()"
   ]
  },
  {
   "cell_type": "markdown",
   "id": "92d4daaf-90a3-42d8-9278-474c9c383095",
   "metadata": {},
   "source": [
    "## Numerical data distributio"
   ]
  },
  {
   "cell_type": "code",
   "execution_count": 26,
   "id": "a0087ef3-d925-42d5-9e0c-7747f281d439",
   "metadata": {},
   "outputs": [
    {
     "data": {
      "text/plain": [
       "[dtype('float64'), dtype('O'), dtype('int64')]"
      ]
     },
     "execution_count": 26,
     "metadata": {},
     "output_type": "execute_result"
    }
   ],
   "source": [
    "list(set(data.dtypes.tolist()))"
   ]
  },
  {
   "cell_type": "code",
   "execution_count": 27,
   "id": "d7be12d7-5208-498a-b3be-8cb6ad136458",
   "metadata": {},
   "outputs": [
    {
     "data": {
      "text/html": [
       "<div>\n",
       "<style scoped>\n",
       "    .dataframe tbody tr th:only-of-type {\n",
       "        vertical-align: middle;\n",
       "    }\n",
       "\n",
       "    .dataframe tbody tr th {\n",
       "        vertical-align: top;\n",
       "    }\n",
       "\n",
       "    .dataframe thead th {\n",
       "        text-align: right;\n",
       "    }\n",
       "</style>\n",
       "<table border=\"1\" class=\"dataframe\">\n",
       "  <thead>\n",
       "    <tr style=\"text-align: right;\">\n",
       "      <th></th>\n",
       "      <th>passenger_unique_identifier</th>\n",
       "      <th>final_price</th>\n",
       "      <th>second_destination_final_price</th>\n",
       "      <th>round_ride_final_price</th>\n",
       "      <th>new_origin_latitude</th>\n",
       "      <th>new_origin_longitude</th>\n",
       "      <th>price_per_meter</th>\n",
       "    </tr>\n",
       "  </thead>\n",
       "  <tbody>\n",
       "    <tr>\n",
       "      <th>0</th>\n",
       "      <td>2561296.00</td>\n",
       "      <td>1200.00</td>\n",
       "      <td>0.00</td>\n",
       "      <td>0.00</td>\n",
       "      <td>29.50</td>\n",
       "      <td>60.96</td>\n",
       "      <td>0.19</td>\n",
       "    </tr>\n",
       "    <tr>\n",
       "      <th>1</th>\n",
       "      <td>66990258.00</td>\n",
       "      <td>1700.00</td>\n",
       "      <td>0.00</td>\n",
       "      <td>0.00</td>\n",
       "      <td>29.53</td>\n",
       "      <td>60.96</td>\n",
       "      <td>0.29</td>\n",
       "    </tr>\n",
       "    <tr>\n",
       "      <th>2</th>\n",
       "      <td>115656004.00</td>\n",
       "      <td>1480.00</td>\n",
       "      <td>0.00</td>\n",
       "      <td>0.00</td>\n",
       "      <td>29.53</td>\n",
       "      <td>60.93</td>\n",
       "      <td>0.21</td>\n",
       "    </tr>\n",
       "    <tr>\n",
       "      <th>3</th>\n",
       "      <td>103175504.00</td>\n",
       "      <td>1000.00</td>\n",
       "      <td>0.00</td>\n",
       "      <td>0.00</td>\n",
       "      <td>29.47</td>\n",
       "      <td>60.98</td>\n",
       "      <td>0.22</td>\n",
       "    </tr>\n",
       "    <tr>\n",
       "      <th>4</th>\n",
       "      <td>104326018.00</td>\n",
       "      <td>1500.00</td>\n",
       "      <td>0.00</td>\n",
       "      <td>0.00</td>\n",
       "      <td>29.53</td>\n",
       "      <td>60.99</td>\n",
       "      <td>0.21</td>\n",
       "    </tr>\n",
       "  </tbody>\n",
       "</table>\n",
       "</div>"
      ],
      "text/plain": [
       "   passenger_unique_identifier  final_price  second_destination_final_price  \\\n",
       "0                   2561296.00      1200.00                            0.00   \n",
       "1                  66990258.00      1700.00                            0.00   \n",
       "2                 115656004.00      1480.00                            0.00   \n",
       "3                 103175504.00      1000.00                            0.00   \n",
       "4                 104326018.00      1500.00                            0.00   \n",
       "\n",
       "   round_ride_final_price  new_origin_latitude  new_origin_longitude  \\\n",
       "0                    0.00                29.50                 60.96   \n",
       "1                    0.00                29.53                 60.96   \n",
       "2                    0.00                29.53                 60.93   \n",
       "3                    0.00                29.47                 60.98   \n",
       "4                    0.00                29.53                 60.99   \n",
       "\n",
       "   price_per_meter  \n",
       "0             0.19  \n",
       "1             0.29  \n",
       "2             0.21  \n",
       "3             0.22  \n",
       "4             0.21  "
      ]
     },
     "execution_count": 27,
     "metadata": {},
     "output_type": "execute_result"
    }
   ],
   "source": [
    "df_continuous = data.select_dtypes(include = ['float64'])\n",
    "df_continuous.head()"
   ]
  },
  {
   "cell_type": "code",
   "execution_count": 28,
   "id": "01c601ca-2d4d-4dcf-a366-bcf55163ca81",
   "metadata": {},
   "outputs": [
    {
     "data": {
      "image/png": "[encoded data removed]",
      "text/plain": [
       "<Figure size 1600x2000 with 9 Axes>"
      ]
     },
     "metadata": {},
     "output_type": "display_data"
    }
   ],
   "source": [
    "df_continuous.hist(figsize=(16, 20), bins=50, xlabelsize=8, ylabelsize=8);"
   ]
  },
  {
   "cell_type": "markdown",
   "id": "80de6dbf-ce16-4498-b5a0-fe90bc91f8b6",
   "metadata": {},
   "source": [
    "## Correlation"
   ]
  },
  {
   "cell_type": "code",
   "execution_count": 29,
   "id": "5418a076-b5e6-4e26-8ddd-71dc8c19e46f",
   "metadata": {},
   "outputs": [
    {
     "name": "stdout",
     "output_type": "stream",
     "text": [
      "Features correlation with target:\n",
      "new_origin_longitude                  0.52\n",
      "passenger_unique_identifier           0.05\n",
      "waiting_time_enabled                  0.02\n",
      "second_destination_final_price        0.02\n",
      "round_ride_final_price                0.00\n",
      "for_friend_enabled                   -0.01\n",
      "price_per_meter                      -0.01\n",
      "intercity                            -0.04\n",
      "days_since_passenger_first_ride      -0.05\n",
      "days_since_passenger_first_request   -0.05\n",
      "in_hurry_enabled                     -0.06\n",
      "final_price                          -0.13\n",
      "approximate_distance_meter           -0.17\n",
      "new_origin_latitude                  -0.50\n",
      "Name: target, dtype: float64\n",
      "\n",
      "There is 1 strongly correlated value with target:\n",
      "new_origin_longitude   0.52\n",
      "Name: target, dtype: float64\n"
     ]
    }
   ],
   "source": [
    "df_num = data.select_dtypes(include = ['int64', 'float64'])\n",
    "df_num_corr = df_num.corr()['target']\n",
    "features_list = df_num_corr.sort_values(ascending=False)[1:]\n",
    "golden_features_list = df_num_corr[abs(df_num_corr) > 0.5].sort_values(ascending=False)[1:]\n",
    "print(\"Features correlation with target:\\n{}\\n\".format(features_list))\n",
    "print(\"There is {} strongly correlated value with target:\\n{}\".format(len(golden_features_list), golden_features_list))"
   ]
  },
  {
   "cell_type": "code",
   "execution_count": 30,
   "id": "6520b22a-c905-48b0-9db5-896a499530ff",
   "metadata": {},
   "outputs": [
    {
     "data": {
      "image/png": "[encoded data removed]",
      "text/plain": [
       "<Figure size 1250x250 with 5 Axes>"
      ]
     },
     "metadata": {},
     "output_type": "display_data"
    },
    {
     "data": {
      "image/png": "[encoded data removed]",
      "text/plain": [
       "<Figure size 750x250 with 4 Axes>"
      ]
     },
     "metadata": {},
     "output_type": "display_data"
    }
   ],
   "source": [
    "df_cont_tgt = pd.concat([df_continuous, data['target']], axis=1)\n",
    "for i in range(0, len(df_cont_tgt.columns), 5):\n",
    "    sns.pairplot(data=df_cont_tgt,\n",
    "                 x_vars=df_cont_tgt.columns[i:i+5],\n",
    "                 y_vars=['target'])"
   ]
  },
  {
   "cell_type": "code",
   "execution_count": 37,
   "id": "2a773300-86a4-438b-84eb-9bd2067a5a6b",
   "metadata": {},
   "outputs": [
    {
     "name": "stdout",
     "output_type": "stream",
     "text": [
      "           new_origin_latitude:           -0.49777290240949995\n",
      "                   final_price:            -0.1315659019522139\n",
      "second_destination_final_price:           -0.07931684242419373\n",
      "        round_ride_final_price:           -0.03423143253404754\n",
      "               price_per_meter:          -0.010571372500730739\n",
      "   passenger_unique_identifier:            0.04541026602357687\n",
      "          new_origin_longitude:             0.5244873043838515\n"
     ]
    }
   ],
   "source": [
    "import operator\n",
    "\n",
    "individual_feats_df = []\n",
    "for i in range(0, len(df_cont_tgt.columns)):\n",
    "    if df_cont_tgt.columns[i] != 'target':\n",
    "        tmpDF = df_cont_tgt[[df_cont_tgt.columns[i], 'target']]\n",
    "        tmpDF = tmpDF[tmpDF[df_cont_tgt.columns[i]] != 0]\n",
    "        individual_feats_df.append(tmpDF)\n",
    "\n",
    "all_corrs = {feat.columns[0]: feat.corr()['target'][0] for feat in individual_feats_df}\n",
    "all_corrs = sorted(all_corrs.items(), key=operator.itemgetter(1))\n",
    "for (key, value) in all_corrs:\n",
    "    print(\"{:>30}: {:>30}\".format(key, value))"
   ]
  },
  {
   "cell_type": "markdown",
   "id": "29980fba-165c-4032-88f2-8902ffa71f93",
   "metadata": {},
   "source": [
    "## Feature to feature relationship"
   ]
  },
  {
   "cell_type": "code",
   "execution_count": 39,
   "id": "275f3302-7832-4110-add6-4675cb477fc8",
   "metadata": {},
   "outputs": [
    {
     "data": {
      "image/png": "[encoded data removed]",
      "text/plain": [
       "<Figure size 1200x1000 with 2 Axes>"
      ]
     },
     "metadata": {},
     "output_type": "display_data"
    }
   ],
   "source": [
    "corr = df_num.drop('target', axis=1).corr()\n",
    "plt.figure(figsize=(12, 10))\n",
    "\n",
    "sns.heatmap(corr[(corr >= 0.5) | (corr <= -0.4)],\n",
    "            cmap='viridis', vmax=1.0, vmin=-1.0, linewidths=0.1,\n",
    "            annot=True, annot_kws={'size':8}, square=True);"
   ]
  },
  {
   "cell_type": "markdown",
   "id": "6ad6740a-167a-480c-900e-3fb8b002ce68",
   "metadata": {},
   "source": [
    "## Convert Column Containing Date to DateTime"
   ]
  },
  {
   "cell_type": "code",
   "execution_count": null,
   "id": "bb69ddaa-0b54-4f83-9ff6-2b407fc312fc",
   "metadata": {},
   "outputs": [],
   "source": [
    "data['request_datetime'] = pd.to_datetime(data['request_datetime'])"
   ]
  },
  {
   "cell_type": "code",
   "execution_count": null,
   "id": "91799d34-2c33-414e-a95e-b95e261a63f8",
   "metadata": {},
   "outputs": [],
   "source": [
    "# Analyze data types\n",
    "print(\"Data types:\")\n",
    "print(data.dtypes)"
   ]
  },
  {
   "cell_type": "markdown",
   "id": "96bedc2d-15ab-4aa4-b5c1-ff0e93f5aad6",
   "metadata": {},
   "source": [
    "## Investigate Unique Values of Features to Decide if they should be converted to Categorical Type"
   ]
  },
  {
   "cell_type": "code",
   "execution_count": null,
   "id": "fda9bd50-e86a-421f-9b45-95efaf15cf96",
   "metadata": {},
   "outputs": [],
   "source": [
    "data.nunique()"
   ]
  },
  {
   "cell_type": "markdown",
   "id": "7c8c55bd-c182-44b2-982e-fb6de1de33ed",
   "metadata": {},
   "source": [
    "## Split the Data into Train and Validation"
   ]
  },
  {
   "cell_type": "code",
   "execution_count": null,
   "id": "646fc020-6e89-4598-bb73-40b25a17fa1e",
   "metadata": {},
   "outputs": [],
   "source": [
    "y = data.target\n",
    "data.drop(['target'], axis=1, inplace=True)\n",
    "\n",
    "X_train, X_val, y_train, y_val = train_test_split(data, y, stratify = y, test_size=.2, random_state =10)"
   ]
  },
  {
   "cell_type": "markdown",
   "id": "499d4e62-92c1-4894-be1e-a9e787f7016b",
   "metadata": {},
   "source": [
    "## Covert some Features to Categorical"
   ]
  },
  {
   "cell_type": "code",
   "execution_count": null,
   "id": "ba2ac509-4f35-4c20-b043-7eeffe93d923",
   "metadata": {},
   "outputs": [],
   "source": [
    "def dummies_encode(df, categorical_features):\n",
    "  \"\"\"\n",
    "  One-hot encodes categorical features in a dataframe.\n",
    "\n",
    "  Args:\n",
    "      df (pandas.DataFrame): The dataframe to encode.\n",
    "      categorical_features (list): A list of column names to encode.\n",
    "\n",
    "  Returns:\n",
    "      pandas.DataFrame: The encoded dataframe.\n",
    "  \"\"\"\n",
    "  # Create a copy of the dataframe to avoid modifying the original\n",
    "  df_encoded = df.copy()\n",
    "\n",
    "  # Encode each categorical feature\n",
    "  for feature in categorical_features:\n",
    "    # Use get_dummies with drop_first=True to avoid creating a dummy variable\n",
    "    # for the first category (reduces multicollinearity)\n",
    "    dummies = pd.get_dummies(df_encoded[feature], prefix=feature, drop_first=False)\n",
    "    # Concatenate the original feature with the encoded dummies\n",
    "    df_encoded = pd.concat([df_encoded, dummies], axis=1)\n",
    "    # Drop the original categorical feature\n",
    "    df_encoded.drop(feature, axis=1, inplace=True)\n",
    "\n",
    "  return df_encoded"
   ]
  },
  {
   "cell_type": "code",
   "execution_count": null,
   "id": "a3121012-ddae-42e9-925b-d150d7f17042",
   "metadata": {},
   "outputs": [],
   "source": [
    "# Select categorical columns with relatively low cardinality (convenient but arbitrary)\n",
    "low_cardinality_cols = [cname for cname in X_train.columns if X_train[cname].nunique() < 10 and \n",
    "                        X_train[cname].dtype in [\"int64\", \"object\"]]"
   ]
  },
  {
   "cell_type": "code",
   "execution_count": null,
   "id": "e55f74d9-1f41-4925-ba00-577d3fbe82bb",
   "metadata": {},
   "outputs": [],
   "source": [
    "# Get categories from encoded training data (assuming categorical features are at the end)\n",
    "categories = {col: X_train[col].unique() for col in low_cardinality_cols}\n",
    "\n",
    "# Encode training data\n",
    "X_train = dummies_encode(X_train.copy(), low_cardinality_cols)\n",
    "\n",
    "# Apply encoding to validation data using categories from training data\n",
    "for feature in low_cardinality_cols:\n",
    "  dummies = pd.get_dummies(X_val[feature], prefix=feature, columns=categories[feature], drop_first=False)\n",
    "  X_val = pd.concat([X_val, dummies], axis=1)\n",
    "  X_val.drop(feature, axis=1, inplace=True)\n"
   ]
  },
  {
   "cell_type": "code",
   "execution_count": null,
   "id": "f1ccbb4b-50f8-41ea-84ff-eaa07c63ebe4",
   "metadata": {},
   "outputs": [],
   "source": [
    "def one_hot_encode(X_train, X_val, low_cardinality_cols):\n",
    "    # Use as many lines of code as you need!\n",
    "    ohe = OneHotEncoder(handle_unknown=\"ignore\", sparse=False)\n",
    "    \n",
    "    OH_X_train_cols = pd.DataFrame(ohe.fit_transform(X_train[low_cardinality_cols]))\n",
    "    OH_X_valid_cols = pd.DataFrame(ohe.transform(X_val[low_cardinality_cols]))\n",
    "    \n",
    "    OH_X_train_cols.index = X_train.index\n",
    "    OH_X_valid_cols.index = X_val.index\n",
    "    \n",
    "    X_train_num_cols = X_train.drop(low_cardinality_cols, axis = 1)\n",
    "    X_valid_num_cols = X_val.drop(low_cardinality_cols, axis = 1)\n",
    "    \n",
    "    OH_X_train = pd.concat([OH_X_train_cols, X_train_num_cols], axis = 1) # Your code here\n",
    "    OH_X_valid = pd.concat([OH_X_valid_cols, X_valid_num_cols], axis = 1) # Your code here\n",
    "    \n",
    "    OH_X_train.columns = OH_X_train.columns.astype(str)\n",
    "    OH_X_valid.columns = OH_X_valid.columns.astype(str)\n",
    "\n",
    "    return OH_X_train.copy(), OH_X_valid.copy()\n",
    "    \n",
    "X_train, X_val = one_hot_encode(X_train, X_val, low_cardinality_cols)"
   ]
  },
  {
   "cell_type": "code",
   "execution_count": null,
   "id": "52dba73d-2fd6-46ad-ac07-7efa8b2544bf",
   "metadata": {},
   "outputs": [],
   "source": [
    "X_train.head()"
   ]
  },
  {
   "cell_type": "code",
   "execution_count": null,
   "id": "f35202c4-8071-45d8-81d5-c8c03689c8f2",
   "metadata": {},
   "outputs": [],
   "source": [
    "X_val.head()"
   ]
  },
  {
   "cell_type": "code",
   "execution_count": null,
   "id": "4fcb8bdb-3c3b-474a-8cf0-b1f0e623a6a6",
   "metadata": {},
   "outputs": [],
   "source": [
    "data = data.rename(columns = {\"target_1\":\"target\"})"
   ]
  },
  {
   "cell_type": "markdown",
   "id": "740d6dad-5063-4908-b178-03c0673b9b0d",
   "metadata": {},
   "source": [
    "## Find Columns with Duplicate Values in Other Columns and Dropping them"
   ]
  },
  {
   "cell_type": "code",
   "execution_count": null,
   "id": "7932ee0f-6ae0-4f2b-bf40-1d5bad425cca",
   "metadata": {},
   "outputs": [],
   "source": [
    "sum(data['destination_longitude'] == data['second_destination_longitude'])"
   ]
  },
  {
   "cell_type": "code",
   "execution_count": null,
   "id": "da4e0f46-0742-4fd3-a9b4-875bf930325d",
   "metadata": {},
   "outputs": [],
   "source": [
    "sum(data['destination_latitude'] == data['second_destination_latitude'])"
   ]
  },
  {
   "cell_type": "code",
   "execution_count": null,
   "id": "88df48fe-ade7-4722-834d-d93d0d858f9d",
   "metadata": {},
   "outputs": [],
   "source": [
    "sum(data['destination_longitude'] == data['origin_longitude'])"
   ]
  },
  {
   "cell_type": "code",
   "execution_count": null,
   "id": "e7a49e61-03f1-491b-a446-0205620a7eec",
   "metadata": {},
   "outputs": [],
   "source": [
    "sum(data['destination_latitude'] == data['origin_latitude'])"
   ]
  },
  {
   "cell_type": "code",
   "execution_count": null,
   "id": "2139ce01-ace6-4655-84ad-87395f047023",
   "metadata": {},
   "outputs": [],
   "source": [
    "data = data.drop([\"origin_longitude\", \"destination_longitude\", \"second_destination_longitude\", \n",
    "                  \"origin_latitude\", \"destination_latitude\", \"second_destination_latitude\"], axis=\"columns\")"
   ]
  },
  {
   "cell_type": "code",
   "execution_count": null,
   "id": "1176dd71-bffe-4c51-b89f-12e6ed205f46",
   "metadata": {},
   "outputs": [],
   "source": [
    "X_train = X_train.drop([\"origin_longitude\", \"destination_longitude\", \"second_destination_longitude\", \n",
    "                  \"origin_latitude\", \"destination_latitude\", \"second_destination_latitude\"], axis=\"columns\")\n",
    "\n",
    "X_val = X_val.drop([\"origin_longitude\", \"destination_longitude\", \"second_destination_longitude\", \n",
    "                  \"origin_latitude\", \"destination_latitude\", \"second_destination_latitude\"], axis=\"columns\")"
   ]
  },
  {
   "cell_type": "code",
   "execution_count": null,
   "id": "2cb1f44d-e13c-464c-b760-872144001ea5",
   "metadata": {},
   "outputs": [],
   "source": [
    "X_train.head()"
   ]
  },
  {
   "cell_type": "code",
   "execution_count": null,
   "id": "eb112881-4008-44c4-acb2-f384939ce388",
   "metadata": {},
   "outputs": [],
   "source": [
    "X_val.head()"
   ]
  },
  {
   "cell_type": "markdown",
   "id": "e7242cfa-1318-419a-abca-1684ca97fee3",
   "metadata": {},
   "source": [
    "## Investigate the Range, Mean, and Standard Deviation of Numerical Features"
   ]
  },
  {
   "cell_type": "code",
   "execution_count": null,
   "id": "842b77a0-a9b1-4894-9f10-4241cb660fe1",
   "metadata": {},
   "outputs": [],
   "source": [
    "# Descriptive statistics for numerical features\n",
    "print(\"Descriptive statistics:\")\n",
    "X_train.describe().T"
   ]
  },
  {
   "cell_type": "markdown",
   "id": "8d7f668a-6d7e-4510-8ffa-d1aa03f08397",
   "metadata": {},
   "source": [
    "## Extract Numerical and Categorical Columns Names"
   ]
  },
  {
   "cell_type": "code",
   "execution_count": null,
   "id": "cc1f5df4-9004-4435-a4d0-f76b94a41580",
   "metadata": {},
   "outputs": [],
   "source": [
    "X_train.info()"
   ]
  },
  {
   "cell_type": "code",
   "execution_count": null,
   "id": "cb9e7bdb-ebe3-4b9b-979a-367f70905f89",
   "metadata": {},
   "outputs": [],
   "source": [
    "cat_cols = data.select_dtypes(include=['object']).columns.tolist()\n",
    "num_cols = data.select_dtypes(include=np.number).columns.tolist()\n",
    "print(\"Categorical Variables:\")\n",
    "print(cat_cols)\n",
    "print(\"Numerical Variables:\")\n",
    "print(num_cols)"
   ]
  },
  {
   "cell_type": "markdown",
   "id": "db850c3b-9d0d-4ce0-891e-2b323380df11",
   "metadata": {},
   "source": [
    "## Investigate Categorical Features' characteristics like their Unique Values and their most Frequent Values"
   ]
  },
  {
   "cell_type": "code",
   "execution_count": null,
   "id": "1f830775-719e-43fb-beca-ea979ca71b10",
   "metadata": {},
   "outputs": [],
   "source": [
    "data[cat_cols].describe(include='all').T"
   ]
  },
  {
   "cell_type": "markdown",
   "id": "2652b79b-cc9d-44eb-b81d-5d23392a134e",
   "metadata": {},
   "source": [
    "## Drop Column with only 1 Unique Value"
   ]
  },
  {
   "cell_type": "code",
   "execution_count": null,
   "id": "a1ee21d9-60f0-45a0-bcdf-aef57fdb1dae",
   "metadata": {},
   "outputs": [],
   "source": [
    "data = data.drop(\"requested_service_type\", axis=\"columns\")"
   ]
  },
  {
   "cell_type": "markdown",
   "id": "0e24baca-5801-4673-bf9e-866b31329229",
   "metadata": {},
   "source": [
    "## Extract Useful Info from Date Column"
   ]
  },
  {
   "cell_type": "code",
   "execution_count": null,
   "id": "e9546aa7-64f8-48fe-a72f-b197eecf344f",
   "metadata": {},
   "outputs": [],
   "source": [
    "def date_info_extractor(data, column):\n",
    "    data.loc[:, 'request_hour'] = data[column].dt.hour\n",
    "    data.loc[:, 'request_weekday'] = data[column].dt.day_name()\n",
    "    data.loc[:, 'request_date'] = data[column].dt.day\n",
    "    # data.loc[:, 'request_month'] = data['request_datetime'].dt.month  # The given training dataset is for a specific month, so extracting it will be waste of time and resource\n",
    "    # data.loc[:, 'request_day'] = data[column].dt.dayofweek\n",
    "\n",
    "    return data\n",
    "\n",
    "# X_train = date_info_extractor(X_train.copy(), \"request_datetime\")\n",
    "# X_val = date_info_extractor(X_val.copy(), \"request_datetime\")\n",
    "data = date_info_extractor(data.copy(), \"request_datetime\")"
   ]
  },
  {
   "cell_type": "code",
   "execution_count": null,
   "id": "a3098055-8264-45f7-9abf-6729125c1700",
   "metadata": {},
   "outputs": [],
   "source": [
    "data.nunique()"
   ]
  },
  {
   "cell_type": "code",
   "execution_count": null,
   "id": "5f61ba05-1003-45e3-9a2f-00a8180dffb6",
   "metadata": {},
   "outputs": [],
   "source": [
    "def one_hot_encode(X_train, X_val, low_cardinality_cols):\n",
    "    # Use as many lines of code as you need!\n",
    "    ohe = OneHotEncoder(handle_unknown=\"ignore\", sparse=False)\n",
    "    \n",
    "    OH_X_train_cols = pd.DataFrame(ohe.fit_transform(X_train[low_cardinality_cols]))\n",
    "    OH_X_valid_cols = pd.DataFrame(ohe.transform(X_val[low_cardinality_cols]))\n",
    "    \n",
    "    OH_X_train_cols.index = X_train.index\n",
    "    OH_X_valid_cols.index = X_val.index\n",
    "    \n",
    "    X_train_num_cols = X_train.drop(low_cardinality_cols, axis = 1)\n",
    "    X_valid_num_cols = X_val.drop(low_cardinality_cols, axis = 1)\n",
    "    \n",
    "    OH_X_train = pd.concat([OH_X_train_cols, X_train_num_cols], axis = 1) # Your code here\n",
    "    OH_X_valid = pd.concat([OH_X_valid_cols, X_valid_num_cols], axis = 1) # Your code here\n",
    "    \n",
    "    OH_X_train.columns = OH_X_train.columns.astype(str)\n",
    "    OH_X_valid.columns = OH_X_valid.columns.astype(str)\n",
    "\n",
    "    return OH_X_train.copy(), OH_X_valid.copy()"
   ]
  },
  {
   "cell_type": "code",
   "execution_count": null,
   "id": "9c68942c-dd78-4276-9d17-533764328be3",
   "metadata": {},
   "outputs": [],
   "source": [
    "X_train, X_val = one_hot_encode(X_train, X_val, [\"request_weekday\",\n",
    "                                                      'request_hour', 'request_date'])"
   ]
  },
  {
   "cell_type": "code",
   "execution_count": null,
   "id": "c5a8e289-562d-44b9-9048-28444d8e0e6d",
   "metadata": {},
   "outputs": [],
   "source": [
    "X_train.info()"
   ]
  },
  {
   "cell_type": "code",
   "execution_count": null,
   "id": "eca65747-fa93-46db-9f74-783eda490444",
   "metadata": {},
   "outputs": [],
   "source": [
    "X_val.head()"
   ]
  },
  {
   "cell_type": "code",
   "execution_count": null,
   "id": "f048f268-d180-4253-a310-638a3c10b297",
   "metadata": {},
   "outputs": [],
   "source": [
    "data = dummies_encode(data.copy(), ['request_weekday'])"
   ]
  },
  {
   "cell_type": "markdown",
   "id": "dcb8d56a-b564-4e1f-a598-3d186fc86c67",
   "metadata": {},
   "source": [
    "## Investigate Newly Extracted Features from Date Column Distribution"
   ]
  },
  {
   "cell_type": "code",
   "execution_count": null,
   "id": "4a161a8e-ca6b-4691-8eed-29930335a9c7",
   "metadata": {},
   "outputs": [],
   "source": [
    "# Datetime features\n",
    "plt.figure(figsize=(22, 6))\n",
    "# Hour of day\n",
    "plt.subplot(221)\n",
    "sns.countplot(data, x='request_hour')\n",
    "plt.xlabel('Hour of Day')\n",
    "plt.ylabel('Total number of requests')\n",
    "plt.title('Hourly Variation of Total number of requests')\n",
    "\n",
    "# Date\n",
    "plt.subplot(223)\n",
    "sns.countplot(data, x='request_date')\n",
    "plt.xlabel('Date')\n",
    "plt.ylabel('Total number of requests')\n",
    "plt.title('Daily Variation of Total number of requests')\n",
    "\n",
    "# # Day of week\n",
    "plt.subplot(222)\n",
    "sns.countplot(data, x='request_weekday',  order = ['Saturday', 'Sunday', 'Monday', 'Tuesday', 'Wednesday', \n",
    "                                                       'Thursday', 'Friday'])\n",
    "plt.xlabel('Week Day')\n",
    "plt.ylabel('Total Number of requests')\n",
    "plt.title('Weekly Variation of Total number of requests')\n",
    "\n",
    "# # # Month\n",
    "# plt.subplot(224)\n",
    "# sns.countplot(data, x='request_month')\n",
    "# plt.xlabel('Month')\n",
    "# plt.ylabel('Total number of requests')\n",
    "# plt.title('Monthly Variation of Total number of requests');"
   ]
  },
  {
   "cell_type": "markdown",
   "id": "d8052cef-350c-4bbf-9f6f-cc34912da486",
   "metadata": {},
   "source": [
    "## Investigate different Price Columns Duplication"
   ]
  },
  {
   "cell_type": "code",
   "execution_count": null,
   "id": "d9fa1278-8a13-4384-adc2-d59f289636df",
   "metadata": {},
   "outputs": [],
   "source": [
    "sum(data['final_price'] == data['second_destination_final_price'])"
   ]
  },
  {
   "cell_type": "code",
   "execution_count": null,
   "id": "7d6777d1-2d0e-4fbd-9f5c-166cd987c5a0",
   "metadata": {},
   "outputs": [],
   "source": [
    "sum(data['final_price'] == data['round_ride_final_price'])"
   ]
  },
  {
   "cell_type": "code",
   "execution_count": null,
   "id": "cea2eda0-462c-4c6b-ad8b-70b03bdd175b",
   "metadata": {},
   "outputs": [],
   "source": [
    "sum(data['second_destination_final_price'] == data['round_ride_final_price'])"
   ]
  },
  {
   "cell_type": "markdown",
   "id": "b7f0121c-59f3-4e07-9321-c2d2555da0e4",
   "metadata": {},
   "source": [
    "## Investigate Numerical Columns Variance and Skewness"
   ]
  },
  {
   "cell_type": "code",
   "execution_count": null,
   "id": "f34b0067-b681-42f0-afec-215cf4fd64d5",
   "metadata": {},
   "outputs": [],
   "source": [
    "data[num_cols].var()"
   ]
  },
  {
   "cell_type": "code",
   "execution_count": null,
   "id": "31427d8f-0849-4dd6-9485-a9f9e995a16c",
   "metadata": {},
   "outputs": [],
   "source": [
    "data[num_cols].skew()"
   ]
  },
  {
   "cell_type": "code",
   "execution_count": null,
   "id": "dd5129a3-1922-498e-9887-54d0c42225dd",
   "metadata": {},
   "outputs": [],
   "source": [
    "data[num_cols].columns"
   ]
  },
  {
   "cell_type": "code",
   "execution_count": null,
   "id": "75357148-8a1d-4527-ba6b-8d70c9ffe55c",
   "metadata": {},
   "outputs": [],
   "source": [
    "import pandas as pd\n",
    "import matplotlib.pyplot as plt\n",
    "\n",
    "# Sample data with some skewed features\n",
    "\n",
    "\n",
    "# Plotting histograms\n",
    "data.hist(figsize=(10, 6))\n",
    "plt.suptitle(\"Distribution of features\")\n",
    "plt.xlabel(\"Feature value\")\n",
    "plt.ylabel(\"Number of samples\")\n",
    "plt.xticks(rotation=45)  # Rotate x-axis labels for better readability\n",
    "plt.tight_layout()\n",
    "plt.show()"
   ]
  },
  {
   "cell_type": "code",
   "execution_count": null,
   "id": "82fca885-8f7d-4134-9923-0d8f2c3c7add",
   "metadata": {},
   "outputs": [],
   "source": [
    "data[\"price_per_meter\"].value_counts()"
   ]
  },
  {
   "cell_type": "code",
   "execution_count": null,
   "id": "73ed53d7-7b96-47e4-b528-387335627361",
   "metadata": {},
   "outputs": [],
   "source": [
    "data[\"price_per_meter\"].hist(figsize=(10, 6))\n",
    "plt.suptitle(\"Distribution of features\")\n",
    "plt.xlabel(\"Feature value\")\n",
    "plt.ylabel(\"Number of samples\")\n",
    "plt.xticks(rotation=45)  # Rotate x-axis labels for better readability\n",
    "plt.tight_layout()\n",
    "plt.show()"
   ]
  },
  {
   "cell_type": "code",
   "execution_count": null,
   "id": "1dc2147d-e859-4ec2-8bd7-986236e94bbf",
   "metadata": {},
   "outputs": [],
   "source": [
    "# Plotting boxplots (optional)\n",
    "data.plot(kind=\"box\", figsize=(12, 6))\n",
    "plt.suptitle(\"Boxplots of features\")\n",
    "plt.tight_layout()\n",
    "plt.show()"
   ]
  },
  {
   "cell_type": "markdown",
   "id": "2d79315d-4a28-4c2e-b661-45c5074d0ba2",
   "metadata": {},
   "source": [
    "## Resolving the Skewness of Positively-skewed Features"
   ]
  },
  {
   "cell_type": "code",
   "execution_count": null,
   "id": "6d3db18e-b2e4-42c5-822b-6c7f53721f5c",
   "metadata": {},
   "outputs": [],
   "source": [
    "tmp_data = data.copy()\n",
    "\n",
    "skewed_cols = ['approximate_distance_meter', 'final_price', 'second_destination_final_price',\n",
    "                                                           'round_ride_final_price','final_price', 'second_destination_final_price',\n",
    "                                                           'round_ride_final_price', 'days_since_passenger_first_ride', 'days_since_passenger_first_request']\n",
    "# for skewed_col in skewed_cols:\n",
    "#     tmp_data[skewed_col] = np.sqrt(tmp_data[skewed_col])\n",
    "\n",
    "from scipy import stats\n",
    "\n",
    "transformed_data = {}\n",
    "for col in skewed_cols:\n",
    "    # Find the optimal lambda for Box-Cox transformation\n",
    "    # tmp_data[col] = tmp_data[col].map(lambda x: x if x > 0 else 0.0001)  # Filter positive values (creates a DataFrame)\n",
    "    \n",
    "    # tmp_data[col] , _ = stats.boxcox(tmp_data[col])\n",
    "\n",
    "    # # Apply the transformation with the optimal lambda\n",
    "    # if bcx_lambda == 0:\n",
    "    epsilon = 1e-8  # A small positive value\n",
    "    tmp_data[col] = np.log1p(tmp_data[col] + epsilon)  # Handle lambda of 0 (log transformation)\n",
    "    # else:\n",
    "    #     tmp_data[col] = stats.boxcox(tmp_data[col], lmbda=bcx_lambda)[0]\n",
    "\n",
    "# Replace the original data with transformed data (optional)\n",
    "# tmp_data[skewed_cols] = pd.DataFrame(np.log1p(tmp_data[skewed_cols]))\n",
    "\n",
    "tmp_data[num_cols].skew()"
   ]
  },
  {
   "cell_type": "code",
   "execution_count": null,
   "id": "8c2ff67a-1c55-43a9-82e4-29a46ac34804",
   "metadata": {},
   "outputs": [],
   "source": [
    "tmp_data['approximate_distance_meter'].unique()"
   ]
  },
  {
   "cell_type": "code",
   "execution_count": null,
   "id": "c9b9a891-fa10-431a-bdf2-1e0d600e62d5",
   "metadata": {},
   "outputs": [],
   "source": [
    "data['days_since_passenger_first_ride'].value_counts()"
   ]
  },
  {
   "cell_type": "code",
   "execution_count": null,
   "id": "63e6251d-8373-42be-9055-bec5506a6120",
   "metadata": {},
   "outputs": [],
   "source": [
    "data['days_since_passenger_first_request'].value_counts()"
   ]
  },
  {
   "cell_type": "code",
   "execution_count": null,
   "id": "67bac377-ae48-414d-88fd-080495e79927",
   "metadata": {},
   "outputs": [],
   "source": [
    "plt.figure(figsize=(22, 6))\n",
    "#fig, axs = plt.subplot(ncols=2)\n",
    "\n",
    "# Passenger Count\n",
    "plt.subplot(121)\n",
    "sns.distplot(data['days_since_passenger_first_ride'])\n",
    "plt.xlabel('Days Since Passenger First Ride')\n",
    "plt.ylabel('Frequency')\n",
    "plt.title('Frequency Distribution of Days Since Passenger First Ride')\n",
    "\n",
    "plt.subplot(122)\n",
    "sns.boxplot(data['days_since_passenger_first_ride'], color = 'cyan', showmeans=True, \n",
    "           meanprops={\"marker\":\"o\", \"markerfacecolor\":\"Red\", \n",
    "                      \"markeredgecolor\":\"black\",\"markersize\":\"10\"}\n",
    ")\n",
    "plt.xlabel('Days Since Passenger First Ride')\n",
    "plt.title('Box plot of Days Since Passenger First Ride');"
   ]
  },
  {
   "cell_type": "code",
   "execution_count": null,
   "id": "605eaec8-2aec-470f-bdcf-20684718ba8b",
   "metadata": {},
   "outputs": [],
   "source": [
    "plt.figure(figsize=(22, 6))\n",
    "#fig, axs = plt.subplot(ncols=2)\n",
    "\n",
    "# Passenger Count\n",
    "plt.subplot(121)\n",
    "sns.distplot(data['days_since_passenger_first_request'])\n",
    "plt.xlabel('Days Since Passenger First Request')\n",
    "plt.ylabel('Frequency')\n",
    "plt.title('Frequency Distribution of Days Since Passenger First Request')\n",
    "\n",
    "plt.subplot(122)\n",
    "sns.boxplot(data['days_since_passenger_first_request'], color = 'cyan', showmeans=True, \n",
    "           meanprops={\"marker\":\"o\", \"markerfacecolor\":\"Red\", \n",
    "                      \"markeredgecolor\":\"black\",\"markersize\":\"10\"}\n",
    ")\n",
    "plt.xlabel('Days Since Passenger First Request')\n",
    "plt.title('Box plot of Days Since Passenger First Request');"
   ]
  },
  {
   "cell_type": "code",
   "execution_count": null,
   "id": "e940e3c9-df61-4f1f-a24e-7ca7076497d3",
   "metadata": {},
   "outputs": [],
   "source": [
    "plt.figure(figsize=(15, 6))\n",
    "sns.boxplot(x = data['target'],\n",
    "           y = data['final_price'], palette = 'rainbow', showmeans=True, \n",
    "            meanprops={\"marker\":\"o\", \"markerfacecolor\":\"Red\", \"markeredgecolor\":\"black\",\n",
    "                       \"markersize\":\"10\"}\n",
    ")\n",
    "plt.xlabel('Request to Ride Conversion')\n",
    "plt.title (\"Final Price vs Request to Ride Conversion\");"
   ]
  },
  {
   "cell_type": "code",
   "execution_count": null,
   "id": "1b464a70-98f0-4ae9-97a8-9a6928c66c66",
   "metadata": {},
   "outputs": [],
   "source": [
    "plt.figure(figsize=(15, 6))\n",
    "sns.boxplot(x = data['target'],\n",
    "           y = data['round_ride_final_price'], palette = 'rainbow', showmeans=True, \n",
    "            meanprops={\"marker\":\"o\", \"markerfacecolor\":\"Red\", \"markeredgecolor\":\"black\",\n",
    "                       \"markersize\":\"10\"}\n",
    ")\n",
    "plt.xlabel('Request to Ride Conversion')\n",
    "plt.title (\"Round Ride Final Price vs Request to Ride Conversion\");"
   ]
  },
  {
   "cell_type": "code",
   "execution_count": null,
   "id": "72fa3301-724f-474a-9bd3-348d1af8de5b",
   "metadata": {},
   "outputs": [],
   "source": [
    "plt.figure(figsize=(15, 6))\n",
    "sns.boxplot(x = data['target'],\n",
    "           y = data['second_destination_final_price'], palette = 'rainbow', showmeans=True, \n",
    "            meanprops={\"marker\":\"o\", \"markerfacecolor\":\"Red\", \"markeredgecolor\":\"black\",\n",
    "                       \"markersize\":\"10\"}\n",
    ")\n",
    "plt.xlabel('Request to Ride Conversion')\n",
    "plt.title (\"Second Destination Final Price vs Request to Ride Conversion\");"
   ]
  },
  {
   "cell_type": "code",
   "execution_count": null,
   "id": "6cff0074-56a3-47f0-a656-d9d2c71b2bd5",
   "metadata": {},
   "outputs": [],
   "source": [
    "# Datetime features\n",
    "plt.figure(figsize=(22, 8))\n",
    "\n",
    "# Hour of day\n",
    "plt.subplot(221)\n",
    "sns.barplot(x=data['request_hour'], y = data['approximate_distance_meter'], palette = 'tab20')\n",
    "plt.xlabel('Hour of Day')\n",
    "plt.ylabel('Distance in Km')\n",
    "plt.title (\"Distance in Km vs Hour of Day\")\n",
    "\n",
    "\n",
    "# Date\n",
    "plt.subplot(223)\n",
    "sns.barplot(x = data['request_date'], y = data['approximate_distance_meter'], palette = 'tab20')\n",
    "plt.xlabel('Date')\n",
    "plt.ylabel('Distance in Km')\n",
    "plt.title (\"Distance in Km vs Date\")\n",
    "\n",
    "# Day of week\n",
    "plt.subplot(224)\n",
    "sns.barplot(x = data['request_weekday'], order = ['Saturday', 'Sunday', 'Monday', 'Tuesday', 'Wednesday', \n",
    "                                           'Thursday', 'Friday'],\n",
    "           y = data['approximate_distance_meter'], palette = 'tab10')\n",
    "plt.xlabel('Days of week')\n",
    "plt.ylabel('Distance in Km')\n",
    "plt.title (\"Distance in Km vs Days of week\")\n",
    "plt.tight_layout();\n"
   ]
  },
  {
   "cell_type": "code",
   "execution_count": null,
   "id": "6f9141d5-e10d-4783-afb4-c80419f11619",
   "metadata": {},
   "outputs": [],
   "source": [
    "# Datetime features\n",
    "plt.figure(figsize=(22, 8))\n",
    "\n",
    "# Hour of day\n",
    "plt.subplot(221)\n",
    "sns.barplot(x=data['request_hour'], y = data['final_price'], palette = 'tab20')\n",
    "plt.xlabel('Hour of Day')\n",
    "plt.ylabel('Final Price')\n",
    "plt.title (\"Final Price vs Hour of Day\")\n",
    "\n",
    "# Date\n",
    "plt.subplot(223)\n",
    "sns.barplot(x = data['request_date'], y = data['final_price'], palette = 'tab20')\n",
    "plt.xlabel('Date')\n",
    "plt.ylabel('Final Price')\n",
    "plt.title (\"Final Price vs Date\")\n",
    "\n",
    "# Day of week\n",
    "plt.subplot(224)\n",
    "sns.barplot(x = data['request_weekday'], order = ['Saturday', 'Sunday', 'Monday', 'Tuesday', 'Wednesday', \n",
    "                                           'Thursday', 'Friday'],\n",
    "           y = data['final_price'], palette = 'tab10')\n",
    "plt.xlabel('Days of week')\n",
    "plt.ylabel('Final Price')\n",
    "plt.title (\"Final Price vs Days of week\")\n",
    "plt.tight_layout();"
   ]
  },
  {
   "cell_type": "code",
   "execution_count": null,
   "id": "65658d5c-026f-4ab4-a70a-b7e1a3ac75f4",
   "metadata": {},
   "outputs": [],
   "source": [
    "# Datetime features\n",
    "plt.figure(figsize=(22, 8))\n",
    "\n",
    "# Hour of day\n",
    "plt.subplot(221)\n",
    "sns.barplot(x=data['request_hour'], y = data['second_destination_final_price'], palette = 'tab20')\n",
    "plt.xlabel('Hour of Day')\n",
    "plt.ylabel('Second Destination Final Price')\n",
    "plt.title (\"Second Destination Final Price vs Hour of Day\")\n",
    "\n",
    "# Date\n",
    "plt.subplot(223)\n",
    "sns.barplot(x = data['request_date'], y = data['second_destination_final_price'], palette = 'tab20')\n",
    "plt.xlabel('Date')\n",
    "plt.ylabel('Second Destination Final Price')\n",
    "plt.title (\"Second Destination Final Price vs Date\")\n",
    "\n",
    "# Day of week\n",
    "plt.subplot(224)\n",
    "sns.barplot(x = data['request_weekday'], order = ['Saturday', 'Sunday', 'Monday', 'Tuesday', 'Wednesday', \n",
    "                                           'Thursday', 'Friday'],\n",
    "           y = data['second_destination_final_price'], palette = 'tab10')\n",
    "plt.xlabel('Days of week')\n",
    "plt.ylabel('Second Destination Final Price')\n",
    "plt.title (\"Second Destination Final Price vs Days of week\")\n",
    "plt.tight_layout();"
   ]
  },
  {
   "cell_type": "code",
   "execution_count": null,
   "id": "93630493-6226-4c41-82f8-e741180c3f4f",
   "metadata": {},
   "outputs": [],
   "source": [
    "# Datetime features\n",
    "plt.figure(figsize=(22, 8))\n",
    "\n",
    "# Hour of day\n",
    "plt.subplot(221)\n",
    "sns.barplot(x=data['request_hour'], y = data['round_ride_final_price'], palette = 'tab20')\n",
    "plt.xlabel('Hour of Day')\n",
    "plt.ylabel('Round Ride Final Price')\n",
    "plt.title (\"Round Ride Final Price vs Hour of Day\")\n",
    "\n",
    "# Date\n",
    "plt.subplot(223)\n",
    "sns.barplot(x = data['request_date'], y = data['round_ride_final_price'], palette = 'tab20')\n",
    "plt.xlabel('Date')\n",
    "plt.ylabel('Round Ride Final Price')\n",
    "plt.title (\"Round Ride Final Price vs Date\")\n",
    "\n",
    "# Day of week\n",
    "plt.subplot(224)\n",
    "sns.barplot(x = data['request_weekday'], order = ['Saturday', 'Sunday', 'Monday', 'Tuesday', 'Wednesday', \n",
    "                                           'Thursday', 'Friday'],\n",
    "           y = data['round_ride_final_price'], palette = 'tab10')\n",
    "plt.xlabel('Days of week')\n",
    "plt.ylabel('Round Ride Final Price')\n",
    "plt.title (\"Round Ride Final Price vs Days of week\")\n",
    "plt.tight_layout();"
   ]
  },
  {
   "cell_type": "code",
   "execution_count": null,
   "id": "ab0e1741-4b94-4f9b-8b00-a7957eec5f5b",
   "metadata": {},
   "outputs": [],
   "source": [
    "f, axes = plt.subplots(1, 2, figsize=(10, 10), sharex=False, sharey = False)\n",
    "sns.despine(left=True)\n",
    "sns.distplot(data['new_origin_latitude'].values, label = 'new_origin_latitude',color=\"b\",bins = 100, ax=axes[0])\n",
    "sns.distplot(data['new_origin_longitude'].values, label = 'new_origin_longitude',color=\"r\",bins =100, ax=axes[1])\n",
    "\n",
    "plt.setp(axes, yticks=[])\n",
    "plt.tight_layout()\n",
    "plt.show()"
   ]
  },
  {
   "cell_type": "code",
   "execution_count": null,
   "id": "80aa3a81-ad69-4b1b-ac79-d0e531610b22",
   "metadata": {},
   "outputs": [],
   "source": [
    "data = data.loc[(data.new_origin_latitude > 29.0) & (data.new_origin_latitude < 31.0)]\n",
    "data = data.loc[(data.new_origin_longitude > 60.0) & (data.new_origin_longitude < 62.0)]\n",
    "data_new = data.copy()\n",
    "sns.set(style=\"white\", palette=\"muted\", color_codes=True)\n",
    "f, axes = plt.subplots(1,2,figsize=(10, 10), sharex=False, sharey = False)#\n",
    "sns.despine(left=True)\n",
    "sns.distplot(data_new['new_origin_latitude'].values, label = 'new_origin_latitude',color=\"b\",bins = 100, ax=axes[0])\n",
    "sns.distplot(data_new['new_origin_longitude'].values, label = 'new_origin_longitude',color=\"r\",bins =100, ax=axes[1])\n",
    "plt.setp(axes, yticks=[])\n",
    "plt.tight_layout()\n",
    "\n",
    "plt.show()"
   ]
  },
  {
   "cell_type": "markdown",
   "id": "dddf32e4-a5f2-47d4-a2d2-57897670e1a9",
   "metadata": {},
   "source": [
    "## Scaling the Numerical Features"
   ]
  },
  {
   "cell_type": "code",
   "execution_count": null,
   "id": "f843af7e-a7fc-4c8f-b9b9-51c10991c84a",
   "metadata": {},
   "outputs": [],
   "source": [
    "uscaled_data = data.copy()"
   ]
  },
  {
   "cell_type": "code",
   "execution_count": null,
   "id": "8ca843d6-41ec-4dce-9326-1dccc4224bde",
   "metadata": {},
   "outputs": [],
   "source": [
    "uscaled_X_train = X_train.copy()\n",
    "uscaled_X_val = X_val.copy()"
   ]
  },
  {
   "cell_type": "code",
   "execution_count": null,
   "id": "e28c9cb2-92b8-4b7b-b363-823c23db16e4",
   "metadata": {},
   "outputs": [],
   "source": [
    "uscaled_X_train.columns"
   ]
  },
  {
   "cell_type": "code",
   "execution_count": null,
   "id": "42697976-3ef6-44cf-a278-b87020294f71",
   "metadata": {},
   "outputs": [],
   "source": [
    "print(\"Descriptive statistics:\")\n",
    "uscaled_X_train.describe().T"
   ]
  },
  {
   "cell_type": "code",
   "execution_count": null,
   "id": "c4b83824-9297-44ef-83b3-6014df5b26ec",
   "metadata": {},
   "outputs": [],
   "source": [
    "X_train, X_val = one_hot_encode(X_train, X_val, ['request_hour', 'request_date'])"
   ]
  },
  {
   "cell_type": "code",
   "execution_count": null,
   "id": "518b9ea7-52d9-4433-b1e2-b57083323e18",
   "metadata": {},
   "outputs": [],
   "source": [
    "X_train.info()"
   ]
  },
  {
   "cell_type": "code",
   "execution_count": null,
   "id": "a74ba8f2-58ca-4b6a-804d-f4558b53850b",
   "metadata": {},
   "outputs": [],
   "source": [
    "rob_scaler = RobustScaler()\n",
    "\n",
    "standardable_feats = [ 'approximate_distance_meter', 'final_price', 'second_destination_final_price', 'round_ride_final_price',\n",
    "                      'days_since_passenger_first_ride', 'days_since_passenger_first_request']\n",
    "\n",
    "for col_name in standardable_feats: \n",
    "    X_train[\"scaled_\"+col_name] = rob_scaler.fit_transform(X_train[col_name].values.reshape(-1,1))\n",
    "    X_val[\"scaled_\"+col_name] = rob_scaler.transform(X_val[col_name].values.reshape(-1,1))\n",
    "\n",
    "X_train.drop(standardable_feats, axis=1, inplace=True)\n",
    "X_val.drop(standardable_feats, axis=1, inplace=True)"
   ]
  },
  {
   "cell_type": "code",
   "execution_count": null,
   "id": "41dc398d-581e-4fee-93aa-0958c5ddbd91",
   "metadata": {},
   "outputs": [],
   "source": [
    "print(\"Descriptive statistics:\")\n",
    "X_train.info()"
   ]
  },
  {
   "cell_type": "code",
   "execution_count": null,
   "id": "9075170c-af9d-4760-a67c-6292645fa3b0",
   "metadata": {},
   "outputs": [],
   "source": [
    "X_train.drop([\"request_day\", \"request_datetime\"], axis=1, inplace=True)\n",
    "X_val.drop([\"request_day\", \"request_datetime\"], axis=1, inplace=True)"
   ]
  },
  {
   "cell_type": "code",
   "execution_count": null,
   "id": "4a0a7cfa-d5ef-4391-8d47-7dd94f638370",
   "metadata": {},
   "outputs": [],
   "source": [
    "print(\"Descriptive statistics:\")\n",
    "data.describe().T"
   ]
  },
  {
   "cell_type": "code",
   "execution_count": null,
   "id": "79779f5c-6d74-4da2-900a-2f24d1212ce3",
   "metadata": {},
   "outputs": [],
   "source": [
    "def convert_bool_to_int(df, boolean_features):\n",
    "  \"\"\"\n",
    "  Converts boolean features in a dataframe to integers (0 or 1).\n",
    "\n",
    "  Args:\n",
    "      df (pandas.DataFrame): The dataframe to convert.\n",
    "      boolean_features (list): A list of column names with boolean data.\n",
    "\n",
    "  Returns:\n",
    "      pandas.DataFrame: The dataframe with converted features.\n",
    "  \"\"\"\n",
    "  for feature in boolean_features:\n",
    "    df[feature] = df[feature].astype(int)\n",
    "  return df\n"
   ]
  },
  {
   "cell_type": "code",
   "execution_count": null,
   "id": "c3847481-e170-42fb-820a-a3038d34f293",
   "metadata": {},
   "outputs": [],
   "source": [
    "# Data conversion for booleans\n",
    "data = convert_bool_to_int(data, data.select_dtypes(\"bool\"))"
   ]
  },
  {
   "cell_type": "code",
   "execution_count": null,
   "id": "ee08bd22-100b-4012-ad96-86a41476fd4e",
   "metadata": {},
   "outputs": [],
   "source": [
    "# Label encoding for categoricals\n",
    "for colname in data.select_dtypes(\"object\"):\n",
    "    data[colname], _ = data[colname].factorize()\n",
    "\n",
    "# All discrete features should now have integer dtypes (double-check this before using MI!)\n",
    "discrete_features = data.dtypes == int"
   ]
  },
  {
   "cell_type": "markdown",
   "id": "16ed9911-ed26-4adf-807f-07eec311f3c8",
   "metadata": {},
   "source": [
    "## Applying Dimensionality Reduction to Verify whether or not the Data is Linearly Separable"
   ]
  },
  {
   "cell_type": "code",
   "execution_count": null,
   "id": "1de148a3-bb99-4950-afe6-5a3ae5c7031f",
   "metadata": {},
   "outputs": [],
   "source": [
    "tmp_data.head()"
   ]
  },
  {
   "cell_type": "code",
   "execution_count": null,
   "id": "3275e94f-35c2-48b6-b981-62368265877a",
   "metadata": {},
   "outputs": [],
   "source": [
    "# New_df is from the random undersample data (fewer instances)\n",
    "X = tmp_data.drop(['target', 'request_datetime', \n",
    "                    'passenger_unique_identifier'], axis=1)\n",
    "y = tmp_data['target']\n",
    "\n",
    "\n",
    "# T-SNE Implementation\n",
    "t0 = time.time()\n",
    "X_reduced_tsne = TSNE(n_components=2, random_state=42).fit_transform(X.values)\n",
    "t1 = time.time()\n",
    "print(\"T-SNE took {:.2} s\".format(t1 - t0))\n",
    "\n",
    "# PCA Implementation\n",
    "t0 = time.time()\n",
    "X_reduced_pca = PCA(n_components=2, random_state=42).fit_transform(X.values)\n",
    "t1 = time.time()\n",
    "print(\"PCA took {:.2} s\".format(t1 - t0))\n",
    "\n",
    "# TruncatedSVD\n",
    "t0 = time.time()\n",
    "X_reduced_svd = TruncatedSVD(n_components=2, algorithm='randomized', random_state=42).fit_transform(X.values)\n",
    "t1 = time.time()\n",
    "print(\"Truncated SVD took {:.2} s\".format(t1 - t0))"
   ]
  },
  {
   "cell_type": "code",
   "execution_count": null,
   "id": "c557d365-eb0c-4993-aefc-99abc28203b3",
   "metadata": {},
   "outputs": [],
   "source": [
    "f, (ax1, ax2, ax3) = plt.subplots(1, 3, figsize=(24,6))\n",
    "# labels = ['No Event', 'Event']\n",
    "f.suptitle('Clusters using Dimensionality Reduction', fontsize=14)\n",
    "\n",
    "\n",
    "blue_patch = mpatches.Patch(color='#0A0AFF', label='No Ride')\n",
    "red_patch = mpatches.Patch(color='#AF0000', label='Ride')\n",
    "\n",
    "\n",
    "# t-SNE scatter plot\n",
    "ax1.scatter(X_reduced_tsne[:,0], X_reduced_tsne[:,1], c=(y == 0), cmap='coolwarm', label='No Ride', linewidths=2)\n",
    "ax1.scatter(X_reduced_tsne[:,0], X_reduced_tsne[:,1], c=(y == 1), cmap='coolwarm', label='Ride', linewidths=2)\n",
    "ax1.set_title('t-SNE', fontsize=14)\n",
    "\n",
    "ax1.grid(True)\n",
    "\n",
    "ax1.legend(handles=[blue_patch, red_patch])\n",
    "\n",
    "\n",
    "# PCA scatter plot\n",
    "ax2.scatter(X_reduced_pca[:,0], X_reduced_pca[:,1], c=(y == 0), cmap='coolwarm', label='No Ride', linewidths=2)\n",
    "ax2.scatter(X_reduced_pca[:,0], X_reduced_pca[:,1], c=(y == 1), cmap='coolwarm', label='Ride', linewidths=2)\n",
    "ax2.set_title('PCA', fontsize=14)\n",
    "\n",
    "ax2.grid(True)\n",
    "\n",
    "ax2.legend(handles=[blue_patch, red_patch])\n",
    "\n",
    "# TruncatedSVD scatter plot\n",
    "ax3.scatter(X_reduced_svd[:,0], X_reduced_svd[:,1], c=(y == 0), cmap='coolwarm', label='No Ride', linewidths=2)\n",
    "ax3.scatter(X_reduced_svd[:,0], X_reduced_svd[:,1], c=(y == 1), cmap='coolwarm', label='Ride', linewidths=2)\n",
    "ax3.set_title('Truncated SVD', fontsize=14)\n",
    "\n",
    "ax3.grid(True)\n",
    "\n",
    "ax3.legend(handles=[blue_patch, red_patch])\n",
    "\n",
    "plt.show()"
   ]
  },
  {
   "cell_type": "code",
   "execution_count": null,
   "id": "faf2fb05-cbde-472b-b3b4-b846efa838be",
   "metadata": {},
   "outputs": [],
   "source": [
    "# New_df is from the random undersample data (fewer instances)\n",
    "X = data.drop(['target', 'request_datetime', \n",
    "                    'passenger_unique_identifier'], axis=1)\n",
    "y = data['target']\n",
    "\n",
    "\n",
    "# T-SNE Implementation\n",
    "t0 = time.time()\n",
    "X_reduced_tsne = TSNE(n_components=2, random_state=42).fit_transform(X.values)\n",
    "t1 = time.time()\n",
    "print(\"T-SNE took {:.2} s\".format(t1 - t0))\n",
    "\n",
    "# PCA Implementation\n",
    "t0 = time.time()\n",
    "X_reduced_pca = PCA(n_components=2, random_state=42).fit_transform(X.values)\n",
    "t1 = time.time()\n",
    "print(\"PCA took {:.2} s\".format(t1 - t0))\n",
    "\n",
    "# TruncatedSVD\n",
    "t0 = time.time()\n",
    "X_reduced_svd = TruncatedSVD(n_components=2, algorithm='randomized', random_state=42).fit_transform(X.values)\n",
    "t1 = time.time()\n",
    "print(\"Truncated SVD took {:.2} s\".format(t1 - t0))"
   ]
  },
  {
   "cell_type": "code",
   "execution_count": null,
   "id": "9253ec0e-b7e7-4d2b-836f-2ee9c39d78fe",
   "metadata": {},
   "outputs": [],
   "source": [
    "f, (ax1, ax2, ax3) = plt.subplots(1, 3, figsize=(24,6))\n",
    "# labels = ['No Event', 'Event']\n",
    "f.suptitle('Clusters using Dimensionality Reduction', fontsize=14)\n",
    "\n",
    "\n",
    "blue_patch = mpatches.Patch(color='#0A0AFF', label='No Ride')\n",
    "red_patch = mpatches.Patch(color='#AF0000', label='Ride')\n",
    "\n",
    "\n",
    "# t-SNE scatter plot\n",
    "ax1.scatter(X_reduced_tsne[:,0], X_reduced_tsne[:,1], c=(y == 0), cmap='coolwarm', label='No Ride', linewidths=2)\n",
    "ax1.scatter(X_reduced_tsne[:,0], X_reduced_tsne[:,1], c=(y == 1), cmap='coolwarm', label='Ride', linewidths=2)\n",
    "ax1.set_title('t-SNE', fontsize=14)\n",
    "\n",
    "ax1.grid(True)\n",
    "\n",
    "ax1.legend(handles=[blue_patch, red_patch])\n",
    "\n",
    "\n",
    "# PCA scatter plot\n",
    "ax2.scatter(X_reduced_pca[:,0], X_reduced_pca[:,1], c=(y == 0), cmap='coolwarm', label='No Ride', linewidths=2)\n",
    "ax2.scatter(X_reduced_pca[:,0], X_reduced_pca[:,1], c=(y == 1), cmap='coolwarm', label='Ride', linewidths=2)\n",
    "ax2.set_title('PCA', fontsize=14)\n",
    "\n",
    "ax2.grid(True)\n",
    "\n",
    "ax2.legend(handles=[blue_patch, red_patch])\n",
    "\n",
    "# TruncatedSVD scatter plot\n",
    "ax3.scatter(X_reduced_svd[:,0], X_reduced_svd[:,1], c=(y == 0), cmap='coolwarm', label='No Ride', linewidths=2)\n",
    "ax3.scatter(X_reduced_svd[:,0], X_reduced_svd[:,1], c=(y == 1), cmap='coolwarm', label='Ride', linewidths=2)\n",
    "ax3.set_title('Truncated SVD', fontsize=14)\n",
    "\n",
    "ax3.grid(True)\n",
    "\n",
    "ax3.legend(handles=[blue_patch, red_patch])\n",
    "\n",
    "plt.show()"
   ]
  },
  {
   "cell_type": "markdown",
   "id": "f3b609de-ce81-478b-9ec1-782d95b9a105",
   "metadata": {},
   "source": [
    "## Fitting Models on Imbalanced Data"
   ]
  },
  {
   "cell_type": "code",
   "execution_count": null,
   "id": "a71013f1-7e41-4bd7-89c5-f5e274723f4a",
   "metadata": {},
   "outputs": [],
   "source": [
    "def modelfit(alg, xtrain, ytrain, X_val, y_val, useTrainCV=True, cv_folds=5, early_stopping_rounds=50):\n",
    "\n",
    "    if useTrainCV:\n",
    "        xgb_param = alg.get_xgb_params()\n",
    "        xgtrain = xgb.DMatrix(xtrain, label=ytrain)\n",
    "        cvresult = xgb.cv(xgb_param, xgtrain, num_boost_round=alg.get_params()['n_estimators'], nfold=cv_folds,\n",
    "            metrics='auc', early_stopping_rounds=early_stopping_rounds, verbose_eval=False)\n",
    "        alg.set_params(n_estimators=cvresult.shape[0])\n",
    "\n",
    "    #Fit the algorithm on the data\n",
    "    # alg.fit(xtrain, ytrain,eval_metric='auc')\n",
    "    alg.fit(xtrain, ytrain)\n",
    "\n",
    "    #Predict training set:\n",
    "    dtrain_predictions = alg.predict(xtrain)\n",
    "    dtrain_predprob = alg.predict_proba(xtrain)[:,1]\n",
    "\n",
    "    #Predict training set:\n",
    "    dvalid_predictions = alg.predict(X_val)\n",
    "    dvalid_predprob = alg.predict_proba(X_val)[:,1]\n",
    "\n",
    "    def report_generate(ytrain, dtrain_predictions, dtrain_predprob, split_type):\n",
    "        #Print model report:\n",
    "        print(\"\\nModel Report on \"+split_type)\n",
    "        print(\"Accuracy : %.4g\" % accuracy_score(ytrain, dtrain_predictions))\n",
    "        print(\"F1 Score : %.4g\" % f1_score(ytrain, dtrain_predictions))\n",
    "        print(\"Precision Score : %.4g\" % precision_score(ytrain, dtrain_predictions))\n",
    "        print(\"Recall Score : %.4g\" % recall_score(ytrain, dtrain_predictions))\n",
    "        print(\"ROC AUC Score (Train): %f\" % roc_auc_score(ytrain, dtrain_predprob))\n",
    "\n",
    "    report_generate(ytrain, dtrain_predictions, dtrain_predprob, \"Training Data\")\n",
    "    report_generate(y_val, dvalid_predictions, dvalid_predprob, \"Validation Data\")\n",
    "\n",
    "    feat_imp = pd.Series(alg.get_booster().get_fscore()).sort_values(ascending=False)\n",
    "    feat_imp.plot(kind='bar', title='Feature Importances')\n",
    "    plt.ylabel('Feature Importance Score')"
   ]
  },
  {
   "cell_type": "code",
   "execution_count": null,
   "id": "6729f94e-f1e9-491c-9c5a-c8340c8a319a",
   "metadata": {},
   "outputs": [],
   "source": [
    "xgb1 = XGBClassifier(\n",
    " learning_rate =0.1,\n",
    " n_estimators=1000,\n",
    " max_depth=5,\n",
    " min_child_weight=1,\n",
    " gamma=0,\n",
    " subsample=0.8,\n",
    " colsample_bytree=0.8,\n",
    " objective= 'binary:logistic',\n",
    " nthread=4,\n",
    " scale_pos_weight=1,\n",
    " seed=27)\n",
    "# New_df is from the random undersample data (fewer instances)\n",
    "# , 'request_datetime', \n",
    "#                     'passenger_unique_identifier', 'driver_unique_identifier'\n",
    "# X_train = data.drop(['target','request_datetime'], axis=1)\n",
    "# y_train = data['target']\n",
    "\n",
    "modelfit(xgb1, X_train.to_numpy(), y_train, X_val.to_numpy(), y_val)"
   ]
  },
  {
   "cell_type": "code",
   "execution_count": null,
   "id": "c4f50b8b-234b-4026-879c-35da8d80c952",
   "metadata": {},
   "outputs": [],
   "source": [
    "xgb1 = XGBClassifier(\n",
    " learning_rate =0.1,\n",
    " n_estimators=1000,\n",
    " max_depth=5,\n",
    " min_child_weight=1,\n",
    " gamma=0,\n",
    " subsample=0.8,\n",
    " colsample_bytree=0.8,\n",
    " objective= 'binary:logistic',\n",
    " nthread=4,\n",
    " scale_pos_weight=1,\n",
    " seed=27)\n",
    "# New_df is from the random undersample data (fewer instances)\n",
    "# , 'request_datetime', \n",
    "#                     'passenger_unique_identifier', 'driver_unique_identifier'\n",
    "# X_train = data.drop(['target','request_datetime','passenger_unique_identifier', 'driver_unique_identifier'], axis=1)\n",
    "# y_train = data['target']\n",
    "\n",
    "X_train_new = X_train.drop(['passenger_unique_identifier'], axis=1)\n",
    "X_val_new = X_val.drop(['passenger_unique_identifier'], axis=1)\n",
    "\n",
    "modelfit(xgb1, X_train_new.to_numpy(), y_train, X_val_new.to_numpy(), y_val)"
   ]
  },
  {
   "cell_type": "code",
   "execution_count": null,
   "id": "5533a92d-da88-418c-a75c-2c236c0d1739",
   "metadata": {},
   "outputs": [],
   "source": [
    "# USING UNSCALED DATA\n",
    "xgb1 = XGBClassifier(\n",
    " learning_rate =0.1,\n",
    " n_estimators=1000,\n",
    " max_depth=5,\n",
    " min_child_weight=1,\n",
    " gamma=0,\n",
    " subsample=0.8,\n",
    " colsample_bytree=0.8,\n",
    " objective= 'binary:logistic',\n",
    " nthread=4,\n",
    " scale_pos_weight=1,\n",
    " seed=27)\n",
    "# New_df is from the random undersample data (fewer instances)\n",
    "# , 'request_datetime', \n",
    "#                     'passenger_unique_identifier', 'driver_unique_identifier'\n",
    "\n",
    "# temp_unscaled_data = uscaled_data.copy()\n",
    "\n",
    "# # Label encoding for categoricals\n",
    "# for colname in temp_unscaled_data.select_dtypes(\"object\"):\n",
    "#     temp_unscaled_data[colname], _ = temp_unscaled_data[colname].factorize()\n",
    "\n",
    "# # All discrete features should now have integer dtypes (double-check this before using MI!)\n",
    "# discrete_features = temp_unscaled_data.dtypes == int\n",
    "# X_train = temp_unscaled_data.drop(['target','request_datetime'], axis=1)\n",
    "# y_train = temp_unscaled_data['target']\n",
    "\n",
    "# uscaled_X_train = uscaled_X_train.drop(['request_datetime'], axis=1)\n",
    "# uscaled_X_val = uscaled_X_val.drop(['request_datetime'], axis=1)\n",
    "\n",
    "modelfit(xgb1, uscaled_X_train.to_numpy(), y_train, uscaled_X_val.to_numpy(), y_val)"
   ]
  },
  {
   "cell_type": "code",
   "execution_count": null,
   "id": "f17ed9e6-ca2c-40bb-8b8a-4f5c19fc9c37",
   "metadata": {},
   "outputs": [],
   "source": [
    "# imbalanced_data = data.copy()\n",
    "\n",
    "# # Label encoding for categoricals\n",
    "# for colname in imbalanced_data.select_dtypes(\"object\"):\n",
    "#     imbalanced_data[colname], _ = imbalanced_data[colname].factorize()\n",
    "\n",
    "# imbalanced_X = imbalanced_data.drop(['target', 'request_datetime'], axis=1)\n",
    "# imbalanced_y = imbalanced_data['target']\n",
    "\n",
    "# X_train, X_test, y_train, y_test = train_test_split(imbalanced_X, imbalanced_y, stratify = imbalanced_y, test_size=.25, random_state =123)\n",
    "\n",
    "clf = LazyClassifier(verbose=0,ignore_warnings=True, custom_metric=None)\n",
    "models,predictions = clf.fit(X_train.to_numpy(), X_val.to_numpy(), y_train, y_val)\n",
    "\n",
    "print(models)"
   ]
  },
  {
   "cell_type": "markdown",
   "id": "992f6748-d55a-4efb-a282-b80cd05b821c",
   "metadata": {},
   "source": [
    "## Use Undersampling to Deal with Imbalanced Dataset"
   ]
  },
  {
   "cell_type": "code",
   "execution_count": null,
   "id": "7007c784-bc59-4804-ac80-7f3771b0e2a5",
   "metadata": {},
   "outputs": [],
   "source": [
    "# xgb1 = XGBClassifier(\n",
    "#  learning_rate =0.1,\n",
    "#  n_estimators=1000,\n",
    "#  max_depth=5,\n",
    "#  min_child_weight=1,\n",
    "#  gamma=0,\n",
    "#  subsample=0.8,\n",
    "#  colsample_bytree=0.8,\n",
    "#  objective= 'binary:logistic',\n",
    "#  nthread=4,\n",
    "#  scale_pos_weight=1,\n",
    "#  seed=27)\n",
    "\n",
    "# We will undersample during cross validating\n",
    "sss = StratifiedKFold(n_splits=5, random_state=10, shuffle=True)\n",
    "\n",
    "# undersampled_data = data.copy()\n",
    "undersampled_X_train = X_train.copy()\n",
    "undersampled_X_val = X_val.copy()\n",
    "\n",
    "# Label encoding for categoricals\n",
    "# for colname in undersampled_data.select_dtypes(\"object\"):\n",
    "#     undersampled_data[colname], _ = undersampled_data[colname].factorize()\n",
    "\n",
    "# undersample_X = undersampled_data.drop(['target', 'request_datetime'], axis=1)\n",
    "# undersample_y = undersampled_data['target']\n",
    "\n",
    "# for train_index, test_index in sss.split(undersample_X, undersample_y):\n",
    "#     print(\"Train:\", train_index, \"Test:\", test_index)\n",
    "#     undersample_Xtrain, undersample_Xtest = undersample_X.iloc[train_index], undersample_X.iloc[test_index]\n",
    "#     undersample_ytrain, undersample_ytest = undersample_y.iloc[train_index], undersample_y.iloc[test_index]\n",
    "\n",
    "undersampled_X_train = undersampled_X_train.values\n",
    "undersampled_X_val = undersampled_X_val.values\n",
    "undersample_y_train = y_train.values\n",
    "undersample_y_val = y_val.values\n",
    "\n",
    "undersample_accuracy = []\n",
    "undersample_precision = []\n",
    "undersample_recall = []\n",
    "undersample_f1 = []\n",
    "undersample_auc = []\n",
    "\n",
    "undersample_val_accuracy = []\n",
    "undersample_val_precision = []\n",
    "undersample_val_recall = []\n",
    "undersample_val_f1 = []\n",
    "undersample_val_auc = []\n",
    "\n",
    "xgb_params = {\n",
    " 'learning_rate' :[1e-3, 1e-2, 0.1, 0.2, 0.3],\n",
    " 'n_estimators' : [10, 100, 1000, 10000],\n",
    " 'max_depth':range(3,10,2),\n",
    " 'min_child_weight':range(1,6,2),\n",
    " 'gamma':[i/10.0 for i in range(0,5)],\n",
    " 'subsample':[i/10.0 for i in range(6,10)],\n",
    " 'colsample_bytree':[i/10.0 for i in range(6,10)],\n",
    " 'reg_alpha':[1e-5, 1e-2, 0.1, 1, 100],\n",
    " 'reg_lambda':[1e-5, 1e-2, 0.1, 1, 100]      \n",
    " }\n",
    "\n",
    "rand_xgb = RandomizedSearchCV(XGBClassifier(objective= 'binary:logistic'), xgb_params, n_iter=4)\n",
    "\n",
    "# Implementing NearMiss Technique\n",
    "# Distribution of NearMiss (Just to see how it distributes the labels we won't use these variables)\n",
    "# X_nearmiss, y_nearmiss = NearMiss().fit_resample(undersample_X.values, undersample_y.values)\n",
    "# print('NearMiss Label Distribution: {}'.format(Counter(y_nearmiss)))\n",
    "# Cross Validating the right way\n",
    "\n",
    "for train, test in sss.split(undersampled_X_train, undersample_y_train):\n",
    "    # undersample_pipeline = imbalanced_make_pipeline(NearMiss(sampling_strategy='majority'), XGBClassifier(objective= 'binary:logistic')) # SMOTE happens during Cross Validation not before..\n",
    "    # undersample_model = undersample_pipeline.fit(undersample_X[train], undersample_y[train])\n",
    "    # undersample_prediction = undersample_model.predict(undersample_X[test])\n",
    "\n",
    "    undersample_pipeline = imbalanced_make_pipeline(NearMiss(sampling_strategy='majority'), rand_xgb) # SMOTE happens during Cross Validation not before..\n",
    "    undersample_model = undersample_pipeline.fit(undersampled_X_train[train], undersample_y_train[train])\n",
    "    best_est = rand_xgb.best_estimator_\n",
    "    undersample_prediction = undersample_model.predict(undersampled_X_train[test])\n",
    "\n",
    "    undersample_accuracy.append(undersample_pipeline.score(undersampled_X_train[test], undersample_y_train[test]))\n",
    "    undersample_precision.append(precision_score(undersample_y_train[test], undersample_prediction))\n",
    "    undersample_recall.append(recall_score(undersample_y_train[test], undersample_prediction))\n",
    "    undersample_f1.append(f1_score(undersample_y_train[test], undersample_prediction))\n",
    "    undersample_auc.append(roc_auc_score(undersample_y_train[test], undersample_prediction))\n",
    "\n",
    "    undersample_val_prediction = undersample_model.predict(undersampled_X_val)\n",
    "    undersample_val_accuracy.append(undersample_pipeline.score(undersampled_X_val, undersample_y_val))\n",
    "    undersample_val_precision.append(precision_score(undersample_y_val, undersample_val_prediction))\n",
    "    undersample_val_recall.append(recall_score(undersample_y_val, undersample_val_prediction))\n",
    "    undersample_val_f1.append(f1_score(undersample_y_val, undersample_val_prediction))\n",
    "    undersample_val_auc.append(roc_auc_score(undersample_y_val, undersample_val_prediction))\n",
    "\n",
    "\n",
    "print(\"Training Data Accuracy Score: {:.2f}\".format(np.mean(undersample_accuracy)))\n",
    "print(\"Training Data Precision Score: {:.2f}\".format(np.mean(undersample_precision)))\n",
    "print(\"Training Data Recall Score: {:.2f}\".format(np.mean(undersample_recall)))\n",
    "print(\"Training Data F1 Score: {:.2f}\".format(np.mean(undersample_f1)))\n",
    "print(\"Training Data ROC AUC: {:.2f}\".format(np.mean(undersample_auc)))\n",
    "print(\"*\"*100)\n",
    "print(\"Validation Data Accuracy Score: {:.2f}\".format(np.mean(undersample_val_accuracy)))\n",
    "print(\"Validation Data Precision Score: {:.2f}\".format(np.mean(undersample_val_precision)))\n",
    "print(\"Validation Data Recall Score: {:.2f}\".format(np.mean(undersample_val_recall)))\n",
    "print(\"Validation Data F1 Score: {:.2f}\".format(np.mean(undersample_val_f1)))\n",
    "print(\"Validation Data ROC AUC: {:.2f}\".format(np.mean(undersample_val_auc)))"
   ]
  },
  {
   "cell_type": "code",
   "execution_count": null,
   "id": "7ccd1578-880a-428b-b4c4-0680474401b2",
   "metadata": {},
   "outputs": [],
   "source": [
    "undersampled_data = data.copy()\n",
    "\n",
    "# # Label encoding for categoricals\n",
    "# for colname in undersampled_data.select_dtypes(\"object\"):\n",
    "#     undersampled_data[colname], _ = undersampled_data[colname].factorize()\n",
    "\n",
    "# undersample_X = undersampled_data.drop(['target', 'request_datetime'], axis=1)\n",
    "# undersample_y = undersampled_data['target']\n",
    "\n",
    "# for train_index, test_index in sss.split(undersample_X, undersample_y):\n",
    "#     print(\"Train:\", train_index, \"Test:\", test_index)\n",
    "#     undersample_Xtrain, undersample_Xtest = undersample_X.iloc[train_index], undersample_X.iloc[test_index]\n",
    "#     undersample_ytrain, undersample_ytest = undersample_y.iloc[train_index], undersample_y.iloc[test_index]\n",
    "\n",
    "# Implementing NearMiss Technique\n",
    "# Distribution of NearMiss (Just to see how it distributes the labels we won't use these variables)\n",
    "nm = NearMiss(sampling_strategy='majority')\n",
    "X_train_nearmiss, y_train_nearmiss = nm.fit_resample(X_train.values, y_train.values)\n",
    "X_val_nearmiss, y_val_nearmiss = nm.fit_resample(X_val.values, y_val.values)\n",
    "\n",
    "# print('NearMiss Label Distribution: {}'.format(Counter(y_nearmiss)))\n",
    "# Cross Validating the right way\n",
    "# X_train, X_test, y_train, y_test = train_test_split(X_nearmiss, y_nearmiss, stratify = y_nearmiss, test_size=.25, random_state =123)\n",
    "\n",
    "clf = LazyClassifier(verbose=0,ignore_warnings=True, custom_metric=None)\n",
    "models,predictions = clf.fit(X_train_nearmiss, X_val_nearmiss, y_train_nearmiss, y_val_nearmiss)\n",
    "\n",
    "print(models)"
   ]
  },
  {
   "cell_type": "markdown",
   "id": "81e25da5-59d5-47d5-a398-f59fc9b2c029",
   "metadata": {},
   "source": [
    "## Results of Models on Scaled Data when \"new_origin_latitude\", \"new_origin_longitute\", and \"approximate_distance_meter\" Skeweness were resolved"
   ]
  },
  {
   "cell_type": "raw",
   "id": "71d475f5-d582-4d5b-a7dc-2c9c0ff9d93c",
   "metadata": {},
   "source": [
    "#RandomForest default\n",
    "Accuracy Score: 0.45\n",
    "Precision Score: 0.21\n",
    "Recall Score: 0.65\n",
    "F1 Score: 0.31\n",
    "AUC: 0.53"
   ]
  },
  {
   "cell_type": "raw",
   "id": "787182a2-ecc4-4135-bfb0-82d16cdc9648",
   "metadata": {},
   "source": [
    "#DecisionTree default\n",
    "Accuracy Score: 0.47\n",
    "Precision Score: 0.20\n",
    "Recall Score: 0.60\n",
    "F1 Score: 0.30\n",
    "AUC: 0.52"
   ]
  },
  {
   "cell_type": "raw",
   "id": "c03a85ac-b467-474f-88c6-8e6285a8ed30",
   "metadata": {},
   "source": [
    "#KNN default\n",
    "Accuracy Score: 0.41\n",
    "Precision Score: 0.19\n",
    "Recall Score: 0.63\n",
    "F1 Score: 0.29\n",
    "AUC: 0.49"
   ]
  },
  {
   "cell_type": "raw",
   "id": "d4ef74b6-29dd-4d9d-b771-486cb12dc575",
   "metadata": {},
   "source": [
    "#SVC default\n",
    "Accuracy Score: 0.48\n",
    "Precision Score: 0.18\n",
    "Recall Score: 0.47\n",
    "F1 Score: 0.26\n",
    "AUC: 0.48"
   ]
  },
  {
   "cell_type": "raw",
   "id": "986ee420-96b9-428c-9c4d-522be0860321",
   "metadata": {},
   "source": [
    "#logistic regression default\n",
    "Accuracy Score: 0.72\n",
    "Precision Score: 0.13\n",
    "Recall Score: 0.14\n",
    "F1 Score: 0.12\n",
    "AUC: 0.50"
   ]
  },
  {
   "cell_type": "code",
   "execution_count": null,
   "id": "3e4987b3-e334-4962-a2c2-3808b4fe3884",
   "metadata": {},
   "outputs": [],
   "source": [
    "#xgboost default\n",
    "Accuracy Score: 0.46\n",
    "Precision Score: 0.21\n",
    "Recall Score: 0.65\n",
    "F1 Score: 0.31\n",
    "AUC: 0.53"
   ]
  },
  {
   "cell_type": "raw",
   "id": "67bf5034-8955-429a-881e-6b1803e5fa7d",
   "metadata": {},
   "source": [
    "#xgb1\n",
    "Accuracy Score: 0.46\n",
    "Precision Score: 0.21\n",
    "Recall Score: 0.65\n",
    "F1 Score: 0.32\n",
    "AUC: 0.53"
   ]
  },
  {
   "cell_type": "raw",
   "id": "e80de3e3-1507-4269-8ebe-0fdbd5eba28f",
   "metadata": {},
   "source": [
    "#randomcvsearch\n",
    "Accuracy Score: 0.44\n",
    "Precision Score: 0.20\n",
    "Recall Score: 0.64\n",
    "F1 Score: 0.31\n",
    "AUC: 0.52"
   ]
  },
  {
   "cell_type": "markdown",
   "id": "a2ecf947-294a-48f6-8597-8df632d4cdee",
   "metadata": {},
   "source": [
    "## Use Oversampling to Deal with Imbalanced Dataset"
   ]
  },
  {
   "cell_type": "code",
   "execution_count": null,
   "id": "33ce5e19-d9f0-49ec-a08a-8d14ca640e25",
   "metadata": {},
   "outputs": [],
   "source": [
    "# undersampled_data = data.copy()\n",
    "oversampled_X_train = X_train.copy()\n",
    "oversampled_X_val = X_val.copy()\n",
    "\n",
    "\n",
    "# Classifier with optimal parameters\n",
    "# xgb_sm = gsearch7.best_estimator_\n",
    "# xgb_sm = XGBClassifier(\n",
    "#  learning_rate =0.1,\n",
    "#  n_estimators=1000,\n",
    "#  max_depth=5,\n",
    "#  min_child_weight=1,\n",
    "#  gamma=0,\n",
    "#  subsample=0.8,\n",
    "#  colsample_bytree=0.8,\n",
    "#  objective= 'binary:logistic',\n",
    "#  nthread=4,\n",
    "#  scale_pos_weight=1,\n",
    "#  seed=27)\n",
    "\n",
    "oversampled_X_train = oversampled_X_train.values\n",
    "oversampled_X_val = oversampled_X_val.values\n",
    "oversample_y_train = y_train.values\n",
    "oversample_y_val = y_val.values\n",
    "\n",
    "oversample_accuracy = []\n",
    "oversample_precision = []\n",
    "oversample_recall = []\n",
    "oversample_f1 = []\n",
    "oversample_auc = []\n",
    "\n",
    "oversample_val_accuracy = []\n",
    "oversample_val_precision = []\n",
    "oversample_val_recall = []\n",
    "oversample_val_f1 = []\n",
    "oversample_val_auc = []\n",
    "\n",
    "# Implementing SMOTE Technique\n",
    "# Cross Validating the right way\n",
    "# Parameters\n",
    "xgb_params = {\n",
    " 'learning_rate' :[1e-3, 1e-2, 0.1, 0.2, 0.3],\n",
    " 'n_estimators' : [10, 100, 1000, 10000],\n",
    " 'max_depth':range(3,10,2),\n",
    " 'min_child_weight':range(1,6,2),\n",
    " 'gamma':[i/10.0 for i in range(0,5)],\n",
    " 'subsample':[i/10.0 for i in range(6,10)],\n",
    " 'colsample_bytree':[i/10.0 for i in range(6,10)],\n",
    " 'reg_alpha':[1e-5, 1e-2, 0.1, 1, 100],\n",
    " 'reg_lambda':[1e-5, 1e-2, 0.1, 1, 100]      \n",
    " }\n",
    "\n",
    "rand_xgb = RandomizedSearchCV(XGBClassifier(objective= 'binary:logistic'), xgb_params, n_iter=4)\n",
    "\n",
    "\n",
    "for train, test in sss.split(oversampled_X_train, oversample_y_train):\n",
    "    oversample_pipeline = imbalanced_make_pipeline(SMOTE(sampling_strategy='minority'), rand_xgb) # SMOTE happens during Cross Validation not before..\n",
    "    oversample_model = oversample_pipeline.fit(oversampled_X_train[train], oversample_y_train[train])\n",
    "    best_est = rand_xgb.best_estimator_\n",
    "    oversample_prediction = oversample_model.predict(oversampled_X_train[test])\n",
    "\n",
    "    oversample_accuracy.append(oversample_pipeline.score(oversampled_X_train[test], oversample_y_train[test]))\n",
    "    oversample_precision.append(precision_score(oversample_y_train[test], oversample_prediction))\n",
    "    oversample_recall.append(recall_score(oversample_y_train[test], oversample_prediction))\n",
    "    oversample_f1.append(f1_score(oversample_y_train[test], oversample_prediction))\n",
    "    oversample_auc.append(roc_auc_score(oversample_y_train[test], oversample_prediction))\n",
    "\n",
    "    oversample_val_prediction = oversample_model.predict(oversampled_X_val)\n",
    "    oversample_val_accuracy.append(oversample_pipeline.score(oversampled_X_val, oversample_y_val))\n",
    "    oversample_val_precision.append(precision_score(oversample_y_val, oversample_val_prediction))\n",
    "    oversample_val_recall.append(recall_score(oversample_y_val, oversample_val_prediction))\n",
    "    oversample_val_f1.append(f1_score(oversample_y_val, oversample_val_prediction))\n",
    "    oversample_val_auc.append(roc_auc_score(oversample_y_val, oversample_val_prediction))\n",
    "\n",
    "\n",
    "print(\"Training Data Accuracy Score: {:.2f}\".format(np.mean(oversample_accuracy)))\n",
    "print(\"Training Data Precision Score: {:.2f}\".format(np.mean(oversample_precision)))\n",
    "print(\"Training Data Recall Score: {:.2f}\".format(np.mean(oversample_recall)))\n",
    "print(\"Training Data F1 Score: {:.2f}\".format(np.mean(oversample_f1)))\n",
    "print(\"Training Data ROC AUC: {:.2f}\".format(np.mean(oversample_auc)))\n",
    "print(\"*\"*100)\n",
    "print(\"Validation Data Accuracy Score: {:.2f}\".format(np.mean(oversample_val_accuracy)))\n",
    "print(\"Validation Data Precision Score: {:.2f}\".format(np.mean(oversample_val_precision)))\n",
    "print(\"Validation Data Recall Score: {:.2f}\".format(np.mean(oversample_val_recall)))\n",
    "print(\"Validation Data F1 Score: {:.2f}\".format(np.mean(oversample_val_f1)))\n",
    "print(\"Validation Data ROC AUC: {:.2f}\".format(np.mean(oversample_val_auc)))"
   ]
  },
  {
   "cell_type": "code",
   "execution_count": null,
   "id": "16134db5-d277-4d24-9292-13bcf62461bc",
   "metadata": {},
   "outputs": [],
   "source": [
    "# oversampled_data = data.copy()\n",
    "\n",
    "# # Label encoding for categoricals\n",
    "# for colname in oversampled_data.select_dtypes(\"object\"):\n",
    "#     oversampled_data[colname], _ = oversampled_data[colname].factorize()\n",
    "\n",
    "# oversampled_X = oversampled_data.drop(['target', 'request_datetime'], axis=1)\n",
    "# oversampled_y = oversampled_data['target']\n",
    "\n",
    "smt = SMOTE(sampling_strategy='minority')\n",
    "X_train_smote, y_train_smote = smt.fit_resample(X_train.values, y_train.values)\n",
    "X_val_smote, y_val_smote = smt.fit_resample(X_val.values, y_val.values)\n",
    "\n",
    "clf = LazyClassifier(verbose=0,ignore_warnings=True, custom_metric=None)\n",
    "models,predictions = clf.fit(X_train_smote, X_val_smote, y_train_smote, y_val_smote)\n",
    "\n",
    "print(models)"
   ]
  },
  {
   "cell_type": "markdown",
   "id": "7b9d2a9d-9e5a-426f-aeec-edcbb5e0756d",
   "metadata": {},
   "source": [
    "## Resolving the Skewness of Positively Skewed Features"
   ]
  },
  {
   "cell_type": "markdown",
   "id": "69643642-a085-41e1-81fd-afb3391c7d01",
   "metadata": {},
   "source": [
    "## Resolving Skewness of Approximate Distance feature"
   ]
  },
  {
   "cell_type": "code",
   "execution_count": null,
   "id": "b069ddd0-88eb-4d91-a68b-f34feb7b308c",
   "metadata": {},
   "outputs": [],
   "source": [
    "sns.distplot(data['approximate_distance_meter'], bins = 20);"
   ]
  },
  {
   "cell_type": "code",
   "execution_count": null,
   "id": "b01ece3c-091f-404e-aee7-113284d61b53",
   "metadata": {},
   "outputs": [],
   "source": [
    "data['approximate_distance_meter'].describe(), print(\"Median       \", data['approximate_distance_meter'].median())"
   ]
  },
  {
   "cell_type": "code",
   "execution_count": null,
   "id": "6e82ba06-5ef8-4ef2-8fc4-a06d23c0dff5",
   "metadata": {},
   "outputs": [],
   "source": [
    "data['approximate_distance_meter'].quantile(0.25), data['approximate_distance_meter'].quantile(0.75)"
   ]
  },
  {
   "cell_type": "code",
   "execution_count": null,
   "id": "932b8e13-60d2-4f19-910c-df63a6dfa571",
   "metadata": {},
   "outputs": [],
   "source": [
    "IQR = data['approximate_distance_meter'].quantile(0.75) - data['approximate_distance_meter'].quantile(0.25)\n",
    "IQR"
   ]
  },
  {
   "cell_type": "code",
   "execution_count": null,
   "id": "61e5ab43-9453-4cb6-8bb2-0a59c92c06e0",
   "metadata": {},
   "outputs": [],
   "source": [
    "Q1 = data['approximate_distance_meter'].quantile(0.25)\n",
    "Q3 = data['approximate_distance_meter'].quantile(0.75)\n",
    "whisker_1 = Q1 - (1.5*IQR)\n",
    "whisker_2 = Q3 + (1.5*IQR)\n",
    "\n",
    "whisker_1, whisker_2"
   ]
  },
  {
   "cell_type": "code",
   "execution_count": null,
   "id": "71200bfd-b2cd-4a53-b5e0-8411e79a8f84",
   "metadata": {},
   "outputs": [],
   "source": [
    "data = data.loc[(data['approximate_distance_meter'] > -2044) & (data['approximate_distance_meter'] < 11225)]\n",
    "data.shape"
   ]
  },
  {
   "cell_type": "code",
   "execution_count": null,
   "id": "e1e5bc97-a332-432c-8c25-4bd25e25df3d",
   "metadata": {},
   "outputs": [],
   "source": [
    "sns.distplot(data['approximate_distance_meter'], bins = 20)\n",
    "plt.show()"
   ]
  },
  {
   "cell_type": "code",
   "execution_count": null,
   "id": "522f00bf-8f75-4175-b288-b8dd9160559d",
   "metadata": {},
   "outputs": [],
   "source": [
    "# USING UNSCALED DATA\n",
    "xgb1 = XGBClassifier(\n",
    " learning_rate =0.1,\n",
    " n_estimators=1000,\n",
    " max_depth=5,\n",
    " min_child_weight=1,\n",
    " gamma=0,\n",
    " subsample=0.8,\n",
    " colsample_bytree=0.8,\n",
    " objective= 'binary:logistic',\n",
    " nthread=4,\n",
    " scale_pos_weight=1,\n",
    " seed=27)\n",
    "# New_df is from the random undersample data (fewer instances)\n",
    "# , 'request_datetime', \n",
    "#                     'passenger_unique_identifier', 'driver_unique_identifier'\n",
    "\n",
    "temp_unscaled_data = data.copy()\n",
    "\n",
    "# Label encoding for categoricals\n",
    "for colname in temp_unscaled_data.select_dtypes(\"object\"):\n",
    "    temp_unscaled_data[colname], _ = temp_unscaled_data[colname].factorize()\n",
    "\n",
    "# All discrete features should now have integer dtypes (double-check this before using MI!)\n",
    "discrete_features = temp_unscaled_data.dtypes == int\n",
    "\n",
    "skewed_cols = ['approximate_distance_meter', 'final_price', 'second_destination_final_price', 'round_ride_final_price']\n",
    "# for skewed_col in skewed_cols:\n",
    "#     tmp_data[skewed_col] = np.sqrt(tmp_data[skewed_col])\n",
    "\n",
    "from scipy import stats\n",
    "\n",
    "transformed_data = {}\n",
    "for col in skewed_cols:\n",
    "\n",
    "    # Find the optimal lambda for Box-Cox transformation\n",
    "    temp_unscaled_data[col] = temp_unscaled_data[col].map(lambda x: x if x > 0 else 0.0001)  # Filter positive values (creates a DataFrame)\n",
    "    \n",
    "    temp_unscaled_data[col] , bcx_lambda = stats.boxcox(temp_unscaled_data[col])\n",
    "\n",
    "    # Apply the transformation with the optimal lambda\n",
    "    # if bcx_lambda == 0:\n",
    "    #     temp_unscaled_data[col] = np.sqrt(temp_unscaled_data[col])  # Handle lambda of 0 (log transformation)\n",
    "    # else:\n",
    "    #     temp_unscaled_data[col] = stats.boxcox(temp_unscaled_data[col], lmbda=bcx_lambda)[0]\n",
    "\n",
    "X_train = temp_unscaled_data.drop(['target','request_datetime'], axis=1)\n",
    "y_train = temp_unscaled_data['target']\n",
    "\n",
    "modelfit(xgb1, X_train, y_train)"
   ]
  },
  {
   "cell_type": "code",
   "execution_count": null,
   "id": "c762fc65-10ff-4299-aa3c-894f269a7f3c",
   "metadata": {},
   "outputs": [],
   "source": [
    "sns.scatterplot(\n",
    "    x=X_reduced_pca[:,0], \n",
    "    y=X_reduced_pca[:,1],\n",
    "    hue=y,\n",
    "    data=data,\n",
    "    palette=\"Set2\",  # Adjust color palette for better visualization\n",
    ")\n",
    "plt.title(\"Scatter Plot - feature1 vs feature2\")\n",
    "plt.show()"
   ]
  },
  {
   "cell_type": "code",
   "execution_count": null,
   "id": "7ad1a061-3dc0-4bc3-96f9-2cb638d0bac9",
   "metadata": {},
   "outputs": [],
   "source": [
    "def haversine_distance(lat1, lng1, lat2, lng2):\n",
    "    lat1, lng1, lat2, lng2 = map(np.radians, (lat1, lng1, lat2, lng2))\n",
    "    AVG_EARTH_RADIUS = 6371  # in km\n",
    "    lat = lat2 - lat1\n",
    "    lng = lng2 - lng1\n",
    "    d = np.sin(lat * 0.5) ** 2 + np.cos(lat1) * np.cos(lat2) * np.sin(lng * 0.5) ** 2\n",
    "    h = 2 * AVG_EARTH_RADIUS * np.arcsin(np.sqrt(d))\n",
    "    return h\n",
    "\n",
    "data['1st_dest_haversine_distance'] = haversine_distance(data['new_origin_latitude'].values, \n",
    "                                                     data['new_origin_longitude'].values, \n",
    "                                                     data['destination_latitude'].values, \n",
    "                                                     data['destination_longitude'].values)\n",
    "\n",
    "# data['2nd_dest_haversine_distance'] = haversine_distance(data['destination_latitude'].values, \n",
    "#                                                      data['destination_longitude'].values, \n",
    "#                                                      data['second_destination_latitude'].values, \n",
    "#                                                      data['second_destination_longitude'].values)\n",
    "\n",
    "# data['total_haversine_distance'] = data['1st_dest_haversine_distance'] + data['2nd_dest_haversine_distance']"
   ]
  },
  {
   "cell_type": "code",
   "execution_count": null,
   "id": "ca13e0b3-6e0a-4220-9898-e1b9e5a816d9",
   "metadata": {},
   "outputs": [],
   "source": [
    "data['1st_dest_haversine_distance'].median(), data['1st_dest_haversine_distance'].mean()"
   ]
  },
  {
   "cell_type": "code",
   "execution_count": null,
   "id": "e2abfdd3-87c0-4cf8-b824-8aa80edd0c6f",
   "metadata": {},
   "outputs": [],
   "source": [
    "data.head()"
   ]
  },
  {
   "cell_type": "code",
   "execution_count": null,
   "id": "221524b6-590d-4fd0-8825-198ae0035d79",
   "metadata": {},
   "outputs": [],
   "source": [
    "data[num_cols].hist(figsize=(12,12),bins=20)\n",
    "plt.show()"
   ]
  },
  {
   "cell_type": "code",
   "execution_count": null,
   "id": "7dca05c6-e8c1-49d4-a295-a54e09cb2a6f",
   "metadata": {},
   "outputs": [],
   "source": [
    "for col in cat_cols:\n",
    "    print()\n",
    "    print(f\"\\033[1m{col}\\033[0m\\n\") #print column name above the plot\n",
    "    data[col].value_counts().sort_index().plot(kind='bar', rot=0, xlabel=col,ylabel='count')\n",
    "    plt.show()"
   ]
  },
  {
   "cell_type": "code",
   "execution_count": null,
   "id": "57b7063c-a0a8-4344-963f-a6d2fad56104",
   "metadata": {},
   "outputs": [],
   "source": [
    "from pandas import set_option\n",
    "\n",
    "data2 = data.copy()\n",
    "for cat_col in cat_cols:\n",
    "    data2[cat_col], _ = data2[cat_col].factorize()\n",
    "    \n",
    "set_option('display.precision', 3)\n",
    "correlation=data2.corr(method='pearson')\n",
    "correlation"
   ]
  },
  {
   "cell_type": "code",
   "execution_count": null,
   "id": "38827fd0-2bd8-4699-a4de-97a70c7ab960",
   "metadata": {},
   "outputs": [],
   "source": [
    "# Plot correlation matrix in heatmap\n",
    "fig, ax = plt.subplots(figsize=(10, 6))\n",
    "sns.heatmap(data2.corr(), ax=ax, annot=True)\n",
    "plt.show()"
   ]
  },
  {
   "cell_type": "code",
   "execution_count": null,
   "id": "ee395d80-fa48-4d90-87c0-af527f673ee4",
   "metadata": {},
   "outputs": [],
   "source": [
    "data.head()"
   ]
  },
  {
   "cell_type": "code",
   "execution_count": null,
   "id": "7ad81ec1-53bc-4c03-a53b-299ee6e84c39",
   "metadata": {},
   "outputs": [],
   "source": [
    "pd.concat([data[num_cols], data['target'].astype('float64')])"
   ]
  },
  {
   "cell_type": "code",
   "execution_count": null,
   "id": "2ae22c41-fdae-492b-a524-4dc3ed7a9a99",
   "metadata": {},
   "outputs": [],
   "source": [
    "fig, ax = plt.subplots(3,1, figsize=(12, 12))\n",
    "## Correlation coefficient using different methods\n",
    "\n",
    "num_data = pd.concat([data[num_cols], data['target'].astype('float64')], axis = 1)\n",
    "corr1 = num_data.corr('pearson')[['target']].sort_values(by='target', ascending=False)\n",
    "corr2 = num_data.corr('spearman')[['target']].sort_values(by='target', ascending=False)\n",
    "corr3 = num_data.corr('kendall')[['target']].sort_values(by='target', ascending=False)\n",
    "\n",
    "#setting titles for each plot\n",
    "ax[0].set_title('Pearson method')\n",
    "ax[1].set_title('spearman method')\n",
    "ax[2].set_title('Kendall method')\n",
    "## Generating heatmaps of each methods\n",
    "sns.heatmap(corr1, ax=ax[0], annot=True)\n",
    "sns.heatmap(corr2, ax=ax[1], annot=True)\n",
    "sns.heatmap(corr3, ax=ax[2], annot=True)\n",
    "\n",
    "plt.show()"
   ]
  },
  {
   "cell_type": "code",
   "execution_count": null,
   "id": "a5d48b11-ef93-450a-811f-a3d20cbfb693",
   "metadata": {},
   "outputs": [],
   "source": [
    "for col in num_cols:\n",
    "    print(col)\n",
    "    print('Skew :', round(data[col].skew(), 2))\n",
    "    plt.figure(figsize = (15, 4))\n",
    "    plt.subplot(1, 2, 1)\n",
    "    data[col].hist(grid=False)\n",
    "    plt.ylabel('count')\n",
    "    plt.subplot(1, 2, 2)\n",
    "    sns.boxplot(x=data[col])\n",
    "    plt.show()"
   ]
  },
  {
   "cell_type": "code",
   "execution_count": null,
   "id": "bec2927f-c422-4f01-a799-de37f79b074d",
   "metadata": {},
   "outputs": [],
   "source": [
    "rows = len(cat_cols)//2 + 1\n",
    "fig, axes = plt.subplots(rows, 2, figsize = (18, 18))\n",
    "fig.suptitle('Bar plot for all categorical variables in the dataset')\n",
    "i = 0\n",
    "j = 0\n",
    "for cat_var in cat_cols:\n",
    "   \n",
    "    sns.countplot(ax = axes[i, j], x = cat_var, data = data, color = 'blue', \n",
    "                  order = data[cat_var].value_counts().index);\n",
    "\n",
    "    j += 1\n",
    "    if j > 1:\n",
    "        i += 1\n",
    "        j = 0\n",
    "    \n"
   ]
  },
  {
   "cell_type": "code",
   "execution_count": null,
   "id": "d1d85657-2356-4840-8447-367e0fbb2837",
   "metadata": {},
   "outputs": [],
   "source": [
    "plt.figure(figsize=(13,17))\n",
    "sns.pairplot(data=data.drop(['target'],axis=1))\n",
    "plt.show()"
   ]
  },
  {
   "cell_type": "code",
   "execution_count": null,
   "id": "8a00c002-0eba-4748-893d-6873a3671245",
   "metadata": {},
   "outputs": [],
   "source": [
    "import matplotlib.pyplot as plt\n",
    "plt.scatter(x=data['destination_latitude'], y=data['destination_longitude'])\n",
    "plt.show()"
   ]
  },
  {
   "cell_type": "code",
   "execution_count": null,
   "id": "96a700d1-e082-4d06-9510-f2e4ae6fd01e",
   "metadata": {},
   "outputs": [],
   "source": [
    "import matplotlib.pyplot as plt\n",
    "plt.scatter(x=data['second_destination_latitude'], y=data['second_destination_longitude'])\n",
    "plt.show()"
   ]
  },
  {
   "cell_type": "code",
   "execution_count": null,
   "id": "72ca5640-3c0f-48a1-aa93-5f392f08f503",
   "metadata": {},
   "outputs": [],
   "source": [
    "import matplotlib.pyplot as plt\n",
    "plt.scatter(x=data['origin_latitude'], y=data['origin_longitude'])\n",
    "plt.show()"
   ]
  },
  {
   "cell_type": "code",
   "execution_count": null,
   "id": "6400c310-48af-4807-b761-4062914adb2a",
   "metadata": {},
   "outputs": [],
   "source": [
    "import matplotlib.pyplot as plt\n",
    "plt.scatter(x=data['new_origin_latitude'], y=data['new_origin_longitude'])\n",
    "plt.show()"
   ]
  },
  {
   "cell_type": "code",
   "execution_count": null,
   "id": "6121f3af-3daa-4cf1-941c-3a8179def3bb",
   "metadata": {},
   "outputs": [],
   "source": [
    "import plotly.express as px\n",
    "import pandas as pd\n",
    "\n",
    "\n",
    "fig = px.scatter_geo(data,lat='new_origin_latitude',lon='new_origin_longitude', hover_name=\"request_datetime\")\n",
    "fig.update_layout(title = 'World map', title_x=0.5)\n",
    "fig.show()"
   ]
  },
  {
   "cell_type": "code",
   "execution_count": null,
   "id": "aa9dba81-9680-4792-8527-ef5a0fec0330",
   "metadata": {},
   "outputs": [],
   "source": [
    "import plotly.express as px\n",
    "import pandas as pd\n",
    "\n",
    "\n",
    "fig = px.scatter_geo(data,lat='origin_latitude',lon='origin_longitude', hover_name=\"request_datetime\")\n",
    "fig.update_layout(title = 'World map', title_x=0.5)\n",
    "fig.show()"
   ]
  },
  {
   "cell_type": "code",
   "execution_count": null,
   "id": "fafe49bd-08c9-4d11-9bc6-87595349d7a6",
   "metadata": {},
   "outputs": [],
   "source": [
    "import plotly.express as px\n",
    "import pandas as pd\n",
    "\n",
    "\n",
    "color_scale = [(0, 'orange'), (1,'red')]\n",
    "\n",
    "fig = px.scatter_mapbox(data,lat='new_origin_latitude',lon='new_origin_longitude', \n",
    "                        zoom=8, \n",
    "                        height=800,\n",
    "                        width=800)\n",
    "\n",
    "fig.update_layout(mapbox_style=\"open-street-map\")\n",
    "fig.update_layout(margin={\"r\":0,\"t\":0,\"l\":0,\"b\":0})\n",
    "fig.show()"
   ]
  },
  {
   "cell_type": "code",
   "execution_count": null,
   "id": "f7bbfcd0-107f-4481-84a3-f4b950f82151",
   "metadata": {},
   "outputs": [],
   "source": [
    "import plotly.express as px\n",
    "import pandas as pd\n",
    "\n",
    "\n",
    "color_scale = [(0, 'orange'), (1,'red')]\n",
    "\n",
    "fig = px.scatter_mapbox(data,lat='origin_latitude',lon='origin_longitude', \n",
    "                        zoom=8, \n",
    "                        height=800,\n",
    "                        width=800)\n",
    "\n",
    "fig.update_layout(mapbox_style=\"open-street-map\")\n",
    "fig.update_layout(margin={\"r\":0,\"t\":0,\"l\":0,\"b\":0})\n",
    "fig.show()"
   ]
  },
  {
   "cell_type": "code",
   "execution_count": null,
   "id": "0fba9590-5315-4e25-9dac-ffb8197a9d4d",
   "metadata": {},
   "outputs": [],
   "source": [
    "data[num_cols].plot(kind='density',figsize=(14,14),subplots=True,layout=(8,2),title=\"Density plot of Numerical features\",sharex=False)\n",
    "plt.show()"
   ]
  },
  {
   "cell_type": "code",
   "execution_count": null,
   "id": "49a2d3f3-e6f7-4867-a7c8-ada5c0932bfc",
   "metadata": {},
   "outputs": [],
   "source": [
    "# Assuming your target variable is named 'target' and is binary encoded (0 or 1)\n",
    "target_var = 'target'\n",
    "\n",
    "# Filter numerical and categorical features (replace with actual column names)\n",
    "numerical_features = data.select_dtypes(include=[\"int64\", \"float64\"]).columns.to_list()\n",
    "categorical_features = data.select_dtypes(include=[\"object\"]).columns.to_list()\n"
   ]
  },
  {
   "cell_type": "code",
   "execution_count": null,
   "id": "0592b74a-2474-4510-8b5b-f0b27ffb5e94",
   "metadata": {},
   "outputs": [],
   "source": [
    "numerical_corr = data[numerical_features + [target_var]].corr()"
   ]
  },
  {
   "cell_type": "code",
   "execution_count": null,
   "id": "fb5a6fda-3fb0-4256-8119-b4f99feec3ca",
   "metadata": {},
   "outputs": [],
   "source": [
    "# Create a heatmap to visualize correlations\n",
    "sns.heatmap(numerical_corr, annot=True)\n",
    "plt.title('Correlation between Numerical Features and Target Variable')\n",
    "plt.show()"
   ]
  },
  {
   "cell_type": "code",
   "execution_count": null,
   "id": "c0ae0b91-a74d-42d6-be5d-903de3dabd38",
   "metadata": {},
   "outputs": [],
   "source": [
    "def plot_feature_relationships(data, numerical_features, categorical_features):\n",
    "  \"\"\"\n",
    "  Plots the relationship between a binary target variable and numerical/categorical features.\n",
    "\n",
    "  Args:\n",
    "      data: The pandas DataFrame containing the data.\n",
    "      numerical_features: List of column names for numerical features.\n",
    "      categorical_features: List of column names for categorical features.\n",
    "  \"\"\"\n",
    "  num_rows = len(numerical_features) + len(categorical_features)\n",
    "  num_cols = 2\n",
    "\n",
    "  # Create a figure for subplots\n",
    "  fig, axes = plt.subplots(num_rows, num_cols, figsize=(12, num_rows * 4))\n",
    "\n",
    "  row_idx = 0\n",
    "  col_idx = 0\n",
    "\n",
    "  # Plot relationships for numerical features\n",
    "  for feature in numerical_features:\n",
    "    sns.kdeplot(data[data[target_var] == 0][feature], label=\"Target 0\", ax=axes[row_idx, col_idx])\n",
    "    sns.kdeplot(data[data[target_var] == 1][feature], label=\"Target 1\", ax=axes[row_idx, col_idx])\n",
    "    axes[row_idx, col_idx].set_title(feature)\n",
    "    axes[row_idx, col_idx].legend()\n",
    "    col_idx += 1\n",
    "    if col_idx >= num_cols:\n",
    "      col_idx = 0\n",
    "      row_idx += 1\n",
    "\n",
    "  # Plot relationships for categorical features\n",
    "  for feature in categorical_features:\n",
    "    sns.histplot(data[feature], hue=target_var, multiple=\"dodge\", ax=axes[row_idx, col_idx])\n",
    "    axes[row_idx, col_idx].set_title(feature)\n",
    "    axes[row_idx, col_idx].legend(title=target_var)\n",
    "    col_idx += 1\n",
    "    if col_idx >= num_cols:\n",
    "      col_idx = 0\n",
    "      row_idx += 1\n",
    "\n",
    "  # Adjust layout\n",
    "  fig.suptitle(\"Target Variable Distribution by Feature\", fontsize=16)\n",
    "  plt.tight_layout()\n",
    "  plt.show()\n",
    "\n",
    "plot_feature_relationships(data.copy(), numerical_features, categorical_features)\n"
   ]
  },
  {
   "cell_type": "code",
   "execution_count": null,
   "id": "811cf734-ed61-4f6e-b849-036048023023",
   "metadata": {},
   "outputs": [],
   "source": [
    "data['treatment_group'].value_counts()"
   ]
  },
  {
   "cell_type": "markdown",
   "id": "535b9a70-a41b-4ef1-aca8-c18a4a52c054",
   "metadata": {},
   "source": [
    "## Mutual Information between Features"
   ]
  },
  {
   "cell_type": "markdown",
   "id": "88ccf7b3-2dcf-4491-8fbe-eb7ca2e00090",
   "metadata": {},
   "source": [
    "Mutual information is a lot like correlation in that it measures a relationship between two quantities. The advantage of mutual information is that it can detect *any* kind of relationship, while correlation only detects *linear* relationships.\r\n",
    "\r\n",
    "Mutual information is a great general-purpose metric and especially useful at the start of feature development when you might not know what model you'd like to use yet. It is:\r\n",
    "- easy to use and interpret,\r\n",
    "- computationally efficient,\r\n",
    "- theoretically well-founded,\r\n",
    "- resistant to overfitting, and,\r\n",
    "- able to detect any kind of relationship\r\n",
    "\r\n",
    "# Mutual Information and What it Measures #\r\n",
    "\r\n",
    "Mutual information describes relationships in terms of *uncertainty*. The **mutual information** (MI) between two quantities is a measure of the extent to which knowledge of one quantity reduces uncertainty about the other. If you knew the value of a feature, how much more confident would you be about the target?\r\n",
    "\r\n",
    "Here's an example from the *Ames Housing* data. The figure shows the relationship between the exterior quality of a house and the price it sold for. Each point represents a house.\r\n",
    "\r\n",
    "<figure style=\"padding: 1em;\">\r\n",
    "<img src=\"https://storage.googleapis.com/kaggle-media/learn/images/X12ARUK.png\" width=400, alt=\"Four categories of ExterQual: Fair, Typical, Good, Excellent. A scatter plot of SalePrice within each category.\">\r\n",
    "<figcaption style=\"textalign: center; font-style: italic\"><center>Knowing the exterior quality of a house reduces uncertainty about its sale price.\r\n",
    "</center></figcaption>\r\n",
    "</figure>\r\n",
    "\r\n",
    "From the figure, we can see that knowing the value of `ExterQual` should make you more certain about the corresponding `SalePrice` -- each category of `ExterQual` tends to concentrate `SalePrice` to within a certain range. The mutual information that `ExterQual` has with `SalePrice` is the average reduction of uncertainty in `SalePrice` taken over the four values of `ExterQual`. Since `Fair` occurs less often than `Typical`, for instance, `Fair` gets less weight in the MI score.\r\n",
    "\r\n",
    "(Technical note: What we're calling uncertainty is measured using a quantity from information theory known as \"entropy\". The entropy of a variable means roughly: \"how many yes-or-no questions you would need to describe an occurance of that variable, on average.\" The more questions you have to ask, the more uncertain you must be about the variable. Mutual information is how many questions you expect the feature to answer about the target.)\r\n",
    "\r\n",
    "# Interpreting Mutual Information Scores #\r\n",
    "\r\n",
    "The least possible mutual information between quantities is 0.0. When MI is zero, the quantities are independent: neither can tell you anything about the other. Conversely, in theory there's no upper bound to what MI can be. In practice though values above 2.0 or so are uncommon. (Mutual information is a logarithmic quantity, so it increases very slowly.)\r\n",
    "\r\n",
    "The next figure will give you an idea of how MI values correspond to the kind and degree of association a feature has with the target.\r\n",
    "\r\n",
    "<figure style=\"padding: 1em;\">\r\n",
    "<img src=\"https://storage.googleapis.com/kaggle-media/learn/images/Dt75E1f.png\" width=800, alt=\"\">\r\n",
    "<figcaption style=\"textalign: center; font-style: italic\"><center><strong>Left:</strong> Mutual information increases as the dependence between feature and target becomes tighter. <strong>Right:</strong> Mutual information can capture any kind of association (not just linear, like correlation.)\r\n",
    "</center></figcaption>\r\n",
    "</figure>\r\n",
    "\r\n",
    "Here are some things to remember when applying mutual information:\r\n",
    "- MI can help you to understand the *relative potential* of a feature as a predictor of the target, considered by itself.\r\n",
    "- It's possible for a feature to be very informative when interacting with other features, but not so informative all alone. MI *can't detect interactions* between features. It is a **univariate** metric.\r\n",
    "- The *actual* usefulness of a feature *depends on the model you use it with*. A feature is only useful to the extent that its relationship with the target is one your model can learn. Just because a feature has a high MI score doesn't mean your model will be able to do anything with that information. You may need to transform the feature first to expose the association.\r\n"
   ]
  },
  {
   "cell_type": "code",
   "execution_count": null,
   "id": "aa93c1df-9e8c-4817-80bd-f7e22f2fef67",
   "metadata": {},
   "outputs": [],
   "source": [
    "X = data.copy()\n",
    "y = X.pop(\"target\")\n",
    "\n",
    "# Label encoding for categoricals\n",
    "for colname in X.select_dtypes(\"object\"):\n",
    "    X[colname], _ = X[colname].factorize()\n",
    "\n",
    "# All discrete features should now have integer dtypes (double-check this before using MI!)\n",
    "discrete_features = X.dtypes == int"
   ]
  },
  {
   "cell_type": "code",
   "execution_count": null,
   "id": "421a8f2c-45c8-4dcb-bd9c-c3460bb51cde",
   "metadata": {},
   "outputs": [],
   "source": [
    "from sklearn.feature_selection import mutual_info_classif, mutual_info_regression\n",
    "\n",
    "def make_mi_scores(X, y, discrete_features):\n",
    "    mi_scores = mutual_info_classif(X, y, discrete_features=discrete_features)\n",
    "    mi_scores = pd.Series(mi_scores, name=\"MI Scores\", index=X.columns)\n",
    "    mi_scores = mi_scores.sort_values(ascending=False)\n",
    "    return mi_scores\n",
    "\n",
    "mi_scores = make_mi_scores(X, y, discrete_features)\n",
    "mi_scores[::3]  # show a few features with their MI scores"
   ]
  },
  {
   "cell_type": "code",
   "execution_count": null,
   "id": "08c8a9ee-8584-47f5-8414-fd6c794b4541",
   "metadata": {},
   "outputs": [],
   "source": [
    "import numpy as np"
   ]
  },
  {
   "cell_type": "code",
   "execution_count": null,
   "id": "b867032e-be2a-47f5-855b-09e1882c0e64",
   "metadata": {},
   "outputs": [],
   "source": [
    "def plot_mi_scores(scores):\n",
    "    scores = scores.sort_values(ascending=True)\n",
    "    width = np.arange(len(scores))\n",
    "    ticks = list(scores.index)\n",
    "    plt.barh(width, scores)\n",
    "    plt.yticks(width, ticks)\n",
    "    plt.title(\"Mutual Information Scores\")\n",
    "\n",
    "\n",
    "plt.figure(dpi=100, figsize=(8, 5))\n",
    "plot_mi_scores(mi_scores)"
   ]
  },
  {
   "cell_type": "code",
   "execution_count": null,
   "id": "7e7a9cf7-9f2f-4a46-bf43-4f4c72866f83",
   "metadata": {},
   "outputs": [],
   "source": [
    "import seaborn as sns\n",
    "\n",
    "# plt.style.use(\"seaborn-whitegrid\")"
   ]
  },
  {
   "cell_type": "code",
   "execution_count": null,
   "id": "0a3d8a32-73be-4afa-99eb-b88546ea74e7",
   "metadata": {},
   "outputs": [],
   "source": [
    "sns.relplot(x=\"driver_unique_identifier\", y=\"ride (target)\", data=data);"
   ]
  },
  {
   "cell_type": "code",
   "execution_count": null,
   "id": "132d6923-fee8-4ba7-8831-cfc305a6c1e7",
   "metadata": {},
   "outputs": [],
   "source": []
  }
 ],
 "metadata": {
  "kernelspec": {
   "display_name": "Python 3 (ipykernel)",
   "language": "python",
   "name": "python3"
  },
  "language_info": {
   "codemirror_mode": {
    "name": "ipython",
    "version": 3
   },
   "file_extension": ".py",
   "mimetype": "text/x-python",
   "name": "python",
   "nbconvert_exporter": "python",
   "pygments_lexer": "ipython3",
   "version": "3.11.7"
  }
 },
 "nbformat": 4,
 "nbformat_minor": 5
}
